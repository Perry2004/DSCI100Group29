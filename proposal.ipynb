{
 "cells": [
  {
   "cell_type": "markdown",
   "id": "be072b66-8ca8-413e-9127-83d4157336e4",
   "metadata": {},
   "source": [
    "# Predicting Knowledge Level in Electrical DC Machines: A Data Analysis of Study Time and Exam Performance"
   ]
  },
  {
   "cell_type": "code",
   "execution_count": 24,
   "id": "0e70ba0b-6628-4f8d-a1d2-9c433efb1e89",
   "metadata": {
    "tags": [],
    "vscode": {
     "languageId": "python"
    }
   },
   "outputs": [],
   "source": [
    "# Run this cell before continuing.\n",
    "import altair as alt\n",
    "import numpy as np\n",
    "import pandas as pd\n",
    "from sklearn import set_config\n",
    "from sklearn.model_selection import GridSearchCV, cross_validate, train_test_split\n",
    "from sklearn.neighbors import KNeighborsRegressor\n",
    "from sklearn.pipeline import make_pipeline\n",
    "from sklearn.preprocessing import StandardScaler\n",
    "from sklearn.metrics import mean_squared_error\n",
    "\n",
    "# Simplify working with large datasets in Altair\n",
    "alt.data_transformers.disable_max_rows()\n",
    "\n",
    "# Output dataframes instead of arrays\n",
    "set_config(transform_output=\"pandas\")\n",
    "np.random.seed(1)"
   ]
  },
  {
   "cell_type": "markdown",
   "id": "8acb1d9f-6324-4f87-91a1-504716d3a92b",
   "metadata": {},
   "source": [
    "## Introduction \n",
    "In this data analysis, we will be using the “User Knowledge Modeling” dataset created by Hamdi Kahraman, Ilhami Colak and Seref Sagiroglu. This dataset is about the students’ knowledge level about the subject of Electrical DC Machines, which is a computer science subject. Our primary objective is to predict the knowledge levels of students by exploring the relationship between two key factors: study time and exam performance.\n",
    "\n",
    "To address this question, we have selected the necessary variables from the dataset which are “knowledge level”, “study time” and “exam performance”. The dataset has been loaded into Python and also wrangled and cleaned to ensure a tidy dataset for our analysis. In the following sections, we present the initial exploratory data analysis, multiple tables have been included to showcase the structure and general overview of our data. Additionally, to illustrate trends and patterns, we have incorporated a data visualization as well. These components aim to provide a better understanding of the dataset we are using "
   ]
  },
  {
   "cell_type": "code",
   "execution_count": 25,
   "id": "2c7f6b3c-e2cd-4a9c-b9b0-d9073f4ae7b6",
   "metadata": {
    "tags": [],
    "vscode": {
     "languageId": "python"
    }
   },
   "outputs": [],
   "source": [
    "url = \"https://drive.usercontent.google.com/download?id=1Px4pE2Xf1TEGfYV3ChaoRRRS0YZbKbX_&export=download&authuser=0&confirm=t&uuid=7c9d6e2b-f34f-423d-ad4f-f386faaa47d4&at=APZUnTUUdkEofob3B1bEEFJ0HcHq:1698615817259\"\n",
    "\n",
    "# import from two sheets and combine into one dataframe\n",
    "data_training_sheet = pd.read_excel(url, sheet_name=\"Training_Data\")\n",
    "data_testing_sheet = pd.read_excel(url, sheet_name=\"Test_Data\")\n",
    "data = pd.concat([data_training_sheet, data_testing_sheet])"
   ]
  },
  {
   "cell_type": "markdown",
   "id": "a1d3b4d1-0290-4f38-a219-2935de4179b4",
   "metadata": {},
   "source": [
    "## Methods \n",
    "After reading the data, we first combined the original training data and testing data into one object, finished the cleaning and wrangling process, then re-divided the data into training set and testing set. Doing the step instead of taking original sets is to reset the proportion of two sets and ensure a random division between two sets.\n",
    "\n",
    "Then we randomly picked two variables out of five (STG, SCG, STR, LPR, PEG) as axes to draw scatter plots for training data, with different colors assigned to different UNS. We found that points with different UNS are totally mixed together when we tried to use STG and SCG as axes, showing that these two variables may not be suitable for prediction. After several attempts, we figured out that while using STG and PEG as axes, points in different UNS classes distribute with clear boundaries against each other. Therefore, we decided to use STG (Study Time) and PEG (Exam Performance) to predict the classification of test data.\n",
    "\n",
    "Our next steps are to standardize values of STG and PEG, use results of cross validation within training data to select the best k, then use this k to predict the classification of testing data and finally evaluate the performance of our model.\n",
    "\n",
    "One possible way to visualize our results is to compare two scatter plots, one is the actual classification of testing data, another one is our prediction for testing data. Then we can try to capture the distribution of wrongly predicted points, to see whether they are some deviation points from the class, or there are other reasons behind incorrect prediction."
   ]
  },
  {
   "cell_type": "code",
   "execution_count": 26,
   "id": "1772eccb-5001-4f27-af79-782e87a1fc7c",
   "metadata": {
    "tags": [],
    "vscode": {
     "languageId": "python"
    }
   },
   "outputs": [],
   "source": [
    "# Drops comment columns \n",
    "data = data.drop(\n",
    "    columns=[\"Attribute Information:\", \"Unnamed: 6\", \"Unnamed: 7\"]\n",
    ")"
   ]
  },
  {
   "cell_type": "code",
   "execution_count": 27,
   "id": "7b0897cf-8b5c-4ba3-9c87-19e1a46c0b9e",
   "metadata": {
    "tags": [],
    "vscode": {
     "languageId": "python"
    }
   },
   "outputs": [
    {
     "data": {
      "text/html": [
       "<div>\n",
       "<style scoped>\n",
       "    .dataframe tbody tr th:only-of-type {\n",
       "        vertical-align: middle;\n",
       "    }\n",
       "\n",
       "    .dataframe tbody tr th {\n",
       "        vertical-align: top;\n",
       "    }\n",
       "\n",
       "    .dataframe thead th {\n",
       "        text-align: right;\n",
       "    }\n",
       "</style>\n",
       "<table border=\"1\" class=\"dataframe\">\n",
       "  <thead>\n",
       "    <tr style=\"text-align: right;\">\n",
       "      <th></th>\n",
       "      <th>Study Time</th>\n",
       "      <th>Repetition Time</th>\n",
       "      <th>Study Time for Related Objects</th>\n",
       "      <th>Exam Performance for Related Objects</th>\n",
       "      <th>Exam Performance</th>\n",
       "      <th>Knowledge Level</th>\n",
       "    </tr>\n",
       "  </thead>\n",
       "  <tbody>\n",
       "    <tr>\n",
       "      <th>0</th>\n",
       "      <td>0.00</td>\n",
       "      <td>0.00</td>\n",
       "      <td>0.00</td>\n",
       "      <td>0.00</td>\n",
       "      <td>0.00</td>\n",
       "      <td>very_low</td>\n",
       "    </tr>\n",
       "    <tr>\n",
       "      <th>1</th>\n",
       "      <td>0.08</td>\n",
       "      <td>0.08</td>\n",
       "      <td>0.10</td>\n",
       "      <td>0.24</td>\n",
       "      <td>0.90</td>\n",
       "      <td>High</td>\n",
       "    </tr>\n",
       "    <tr>\n",
       "      <th>2</th>\n",
       "      <td>0.06</td>\n",
       "      <td>0.06</td>\n",
       "      <td>0.05</td>\n",
       "      <td>0.25</td>\n",
       "      <td>0.33</td>\n",
       "      <td>Low</td>\n",
       "    </tr>\n",
       "    <tr>\n",
       "      <th>3</th>\n",
       "      <td>0.10</td>\n",
       "      <td>0.10</td>\n",
       "      <td>0.15</td>\n",
       "      <td>0.65</td>\n",
       "      <td>0.30</td>\n",
       "      <td>Middle</td>\n",
       "    </tr>\n",
       "    <tr>\n",
       "      <th>4</th>\n",
       "      <td>0.08</td>\n",
       "      <td>0.08</td>\n",
       "      <td>0.08</td>\n",
       "      <td>0.98</td>\n",
       "      <td>0.24</td>\n",
       "      <td>Low</td>\n",
       "    </tr>\n",
       "    <tr>\n",
       "      <th>...</th>\n",
       "      <td>...</td>\n",
       "      <td>...</td>\n",
       "      <td>...</td>\n",
       "      <td>...</td>\n",
       "      <td>...</td>\n",
       "      <td>...</td>\n",
       "    </tr>\n",
       "    <tr>\n",
       "      <th>140</th>\n",
       "      <td>0.90</td>\n",
       "      <td>0.78</td>\n",
       "      <td>0.62</td>\n",
       "      <td>0.32</td>\n",
       "      <td>0.89</td>\n",
       "      <td>High</td>\n",
       "    </tr>\n",
       "    <tr>\n",
       "      <th>141</th>\n",
       "      <td>0.85</td>\n",
       "      <td>0.82</td>\n",
       "      <td>0.66</td>\n",
       "      <td>0.83</td>\n",
       "      <td>0.83</td>\n",
       "      <td>High</td>\n",
       "    </tr>\n",
       "    <tr>\n",
       "      <th>142</th>\n",
       "      <td>0.56</td>\n",
       "      <td>0.60</td>\n",
       "      <td>0.77</td>\n",
       "      <td>0.13</td>\n",
       "      <td>0.32</td>\n",
       "      <td>Low</td>\n",
       "    </tr>\n",
       "    <tr>\n",
       "      <th>143</th>\n",
       "      <td>0.66</td>\n",
       "      <td>0.68</td>\n",
       "      <td>0.81</td>\n",
       "      <td>0.57</td>\n",
       "      <td>0.57</td>\n",
       "      <td>Middle</td>\n",
       "    </tr>\n",
       "    <tr>\n",
       "      <th>144</th>\n",
       "      <td>0.68</td>\n",
       "      <td>0.64</td>\n",
       "      <td>0.79</td>\n",
       "      <td>0.97</td>\n",
       "      <td>0.24</td>\n",
       "      <td>Middle</td>\n",
       "    </tr>\n",
       "  </tbody>\n",
       "</table>\n",
       "<p>403 rows × 6 columns</p>\n",
       "</div>"
      ],
      "text/plain": [
       "     Study Time  Repetition Time  Study Time for Related Objects  \\\n",
       "0          0.00             0.00                            0.00   \n",
       "1          0.08             0.08                            0.10   \n",
       "2          0.06             0.06                            0.05   \n",
       "3          0.10             0.10                            0.15   \n",
       "4          0.08             0.08                            0.08   \n",
       "..          ...              ...                             ...   \n",
       "140        0.90             0.78                            0.62   \n",
       "141        0.85             0.82                            0.66   \n",
       "142        0.56             0.60                            0.77   \n",
       "143        0.66             0.68                            0.81   \n",
       "144        0.68             0.64                            0.79   \n",
       "\n",
       "     Exam Performance for Related Objects  Exam Performance Knowledge Level  \n",
       "0                                    0.00              0.00        very_low  \n",
       "1                                    0.24              0.90            High  \n",
       "2                                    0.25              0.33             Low  \n",
       "3                                    0.65              0.30          Middle  \n",
       "4                                    0.98              0.24             Low  \n",
       "..                                    ...               ...             ...  \n",
       "140                                  0.32              0.89            High  \n",
       "141                                  0.83              0.83            High  \n",
       "142                                  0.13              0.32             Low  \n",
       "143                                  0.57              0.57          Middle  \n",
       "144                                  0.97              0.24          Middle  \n",
       "\n",
       "[403 rows x 6 columns]"
      ]
     },
     "execution_count": 27,
     "metadata": {},
     "output_type": "execute_result"
    }
   ],
   "source": [
    "# rename columns to make them more readable\n",
    "data = data.rename(\n",
    "    columns={\n",
    "        \"STG\": \"Study Time\",\n",
    "        \"SCG\": \"Repetition Time\",\n",
    "        \"STR\": \"Study Time for Related Objects\",\n",
    "        \"LPR\": \"Exam Performance for Related Objects\",\n",
    "        \"PEG\": \"Exam Performance\",\n",
    "        \" UNS\": \"Knowledge Level\"\n",
    "    }\n",
    ")\n",
    "data"
   ]
  },
  {
   "cell_type": "code",
   "execution_count": 28,
   "id": "f87b5f33-ee0e-41c2-9757-0882368ab25b",
   "metadata": {
    "tags": [],
    "vscode": {
     "languageId": "python"
    }
   },
   "outputs": [],
   "source": [
    "# split data into training and testing sets\n",
    "data_training, data_testing = train_test_split(\n",
    "    data,\n",
    "    test_size=0.25,\n",
    "    random_state=111\n",
    ")"
   ]
  },
  {
   "cell_type": "code",
   "execution_count": 29,
   "id": "01d7bfa8-0163-49fa-b7fd-04d2d4b111b4",
   "metadata": {
    "tags": [],
    "vscode": {
     "languageId": "python"
    }
   },
   "outputs": [
    {
     "name": "stdout",
     "output_type": "stream",
     "text": [
      "<class 'pandas.core.frame.DataFrame'>\n",
      "Int64Index: 302 entries, 130 to 82\n",
      "Data columns (total 6 columns):\n",
      " #   Column                                Non-Null Count  Dtype  \n",
      "---  ------                                --------------  -----  \n",
      " 0   Study Time                            302 non-null    float64\n",
      " 1   Repetition Time                       302 non-null    float64\n",
      " 2   Study Time for Related Objects        302 non-null    float64\n",
      " 3   Exam Performance for Related Objects  302 non-null    float64\n",
      " 4   Exam Performance                      302 non-null    float64\n",
      " 5   Knowledge Level                       302 non-null    object \n",
      "dtypes: float64(5), object(1)\n",
      "memory usage: 16.5+ KB\n"
     ]
    }
   ],
   "source": [
    "data_training.info()"
   ]
  },
  {
   "cell_type": "code",
   "execution_count": 30,
   "id": "f67d4b3c-0e44-45e7-b103-691e143ffe3e",
   "metadata": {
    "tags": [],
    "vscode": {
     "languageId": "python"
    }
   },
   "outputs": [
    {
     "name": "stdout",
     "output_type": "stream",
     "text": [
      "<class 'pandas.core.frame.DataFrame'>\n",
      "Int64Index: 101 entries, 137 to 65\n",
      "Data columns (total 6 columns):\n",
      " #   Column                                Non-Null Count  Dtype  \n",
      "---  ------                                --------------  -----  \n",
      " 0   Study Time                            101 non-null    float64\n",
      " 1   Repetition Time                       101 non-null    float64\n",
      " 2   Study Time for Related Objects        101 non-null    float64\n",
      " 3   Exam Performance for Related Objects  101 non-null    float64\n",
      " 4   Exam Performance                      101 non-null    float64\n",
      " 5   Knowledge Level                       101 non-null    object \n",
      "dtypes: float64(5), object(1)\n",
      "memory usage: 5.5+ KB\n"
     ]
    }
   ],
   "source": [
    "data_testing.info()"
   ]
  },
  {
   "cell_type": "code",
   "execution_count": 31,
   "id": "3ba41df8-612d-459a-ae24-a750d24fdea1",
   "metadata": {
    "tags": [],
    "vscode": {
     "languageId": "python"
    }
   },
   "outputs": [
    {
     "data": {
      "text/html": [
       "\n",
       "<div id=\"altair-viz-557d1850d33b4e6a8644bfa1e0e6c1ff\"></div>\n",
       "<script type=\"text/javascript\">\n",
       "  var VEGA_DEBUG = (typeof VEGA_DEBUG == \"undefined\") ? {} : VEGA_DEBUG;\n",
       "  (function(spec, embedOpt){\n",
       "    let outputDiv = document.currentScript.previousElementSibling;\n",
       "    if (outputDiv.id !== \"altair-viz-557d1850d33b4e6a8644bfa1e0e6c1ff\") {\n",
       "      outputDiv = document.getElementById(\"altair-viz-557d1850d33b4e6a8644bfa1e0e6c1ff\");\n",
       "    }\n",
       "    const paths = {\n",
       "      \"vega\": \"https://cdn.jsdelivr.net/npm//vega@5?noext\",\n",
       "      \"vega-lib\": \"https://cdn.jsdelivr.net/npm//vega-lib?noext\",\n",
       "      \"vega-lite\": \"https://cdn.jsdelivr.net/npm//vega-lite@4.17.0?noext\",\n",
       "      \"vega-embed\": \"https://cdn.jsdelivr.net/npm//vega-embed@6?noext\",\n",
       "    };\n",
       "\n",
       "    function maybeLoadScript(lib, version) {\n",
       "      var key = `${lib.replace(\"-\", \"\")}_version`;\n",
       "      return (VEGA_DEBUG[key] == version) ?\n",
       "        Promise.resolve(paths[lib]) :\n",
       "        new Promise(function(resolve, reject) {\n",
       "          var s = document.createElement('script');\n",
       "          document.getElementsByTagName(\"head\")[0].appendChild(s);\n",
       "          s.async = true;\n",
       "          s.onload = () => {\n",
       "            VEGA_DEBUG[key] = version;\n",
       "            return resolve(paths[lib]);\n",
       "          };\n",
       "          s.onerror = () => reject(`Error loading script: ${paths[lib]}`);\n",
       "          s.src = paths[lib];\n",
       "        });\n",
       "    }\n",
       "\n",
       "    function showError(err) {\n",
       "      outputDiv.innerHTML = `<div class=\"error\" style=\"color:red;\">${err}</div>`;\n",
       "      throw err;\n",
       "    }\n",
       "\n",
       "    function displayChart(vegaEmbed) {\n",
       "      vegaEmbed(outputDiv, spec, embedOpt)\n",
       "        .catch(err => showError(`Javascript Error: ${err.message}<br>This usually means there's a typo in your chart specification. See the javascript console for the full traceback.`));\n",
       "    }\n",
       "\n",
       "    if(typeof define === \"function\" && define.amd) {\n",
       "      requirejs.config({paths});\n",
       "      require([\"vega-embed\"], displayChart, err => showError(`Error loading script: ${err.message}`));\n",
       "    } else {\n",
       "      maybeLoadScript(\"vega\", \"5\")\n",
       "        .then(() => maybeLoadScript(\"vega-lite\", \"4.17.0\"))\n",
       "        .then(() => maybeLoadScript(\"vega-embed\", \"6\"))\n",
       "        .catch(showError)\n",
       "        .then(() => displayChart(vegaEmbed));\n",
       "    }\n",
       "  })({\"config\": {\"view\": {\"continuousWidth\": 400, \"continuousHeight\": 300}}, \"data\": {\"name\": \"data-7dd426cea5beebf0d7781719abf29ea0\"}, \"mark\": \"point\", \"encoding\": {\"color\": {\"field\": \"Knowledge Level\", \"type\": \"nominal\"}, \"x\": {\"field\": \"Study Time\", \"type\": \"quantitative\"}, \"y\": {\"field\": \"Exam Performance\", \"type\": \"quantitative\"}}, \"$schema\": \"https://vega.github.io/schema/vega-lite/v4.17.0.json\", \"datasets\": {\"data-7dd426cea5beebf0d7781719abf29ea0\": [{\"Study Time\": 0.39, \"Repetition Time\": 0.05, \"Study Time for Related Objects\": 0.02, \"Exam Performance for Related Objects\": 0.06, \"Exam Performance\": 0.34, \"Knowledge Level\": \"Low\"}, {\"Study Time\": 0.48, \"Repetition Time\": 0.3, \"Study Time for Related Objects\": 0.15, \"Exam Performance for Related Objects\": 0.65, \"Exam Performance\": 0.77, \"Knowledge Level\": \"High\"}, {\"Study Time\": 0.365, \"Repetition Time\": 0.68, \"Study Time for Related Objects\": 0.1, \"Exam Performance for Related Objects\": 0.63, \"Exam Performance\": 0.18, \"Knowledge Level\": \"Low\"}, {\"Study Time\": 0.1, \"Repetition Time\": 0.39, \"Study Time for Related Objects\": 0.75, \"Exam Performance for Related Objects\": 0.31, \"Exam Performance\": 0.62, \"Knowledge Level\": \"Middle\"}, {\"Study Time\": 0.66, \"Repetition Time\": 0.36, \"Study Time for Related Objects\": 0.56, \"Exam Performance for Related Objects\": 0.4, \"Exam Performance\": 0.83, \"Knowledge Level\": \"High\"}, {\"Study Time\": 0.77, \"Repetition Time\": 0.29, \"Study Time for Related Objects\": 0.74, \"Exam Performance for Related Objects\": 0.82, \"Exam Performance\": 0.68, \"Knowledge Level\": \"High\"}, {\"Study Time\": 0.46, \"Repetition Time\": 0.2, \"Study Time for Related Objects\": 0.76, \"Exam Performance for Related Objects\": 0.95, \"Exam Performance\": 0.65, \"Knowledge Level\": \"High\"}, {\"Study Time\": 0.15, \"Repetition Time\": 0.67, \"Study Time for Related Objects\": 0.56, \"Exam Performance for Related Objects\": 0.07, \"Exam Performance\": 0.66, \"Knowledge Level\": \"Middle\"}, {\"Study Time\": 0.08, \"Repetition Time\": 0.08, \"Study Time for Related Objects\": 0.08, \"Exam Performance for Related Objects\": 0.98, \"Exam Performance\": 0.24, \"Knowledge Level\": \"Low\"}, {\"Study Time\": 0.248, \"Repetition Time\": 0.3, \"Study Time for Related Objects\": 0.31, \"Exam Performance for Related Objects\": 0.2, \"Exam Performance\": 0.03, \"Knowledge Level\": \"very_low\"}, {\"Study Time\": 0.05, \"Repetition Time\": 0.07, \"Study Time for Related Objects\": 0.7, \"Exam Performance for Related Objects\": 0.01, \"Exam Performance\": 0.05, \"Knowledge Level\": \"very_low\"}, {\"Study Time\": 0.315, \"Repetition Time\": 0.69, \"Study Time for Related Objects\": 0.28, \"Exam Performance for Related Objects\": 0.8, \"Exam Performance\": 0.7, \"Knowledge Level\": \"High\"}, {\"Study Time\": 0.71, \"Repetition Time\": 0.46, \"Study Time for Related Objects\": 0.95, \"Exam Performance for Related Objects\": 0.78, \"Exam Performance\": 0.86, \"Knowledge Level\": \"High\"}, {\"Study Time\": 0.45, \"Repetition Time\": 0.65, \"Study Time for Related Objects\": 0.19, \"Exam Performance for Related Objects\": 0.99, \"Exam Performance\": 0.55, \"Knowledge Level\": \"High\"}, {\"Study Time\": 0.37, \"Repetition Time\": 0.07, \"Study Time for Related Objects\": 0.1, \"Exam Performance for Related Objects\": 0.41, \"Exam Performance\": 0.3, \"Knowledge Level\": \"Low\"}, {\"Study Time\": 0.32, \"Repetition Time\": 0.2, \"Study Time for Related Objects\": 0.84, \"Exam Performance for Related Objects\": 0.81, \"Exam Performance\": 0.8, \"Knowledge Level\": \"High\"}, {\"Study Time\": 0.32, \"Repetition Time\": 0.28, \"Study Time for Related Objects\": 0.72, \"Exam Performance for Related Objects\": 0.89, \"Exam Performance\": 0.58, \"Knowledge Level\": \"High\"}, {\"Study Time\": 0.38, \"Repetition Time\": 0.59, \"Study Time for Related Objects\": 0.31, \"Exam Performance for Related Objects\": 0.62, \"Exam Performance\": 0.2, \"Knowledge Level\": \"Low\"}, {\"Study Time\": 0.4, \"Repetition Time\": 0.3, \"Study Time for Related Objects\": 0.18, \"Exam Performance for Related Objects\": 0.29, \"Exam Performance\": 0.59, \"Knowledge Level\": \"Middle\"}, {\"Study Time\": 0.18, \"Repetition Time\": 0.7, \"Study Time for Related Objects\": 0.41, \"Exam Performance for Related Objects\": 0.67, \"Exam Performance\": 0.33, \"Knowledge Level\": \"Middle\"}, {\"Study Time\": 0.299, \"Repetition Time\": 0.7, \"Study Time for Related Objects\": 0.95, \"Exam Performance for Related Objects\": 0.22, \"Exam Performance\": 0.66, \"Knowledge Level\": \"High\"}, {\"Study Time\": 0.0, \"Repetition Time\": 0.62, \"Study Time for Related Objects\": 0.52, \"Exam Performance for Related Objects\": 0.26, \"Exam Performance\": 0.07, \"Knowledge Level\": \"Very Low\"}, {\"Study Time\": 0.38, \"Repetition Time\": 0.36, \"Study Time for Related Objects\": 0.46, \"Exam Performance for Related Objects\": 0.49, \"Exam Performance\": 0.78, \"Knowledge Level\": \"High\"}, {\"Study Time\": 0.37, \"Repetition Time\": 0.6, \"Study Time for Related Objects\": 0.77, \"Exam Performance for Related Objects\": 0.4, \"Exam Performance\": 0.5, \"Knowledge Level\": \"Middle\"}, {\"Study Time\": 0.09, \"Repetition Time\": 0.55, \"Study Time for Related Objects\": 0.12, \"Exam Performance for Related Objects\": 0.78, \"Exam Performance\": 0.05, \"Knowledge Level\": \"Low\"}, {\"Study Time\": 0.12, \"Repetition Time\": 0.28, \"Study Time for Related Objects\": 0.2, \"Exam Performance for Related Objects\": 0.78, \"Exam Performance\": 0.2, \"Knowledge Level\": \"Low\"}, {\"Study Time\": 0.06, \"Repetition Time\": 0.06, \"Study Time for Related Objects\": 0.05, \"Exam Performance for Related Objects\": 0.25, \"Exam Performance\": 0.33, \"Knowledge Level\": \"Low\"}, {\"Study Time\": 0.255, \"Repetition Time\": 0.305, \"Study Time for Related Objects\": 0.86, \"Exam Performance for Related Objects\": 0.62, \"Exam Performance\": 0.15, \"Knowledge Level\": \"Low\"}, {\"Study Time\": 0.26, \"Repetition Time\": 0.28, \"Study Time for Related Objects\": 0.6, \"Exam Performance for Related Objects\": 0.29, \"Exam Performance\": 0.59, \"Knowledge Level\": \"Middle\"}, {\"Study Time\": 0.12, \"Repetition Time\": 0.28, \"Study Time for Related Objects\": 0.7, \"Exam Performance for Related Objects\": 0.16, \"Exam Performance\": 0.32, \"Knowledge Level\": \"Low\"}, {\"Study Time\": 0.64, \"Repetition Time\": 0.59, \"Study Time for Related Objects\": 0.12, \"Exam Performance for Related Objects\": 0.58, \"Exam Performance\": 0.24, \"Knowledge Level\": \"Low\"}, {\"Study Time\": 0.08, \"Repetition Time\": 0.56, \"Study Time for Related Objects\": 0.33, \"Exam Performance for Related Objects\": 0.4, \"Exam Performance\": 0.1, \"Knowledge Level\": \"Very Low\"}, {\"Study Time\": 0.62, \"Repetition Time\": 0.67, \"Study Time for Related Objects\": 0.39, \"Exam Performance for Related Objects\": 0.1, \"Exam Performance\": 0.66, \"Knowledge Level\": \"Middle\"}, {\"Study Time\": 0.15, \"Repetition Time\": 0.275, \"Study Time for Related Objects\": 0.8, \"Exam Performance for Related Objects\": 0.21, \"Exam Performance\": 0.81, \"Knowledge Level\": \"High\"}, {\"Study Time\": 0.13, \"Repetition Time\": 0.39, \"Study Time for Related Objects\": 0.85, \"Exam Performance for Related Objects\": 0.38, \"Exam Performance\": 0.77, \"Knowledge Level\": \"High\"}, {\"Study Time\": 0.299, \"Repetition Time\": 0.295, \"Study Time for Related Objects\": 0.8, \"Exam Performance for Related Objects\": 0.37, \"Exam Performance\": 0.84, \"Knowledge Level\": \"High\"}, {\"Study Time\": 0.52, \"Repetition Time\": 0.28, \"Study Time for Related Objects\": 0.32, \"Exam Performance for Related Objects\": 0.1, \"Exam Performance\": 0.1, \"Knowledge Level\": \"Very Low\"}, {\"Study Time\": 0.69, \"Repetition Time\": 0.02, \"Study Time for Related Objects\": 0.62, \"Exam Performance for Related Objects\": 0.3, \"Exam Performance\": 0.29, \"Knowledge Level\": \"Low\"}, {\"Study Time\": 0.27, \"Repetition Time\": 0.28, \"Study Time for Related Objects\": 0.18, \"Exam Performance for Related Objects\": 0.48, \"Exam Performance\": 0.26, \"Knowledge Level\": \"Low\"}, {\"Study Time\": 0.09, \"Repetition Time\": 0.33, \"Study Time for Related Objects\": 0.31, \"Exam Performance for Related Objects\": 0.26, \"Exam Performance\": 0.0, \"Knowledge Level\": \"very_low\"}, {\"Study Time\": 0.34, \"Repetition Time\": 0.4, \"Study Time for Related Objects\": 0.38, \"Exam Performance for Related Objects\": 0.2, \"Exam Performance\": 0.61, \"Knowledge Level\": \"Middle\"}, {\"Study Time\": 0.6, \"Repetition Time\": 0.08, \"Study Time for Related Objects\": 0.13, \"Exam Performance for Related Objects\": 0.14, \"Exam Performance\": 0.32, \"Knowledge Level\": \"Low\"}, {\"Study Time\": 0.45, \"Repetition Time\": 0.04, \"Study Time for Related Objects\": 0.18, \"Exam Performance for Related Objects\": 0.55, \"Exam Performance\": 0.07, \"Knowledge Level\": \"very_low\"}, {\"Study Time\": 0.295, \"Repetition Time\": 0.59, \"Study Time for Related Objects\": 0.29, \"Exam Performance for Related Objects\": 0.31, \"Exam Performance\": 0.55, \"Knowledge Level\": \"Middle\"}, {\"Study Time\": 0.18, \"Repetition Time\": 0.26, \"Study Time for Related Objects\": 0.05, \"Exam Performance for Related Objects\": 0.4, \"Exam Performance\": 0.04, \"Knowledge Level\": \"Very Low\"}, {\"Study Time\": 0.76, \"Repetition Time\": 0.258, \"Study Time for Related Objects\": 0.07, \"Exam Performance for Related Objects\": 0.83, \"Exam Performance\": 0.34, \"Knowledge Level\": \"Middle\"}, {\"Study Time\": 0.2, \"Repetition Time\": 0.52, \"Study Time for Related Objects\": 0.36, \"Exam Performance for Related Objects\": 0.84, \"Exam Performance\": 0.25, \"Knowledge Level\": \"Middle\"}, {\"Study Time\": 0.58, \"Repetition Time\": 0.348, \"Study Time for Related Objects\": 0.06, \"Exam Performance for Related Objects\": 0.29, \"Exam Performance\": 0.31, \"Knowledge Level\": \"Low\"}, {\"Study Time\": 0.7, \"Repetition Time\": 0.18, \"Study Time for Related Objects\": 0.88, \"Exam Performance for Related Objects\": 0.09, \"Exam Performance\": 0.66, \"Knowledge Level\": \"Middle\"}, {\"Study Time\": 0.42, \"Repetition Time\": 0.39, \"Study Time for Related Objects\": 0.78, \"Exam Performance for Related Objects\": 0.32, \"Exam Performance\": 0.2, \"Knowledge Level\": \"Low\"}, {\"Study Time\": 0.21, \"Repetition Time\": 0.9, \"Study Time for Related Objects\": 0.9, \"Exam Performance for Related Objects\": 0.22, \"Exam Performance\": 0.92, \"Knowledge Level\": \"High\"}, {\"Study Time\": 0.445, \"Repetition Time\": 0.39, \"Study Time for Related Objects\": 0.02, \"Exam Performance for Related Objects\": 0.24, \"Exam Performance\": 0.88, \"Knowledge Level\": \"High\"}, {\"Study Time\": 0.3, \"Repetition Time\": 0.2, \"Study Time for Related Objects\": 0.52, \"Exam Performance for Related Objects\": 0.3, \"Exam Performance\": 0.53, \"Knowledge Level\": \"Middle\"}, {\"Study Time\": 0.06, \"Repetition Time\": 0.35, \"Study Time for Related Objects\": 0.12, \"Exam Performance for Related Objects\": 0.43, \"Exam Performance\": 0.29, \"Knowledge Level\": \"Low\"}, {\"Study Time\": 0.54, \"Repetition Time\": 0.25, \"Study Time for Related Objects\": 0.07, \"Exam Performance for Related Objects\": 0.09, \"Exam Performance\": 0.11, \"Knowledge Level\": \"Very Low\"}, {\"Study Time\": 0.14, \"Repetition Time\": 0.65, \"Study Time for Related Objects\": 0.19, \"Exam Performance for Related Objects\": 0.26, \"Exam Performance\": 0.66, \"Knowledge Level\": \"Middle\"}, {\"Study Time\": 0.39, \"Repetition Time\": 0.26, \"Study Time for Related Objects\": 0.39, \"Exam Performance for Related Objects\": 0.77, \"Exam Performance\": 0.14, \"Knowledge Level\": \"Low\"}, {\"Study Time\": 0.68, \"Repetition Time\": 0.19, \"Study Time for Related Objects\": 0.19, \"Exam Performance for Related Objects\": 0.48, \"Exam Performance\": 0.1, \"Knowledge Level\": \"very_low\"}, {\"Study Time\": 0.78, \"Repetition Time\": 0.21, \"Study Time for Related Objects\": 0.68, \"Exam Performance for Related Objects\": 0.65, \"Exam Performance\": 0.75, \"Knowledge Level\": \"High\"}, {\"Study Time\": 0.365, \"Repetition Time\": 0.57, \"Study Time for Related Objects\": 0.59, \"Exam Performance for Related Objects\": 0.55, \"Exam Performance\": 0.25, \"Knowledge Level\": \"Low\"}, {\"Study Time\": 0.13, \"Repetition Time\": 0.28, \"Study Time for Related Objects\": 0.18, \"Exam Performance for Related Objects\": 0.75, \"Exam Performance\": 0.32, \"Knowledge Level\": \"Middle\"}, {\"Study Time\": 0.1, \"Repetition Time\": 0.6, \"Study Time for Related Objects\": 0.33, \"Exam Performance for Related Objects\": 0.42, \"Exam Performance\": 0.26, \"Knowledge Level\": \"Low\"}, {\"Study Time\": 0.06, \"Repetition Time\": 0.77, \"Study Time for Related Objects\": 0.72, \"Exam Performance for Related Objects\": 0.19, \"Exam Performance\": 0.56, \"Knowledge Level\": \"Middle\"}, {\"Study Time\": 0.2, \"Repetition Time\": 0.78, \"Study Time for Related Objects\": 0.91, \"Exam Performance for Related Objects\": 0.82, \"Exam Performance\": 0.85, \"Knowledge Level\": \"High\"}, {\"Study Time\": 0.54, \"Repetition Time\": 0.82, \"Study Time for Related Objects\": 0.71, \"Exam Performance for Related Objects\": 0.29, \"Exam Performance\": 0.77, \"Knowledge Level\": \"High\"}, {\"Study Time\": 0.325, \"Repetition Time\": 0.9, \"Study Time for Related Objects\": 0.52, \"Exam Performance for Related Objects\": 0.49, \"Exam Performance\": 0.76, \"Knowledge Level\": \"High\"}, {\"Study Time\": 0.5, \"Repetition Time\": 0.4, \"Study Time for Related Objects\": 0.73, \"Exam Performance for Related Objects\": 0.62, \"Exam Performance\": 0.2, \"Knowledge Level\": \"Low\"}, {\"Study Time\": 0.385, \"Repetition Time\": 0.26, \"Study Time for Related Objects\": 0.76, \"Exam Performance for Related Objects\": 0.84, \"Exam Performance\": 0.3, \"Knowledge Level\": \"Middle\"}, {\"Study Time\": 0.65, \"Repetition Time\": 0.09, \"Study Time for Related Objects\": 0.16, \"Exam Performance for Related Objects\": 0.49, \"Exam Performance\": 0.31, \"Knowledge Level\": \"Low\"}, {\"Study Time\": 0.47, \"Repetition Time\": 0.47, \"Study Time for Related Objects\": 0.25, \"Exam Performance for Related Objects\": 0.96, \"Exam Performance\": 0.61, \"Knowledge Level\": \"High\"}, {\"Study Time\": 0.29, \"Repetition Time\": 0.15, \"Study Time for Related Objects\": 0.33, \"Exam Performance for Related Objects\": 0.66, \"Exam Performance\": 0.08, \"Knowledge Level\": \"very_low\"}, {\"Study Time\": 0.32, \"Repetition Time\": 0.02, \"Study Time for Related Objects\": 0.34, \"Exam Performance for Related Objects\": 0.13, \"Exam Performance\": 0.31, \"Knowledge Level\": \"Low\"}, {\"Study Time\": 0.68, \"Repetition Time\": 0.64, \"Study Time for Related Objects\": 0.79, \"Exam Performance for Related Objects\": 0.97, \"Exam Performance\": 0.24, \"Knowledge Level\": \"Middle\"}, {\"Study Time\": 0.43, \"Repetition Time\": 0.45, \"Study Time for Related Objects\": 0.27, \"Exam Performance for Related Objects\": 0.27, \"Exam Performance\": 0.89, \"Knowledge Level\": \"High\"}, {\"Study Time\": 0.18, \"Repetition Time\": 0.31, \"Study Time for Related Objects\": 0.32, \"Exam Performance for Related Objects\": 0.42, \"Exam Performance\": 0.28, \"Knowledge Level\": \"Low\"}, {\"Study Time\": 0.41, \"Repetition Time\": 0.04, \"Study Time for Related Objects\": 0.33, \"Exam Performance for Related Objects\": 0.26, \"Exam Performance\": 0.12, \"Knowledge Level\": \"Very Low\"}, {\"Study Time\": 0.18, \"Repetition Time\": 0.33, \"Study Time for Related Objects\": 0.61, \"Exam Performance for Related Objects\": 0.64, \"Exam Performance\": 0.25, \"Knowledge Level\": \"Middle\"}, {\"Study Time\": 0.265, \"Repetition Time\": 0.06, \"Study Time for Related Objects\": 0.57, \"Exam Performance for Related Objects\": 0.75, \"Exam Performance\": 0.1, \"Knowledge Level\": \"Low\"}, {\"Study Time\": 0.29, \"Repetition Time\": 0.1, \"Study Time for Related Objects\": 0.17, \"Exam Performance for Related Objects\": 0.74, \"Exam Performance\": 0.52, \"Knowledge Level\": \"Middle\"}, {\"Study Time\": 0.16, \"Repetition Time\": 0.25, \"Study Time for Related Objects\": 0.01, \"Exam Performance for Related Objects\": 0.1, \"Exam Performance\": 0.07, \"Knowledge Level\": \"Very Low\"}, {\"Study Time\": 0.77, \"Repetition Time\": 0.267, \"Study Time for Related Objects\": 0.59, \"Exam Performance for Related Objects\": 0.78, \"Exam Performance\": 0.28, \"Knowledge Level\": \"Middle\"}, {\"Study Time\": 0.31, \"Repetition Time\": 0.32, \"Study Time for Related Objects\": 0.29, \"Exam Performance for Related Objects\": 0.31, \"Exam Performance\": 0.96, \"Knowledge Level\": \"High\"}, {\"Study Time\": 0.4, \"Repetition Time\": 0.61, \"Study Time for Related Objects\": 0.71, \"Exam Performance for Related Objects\": 0.88, \"Exam Performance\": 0.67, \"Knowledge Level\": \"High\"}, {\"Study Time\": 0.56, \"Repetition Time\": 0.35, \"Study Time for Related Objects\": 0.1, \"Exam Performance for Related Objects\": 0.62, \"Exam Performance\": 0.23, \"Knowledge Level\": \"Low\"}, {\"Study Time\": 0.25, \"Repetition Time\": 0.26, \"Study Time for Related Objects\": 0.51, \"Exam Performance for Related Objects\": 0.04, \"Exam Performance\": 0.13, \"Knowledge Level\": \"Very Low\"}, {\"Study Time\": 0.2, \"Repetition Time\": 0.2, \"Study Time for Related Objects\": 0.7, \"Exam Performance for Related Objects\": 0.3, \"Exam Performance\": 0.6, \"Knowledge Level\": \"Middle\"}, {\"Study Time\": 0.75, \"Repetition Time\": 0.015, \"Study Time for Related Objects\": 0.78, \"Exam Performance for Related Objects\": 0.31, \"Exam Performance\": 0.53, \"Knowledge Level\": \"Middle\"}, {\"Study Time\": 0.19, \"Repetition Time\": 0.28, \"Study Time for Related Objects\": 0.57, \"Exam Performance for Related Objects\": 0.58, \"Exam Performance\": 0.17, \"Knowledge Level\": \"Low\"}, {\"Study Time\": 0.115, \"Repetition Time\": 0.35, \"Study Time for Related Objects\": 0.65, \"Exam Performance for Related Objects\": 0.27, \"Exam Performance\": 0.04, \"Knowledge Level\": \"very_low\"}, {\"Study Time\": 0.1, \"Repetition Time\": 0.6, \"Study Time for Related Objects\": 0.51, \"Exam Performance for Related Objects\": 0.1, \"Exam Performance\": 0.01, \"Knowledge Level\": \"Very Low\"}, {\"Study Time\": 0.25, \"Repetition Time\": 0.28, \"Study Time for Related Objects\": 0.3, \"Exam Performance for Related Objects\": 0.001, \"Exam Performance\": 0.25, \"Knowledge Level\": \"Very Low\"}, {\"Study Time\": 0.51, \"Repetition Time\": 0.255, \"Study Time for Related Objects\": 0.55, \"Exam Performance for Related Objects\": 0.17, \"Exam Performance\": 0.64, \"Knowledge Level\": \"Middle\"}, {\"Study Time\": 0.55, \"Repetition Time\": 0.1, \"Study Time for Related Objects\": 0.34, \"Exam Performance for Related Objects\": 0.3, \"Exam Performance\": 0.1, \"Knowledge Level\": \"very_low\"}, {\"Study Time\": 0.29, \"Repetition Time\": 0.29, \"Study Time for Related Objects\": 0.4, \"Exam Performance for Related Objects\": 0.78, \"Exam Performance\": 0.18, \"Knowledge Level\": \"Low\"}, {\"Study Time\": 0.295, \"Repetition Time\": 0.25, \"Study Time for Related Objects\": 0.26, \"Exam Performance for Related Objects\": 0.12, \"Exam Performance\": 0.67, \"Knowledge Level\": \"Middle\"}, {\"Study Time\": 0.3, \"Repetition Time\": 0.16, \"Study Time for Related Objects\": 0.89, \"Exam Performance for Related Objects\": 0.32, \"Exam Performance\": 0.95, \"Knowledge Level\": \"High\"}, {\"Study Time\": 0.61, \"Repetition Time\": 0.38, \"Study Time for Related Objects\": 0.09, \"Exam Performance for Related Objects\": 0.38, \"Exam Performance\": 0.3, \"Knowledge Level\": \"Low\"}, {\"Study Time\": 0.44, \"Repetition Time\": 0.32, \"Study Time for Related Objects\": 0.55, \"Exam Performance for Related Objects\": 0.33, \"Exam Performance\": 0.52, \"Knowledge Level\": \"Middle\"}, {\"Study Time\": 0.1, \"Repetition Time\": 0.25, \"Study Time for Related Objects\": 0.1, \"Exam Performance for Related Objects\": 0.08, \"Exam Performance\": 0.33, \"Knowledge Level\": \"Low\"}, {\"Study Time\": 0.27, \"Repetition Time\": 0.31, \"Study Time for Related Objects\": 0.32, \"Exam Performance for Related Objects\": 0.41, \"Exam Performance\": 0.28, \"Knowledge Level\": \"Low\"}, {\"Study Time\": 0.68, \"Repetition Time\": 0.15, \"Study Time for Related Objects\": 0.58, \"Exam Performance for Related Objects\": 0.35, \"Exam Performance\": 0.6, \"Knowledge Level\": \"Middle\"}, {\"Study Time\": 0.32, \"Repetition Time\": 0.15, \"Study Time for Related Objects\": 0.66, \"Exam Performance for Related Objects\": 0.24, \"Exam Performance\": 0.82, \"Knowledge Level\": \"High\"}, {\"Study Time\": 0.78, \"Repetition Time\": 0.47, \"Study Time for Related Objects\": 0.24, \"Exam Performance for Related Objects\": 0.3, \"Exam Performance\": 0.93, \"Knowledge Level\": \"High\"}, {\"Study Time\": 0.37, \"Repetition Time\": 0.09, \"Study Time for Related Objects\": 0.1, \"Exam Performance for Related Objects\": 0.13, \"Exam Performance\": 0.32, \"Knowledge Level\": \"Low\"}, {\"Study Time\": 0.25, \"Repetition Time\": 0.29, \"Study Time for Related Objects\": 0.15, \"Exam Performance for Related Objects\": 0.48, \"Exam Performance\": 0.26, \"Knowledge Level\": \"Low\"}, {\"Study Time\": 0.345, \"Repetition Time\": 0.299, \"Study Time for Related Objects\": 0.1, \"Exam Performance for Related Objects\": 0.64, \"Exam Performance\": 0.13, \"Knowledge Level\": \"Low\"}, {\"Study Time\": 0.445, \"Repetition Time\": 0.7, \"Study Time for Related Objects\": 0.82, \"Exam Performance for Related Objects\": 0.16, \"Exam Performance\": 0.64, \"Knowledge Level\": \"Middle\"}, {\"Study Time\": 0.334, \"Repetition Time\": 0.295, \"Study Time for Related Objects\": 0.33, \"Exam Performance for Related Objects\": 0.32, \"Exam Performance\": 0.3, \"Knowledge Level\": \"Low\"}, {\"Study Time\": 0.16, \"Repetition Time\": 0.16, \"Study Time for Related Objects\": 0.8, \"Exam Performance for Related Objects\": 0.5, \"Exam Performance\": 0.5, \"Knowledge Level\": \"Middle\"}, {\"Study Time\": 0.08, \"Repetition Time\": 0.325, \"Study Time for Related Objects\": 0.62, \"Exam Performance for Related Objects\": 0.94, \"Exam Performance\": 0.56, \"Knowledge Level\": \"High\"}, {\"Study Time\": 0.265, \"Repetition Time\": 0.76, \"Study Time for Related Objects\": 0.8, \"Exam Performance for Related Objects\": 0.28, \"Exam Performance\": 0.28, \"Knowledge Level\": \"Low\"}, {\"Study Time\": 0.33, \"Repetition Time\": 0.2, \"Study Time for Related Objects\": 0.64, \"Exam Performance for Related Objects\": 0.59, \"Exam Performance\": 0.94, \"Knowledge Level\": \"High\"}, {\"Study Time\": 0.31, \"Repetition Time\": 0.82, \"Study Time for Related Objects\": 0.47, \"Exam Performance for Related Objects\": 0.4, \"Exam Performance\": 0.99, \"Knowledge Level\": \"High\"}, {\"Study Time\": 0.66, \"Repetition Time\": 0.9, \"Study Time for Related Objects\": 0.76, \"Exam Performance for Related Objects\": 0.87, \"Exam Performance\": 0.74, \"Knowledge Level\": \"High\"}, {\"Study Time\": 0.31, \"Repetition Time\": 0.2, \"Study Time for Related Objects\": 0.46, \"Exam Performance for Related Objects\": 0.78, \"Exam Performance\": 0.83, \"Knowledge Level\": \"High\"}, {\"Study Time\": 0.09, \"Repetition Time\": 0.38, \"Study Time for Related Objects\": 0.54, \"Exam Performance for Related Objects\": 0.69, \"Exam Performance\": 0.21, \"Knowledge Level\": \"Low\"}, {\"Study Time\": 0.28, \"Repetition Time\": 0.27, \"Study Time for Related Objects\": 0.56, \"Exam Performance for Related Objects\": 0.14, \"Exam Performance\": 0.31, \"Knowledge Level\": \"Low\"}, {\"Study Time\": 0.22, \"Repetition Time\": 0.86, \"Study Time for Related Objects\": 0.83, \"Exam Performance for Related Objects\": 0.89, \"Exam Performance\": 0.65, \"Knowledge Level\": \"High\"}, {\"Study Time\": 0.0, \"Repetition Time\": 0.0, \"Study Time for Related Objects\": 0.5, \"Exam Performance for Related Objects\": 0.2, \"Exam Performance\": 0.85, \"Knowledge Level\": \"High\"}, {\"Study Time\": 0.42, \"Repetition Time\": 0.7, \"Study Time for Related Objects\": 0.72, \"Exam Performance for Related Objects\": 0.3, \"Exam Performance\": 0.8, \"Knowledge Level\": \"High\"}, {\"Study Time\": 0.11, \"Repetition Time\": 0.42, \"Study Time for Related Objects\": 0.38, \"Exam Performance for Related Objects\": 0.82, \"Exam Performance\": 0.31, \"Knowledge Level\": \"Middle\"}, {\"Study Time\": 0.14, \"Repetition Time\": 0.14, \"Study Time for Related Objects\": 0.7, \"Exam Performance for Related Objects\": 0.5, \"Exam Performance\": 0.3, \"Knowledge Level\": \"Low\"}, {\"Study Time\": 0.16, \"Repetition Time\": 0.51, \"Study Time for Related Objects\": 0.09, \"Exam Performance for Related Objects\": 0.38, \"Exam Performance\": 0.1, \"Knowledge Level\": \"Very Low\"}, {\"Study Time\": 0.44, \"Repetition Time\": 0.33, \"Study Time for Related Objects\": 0.59, \"Exam Performance for Related Objects\": 0.53, \"Exam Performance\": 0.85, \"Knowledge Level\": \"High\"}, {\"Study Time\": 0.1, \"Repetition Time\": 0.1, \"Study Time for Related Objects\": 0.15, \"Exam Performance for Related Objects\": 0.65, \"Exam Performance\": 0.3, \"Knowledge Level\": \"Middle\"}, {\"Study Time\": 0.78, \"Repetition Time\": 0.61, \"Study Time for Related Objects\": 0.71, \"Exam Performance for Related Objects\": 0.19, \"Exam Performance\": 0.6, \"Knowledge Level\": \"Middle\"}, {\"Study Time\": 0.251, \"Repetition Time\": 0.265, \"Study Time for Related Objects\": 0.57, \"Exam Performance for Related Objects\": 0.6, \"Exam Performance\": 0.09, \"Knowledge Level\": \"very_low\"}, {\"Study Time\": 0.22, \"Repetition Time\": 0.22, \"Study Time for Related Objects\": 0.9, \"Exam Performance for Related Objects\": 0.3, \"Exam Performance\": 0.9, \"Knowledge Level\": \"High\"}, {\"Study Time\": 0.44, \"Repetition Time\": 0.08, \"Study Time for Related Objects\": 0.8, \"Exam Performance for Related Objects\": 0.22, \"Exam Performance\": 0.56, \"Knowledge Level\": \"Middle\"}, {\"Study Time\": 0.16, \"Repetition Time\": 0.52, \"Study Time for Related Objects\": 0.3, \"Exam Performance for Related Objects\": 0.09, \"Exam Performance\": 0.11, \"Knowledge Level\": \"Very Low\"}, {\"Study Time\": 0.2, \"Repetition Time\": 0.32, \"Study Time for Related Objects\": 0.65, \"Exam Performance for Related Objects\": 0.31, \"Exam Performance\": 0.89, \"Knowledge Level\": \"High\"}, {\"Study Time\": 0.295, \"Repetition Time\": 0.29, \"Study Time for Related Objects\": 0.31, \"Exam Performance for Related Objects\": 0.76, \"Exam Performance\": 0.1, \"Knowledge Level\": \"Low\"}, {\"Study Time\": 0.31, \"Repetition Time\": 0.32, \"Study Time for Related Objects\": 0.69, \"Exam Performance for Related Objects\": 0.3, \"Exam Performance\": 0.98, \"Knowledge Level\": \"High\"}, {\"Study Time\": 0.1, \"Repetition Time\": 0.256, \"Study Time for Related Objects\": 0.7, \"Exam Performance for Related Objects\": 0.76, \"Exam Performance\": 0.16, \"Knowledge Level\": \"Low\"}, {\"Study Time\": 0.9, \"Repetition Time\": 0.78, \"Study Time for Related Objects\": 0.62, \"Exam Performance for Related Objects\": 0.32, \"Exam Performance\": 0.89, \"Knowledge Level\": \"High\"}, {\"Study Time\": 0.0, \"Repetition Time\": 0.1, \"Study Time for Related Objects\": 0.5, \"Exam Performance for Related Objects\": 0.26, \"Exam Performance\": 0.05, \"Knowledge Level\": \"Very Low\"}, {\"Study Time\": 0.255, \"Repetition Time\": 0.72, \"Study Time for Related Objects\": 0.72, \"Exam Performance for Related Objects\": 0.63, \"Exam Performance\": 0.14, \"Knowledge Level\": \"Low\"}, {\"Study Time\": 0.475, \"Repetition Time\": 0.32, \"Study Time for Related Objects\": 0.79, \"Exam Performance for Related Objects\": 0.31, \"Exam Performance\": 0.54, \"Knowledge Level\": \"Middle\"}, {\"Study Time\": 0.62, \"Repetition Time\": 0.62, \"Study Time for Related Objects\": 0.24, \"Exam Performance for Related Objects\": 0.65, \"Exam Performance\": 0.25, \"Knowledge Level\": \"Middle\"}, {\"Study Time\": 0.1, \"Repetition Time\": 0.33, \"Study Time for Related Objects\": 0.02, \"Exam Performance for Related Objects\": 0.0, \"Exam Performance\": 0.25, \"Knowledge Level\": \"Very Low\"}, {\"Study Time\": 0.12, \"Repetition Time\": 0.245, \"Study Time for Related Objects\": 0.75, \"Exam Performance for Related Objects\": 0.31, \"Exam Performance\": 0.59, \"Knowledge Level\": \"Middle\"}, {\"Study Time\": 0.255, \"Repetition Time\": 0.75, \"Study Time for Related Objects\": 0.35, \"Exam Performance for Related Objects\": 0.72, \"Exam Performance\": 0.25, \"Knowledge Level\": \"Low\"}, {\"Study Time\": 0.38, \"Repetition Time\": 0.39, \"Study Time for Related Objects\": 0.79, \"Exam Performance for Related Objects\": 0.33, \"Exam Performance\": 0.3, \"Knowledge Level\": \"Low\"}, {\"Study Time\": 0.46, \"Repetition Time\": 0.44, \"Study Time for Related Objects\": 0.89, \"Exam Performance for Related Objects\": 0.12, \"Exam Performance\": 0.66, \"Knowledge Level\": \"Middle\"}, {\"Study Time\": 0.28, \"Repetition Time\": 0.55, \"Study Time for Related Objects\": 0.38, \"Exam Performance for Related Objects\": 0.9, \"Exam Performance\": 0.22, \"Knowledge Level\": \"Low\"}, {\"Study Time\": 0.258, \"Repetition Time\": 0.28, \"Study Time for Related Objects\": 0.64, \"Exam Performance for Related Objects\": 0.29, \"Exam Performance\": 0.56, \"Knowledge Level\": \"Middle\"}, {\"Study Time\": 0.05, \"Repetition Time\": 0.29, \"Study Time for Related Objects\": 0.58, \"Exam Performance for Related Objects\": 0.14, \"Exam Performance\": 0.32, \"Knowledge Level\": \"Low\"}, {\"Study Time\": 0.09, \"Repetition Time\": 0.6, \"Study Time for Related Objects\": 0.66, \"Exam Performance for Related Objects\": 0.19, \"Exam Performance\": 0.59, \"Knowledge Level\": \"Middle\"}, {\"Study Time\": 0.66, \"Repetition Time\": 0.68, \"Study Time for Related Objects\": 0.81, \"Exam Performance for Related Objects\": 0.57, \"Exam Performance\": 0.57, \"Knowledge Level\": \"Middle\"}, {\"Study Time\": 0.32, \"Repetition Time\": 0.27, \"Study Time for Related Objects\": 0.52, \"Exam Performance for Related Objects\": 0.81, \"Exam Performance\": 0.3, \"Knowledge Level\": \"Middle\"}, {\"Study Time\": 0.312, \"Repetition Time\": 0.8, \"Study Time for Related Objects\": 0.67, \"Exam Performance for Related Objects\": 0.92, \"Exam Performance\": 0.5, \"Knowledge Level\": \"High\"}, {\"Study Time\": 0.78, \"Repetition Time\": 0.15, \"Study Time for Related Objects\": 0.38, \"Exam Performance for Related Objects\": 0.18, \"Exam Performance\": 0.63, \"Knowledge Level\": \"Middle\"}, {\"Study Time\": 0.68, \"Repetition Time\": 0.27, \"Study Time for Related Objects\": 0.78, \"Exam Performance for Related Objects\": 0.31, \"Exam Performance\": 0.57, \"Knowledge Level\": \"Middle\"}, {\"Study Time\": 0.265, \"Repetition Time\": 0.6, \"Study Time for Related Objects\": 0.28, \"Exam Performance for Related Objects\": 0.66, \"Exam Performance\": 0.07, \"Knowledge Level\": \"very_low\"}, {\"Study Time\": 0.2, \"Repetition Time\": 0.49, \"Study Time for Related Objects\": 0.6, \"Exam Performance for Related Objects\": 0.2, \"Exam Performance\": 0.78, \"Knowledge Level\": \"High\"}, {\"Study Time\": 0.4, \"Repetition Time\": 0.59, \"Study Time for Related Objects\": 0.77, \"Exam Performance for Related Objects\": 0.99, \"Exam Performance\": 0.24, \"Knowledge Level\": \"Middle\"}, {\"Study Time\": 0.2, \"Repetition Time\": 0.29, \"Study Time for Related Objects\": 0.25, \"Exam Performance for Related Objects\": 0.49, \"Exam Performance\": 0.56, \"Knowledge Level\": \"Middle\"}, {\"Study Time\": 0.18, \"Repetition Time\": 0.32, \"Study Time for Related Objects\": 0.04, \"Exam Performance for Related Objects\": 0.19, \"Exam Performance\": 0.82, \"Knowledge Level\": \"High\"}, {\"Study Time\": 0.1, \"Repetition Time\": 0.3, \"Study Time for Related Objects\": 0.58, \"Exam Performance for Related Objects\": 0.28, \"Exam Performance\": 0.55, \"Knowledge Level\": \"Middle\"}, {\"Study Time\": 0.02, \"Repetition Time\": 0.33, \"Study Time for Related Objects\": 0.36, \"Exam Performance for Related Objects\": 0.76, \"Exam Performance\": 0.1, \"Knowledge Level\": \"Low\"}, {\"Study Time\": 0.315, \"Repetition Time\": 0.32, \"Study Time for Related Objects\": 0.29, \"Exam Performance for Related Objects\": 0.29, \"Exam Performance\": 0.62, \"Knowledge Level\": \"Middle\"}, {\"Study Time\": 0.38, \"Repetition Time\": 0.1, \"Study Time for Related Objects\": 0.4, \"Exam Performance for Related Objects\": 0.48, \"Exam Performance\": 0.26, \"Knowledge Level\": \"Low\"}, {\"Study Time\": 0.18, \"Repetition Time\": 0.51, \"Study Time for Related Objects\": 0.58, \"Exam Performance for Related Objects\": 0.33, \"Exam Performance\": 0.82, \"Knowledge Level\": \"High\"}, {\"Study Time\": 0.73, \"Repetition Time\": 0.2, \"Study Time for Related Objects\": 0.07, \"Exam Performance for Related Objects\": 0.72, \"Exam Performance\": 0.26, \"Knowledge Level\": \"Low\"}, {\"Study Time\": 0.8, \"Repetition Time\": 0.29, \"Study Time for Related Objects\": 0.06, \"Exam Performance for Related Objects\": 0.31, \"Exam Performance\": 0.51, \"Knowledge Level\": \"Middle\"}, {\"Study Time\": 0.1, \"Repetition Time\": 0.42, \"Study Time for Related Objects\": 0.22, \"Exam Performance for Related Objects\": 0.72, \"Exam Performance\": 0.26, \"Knowledge Level\": \"Low\"}, {\"Study Time\": 0.28, \"Repetition Time\": 0.28, \"Study Time for Related Objects\": 0.38, \"Exam Performance for Related Objects\": 0.29, \"Exam Performance\": 0.62, \"Knowledge Level\": \"Middle\"}, {\"Study Time\": 0.29, \"Repetition Time\": 0.74, \"Study Time for Related Objects\": 0.39, \"Exam Performance for Related Objects\": 0.41, \"Exam Performance\": 0.54, \"Knowledge Level\": \"Middle\"}, {\"Study Time\": 0.46, \"Repetition Time\": 0.64, \"Study Time for Related Objects\": 0.22, \"Exam Performance for Related Objects\": 0.22, \"Exam Performance\": 0.6, \"Knowledge Level\": \"Middle\"}, {\"Study Time\": 0.52, \"Repetition Time\": 0.44, \"Study Time for Related Objects\": 0.82, \"Exam Performance for Related Objects\": 0.3, \"Exam Performance\": 0.52, \"Knowledge Level\": \"Middle\"}, {\"Study Time\": 0.78, \"Repetition Time\": 0.27, \"Study Time for Related Objects\": 0.13, \"Exam Performance for Related Objects\": 0.14, \"Exam Performance\": 0.62, \"Knowledge Level\": \"Middle\"}, {\"Study Time\": 0.28, \"Repetition Time\": 0.29, \"Study Time for Related Objects\": 0.57, \"Exam Performance for Related Objects\": 0.6, \"Exam Performance\": 0.27, \"Knowledge Level\": \"Low\"}, {\"Study Time\": 0.41, \"Repetition Time\": 0.09, \"Study Time for Related Objects\": 0.58, \"Exam Performance for Related Objects\": 0.18, \"Exam Performance\": 0.58, \"Knowledge Level\": \"Middle\"}, {\"Study Time\": 0.33, \"Repetition Time\": 0.04, \"Study Time for Related Objects\": 0.02, \"Exam Performance for Related Objects\": 0.12, \"Exam Performance\": 0.11, \"Knowledge Level\": \"Very Low\"}, {\"Study Time\": 0.42, \"Repetition Time\": 0.21, \"Study Time for Related Objects\": 0.87, \"Exam Performance for Related Objects\": 0.56, \"Exam Performance\": 0.48, \"Knowledge Level\": \"Middle\"}, {\"Study Time\": 0.18, \"Repetition Time\": 0.29, \"Study Time for Related Objects\": 0.78, \"Exam Performance for Related Objects\": 0.15, \"Exam Performance\": 0.61, \"Knowledge Level\": \"Middle\"}, {\"Study Time\": 0.295, \"Repetition Time\": 0.6, \"Study Time for Related Objects\": 0.72, \"Exam Performance for Related Objects\": 0.88, \"Exam Performance\": 0.28, \"Knowledge Level\": \"Middle\"}, {\"Study Time\": 0.6, \"Repetition Time\": 0.31, \"Study Time for Related Objects\": 0.31, \"Exam Performance for Related Objects\": 0.87, \"Exam Performance\": 0.58, \"Knowledge Level\": \"High\"}, {\"Study Time\": 0.58, \"Repetition Time\": 0.4, \"Study Time for Related Objects\": 0.32, \"Exam Performance for Related Objects\": 0.22, \"Exam Performance\": 0.24, \"Knowledge Level\": \"Low\"}, {\"Study Time\": 0.49, \"Repetition Time\": 0.245, \"Study Time for Related Objects\": 0.38, \"Exam Performance for Related Objects\": 0.14, \"Exam Performance\": 0.86, \"Knowledge Level\": \"High\"}, {\"Study Time\": 0.41, \"Repetition Time\": 0.11, \"Study Time for Related Objects\": 0.21, \"Exam Performance for Related Objects\": 0.44, \"Exam Performance\": 0.57, \"Knowledge Level\": \"Middle\"}, {\"Study Time\": 0.295, \"Repetition Time\": 0.2, \"Study Time for Related Objects\": 0.86, \"Exam Performance for Related Objects\": 0.44, \"Exam Performance\": 0.28, \"Knowledge Level\": \"Low\"}, {\"Study Time\": 0.18, \"Repetition Time\": 0.34, \"Study Time for Related Objects\": 0.71, \"Exam Performance for Related Objects\": 0.71, \"Exam Performance\": 0.9, \"Knowledge Level\": \"High\"}, {\"Study Time\": 0.91, \"Repetition Time\": 0.58, \"Study Time for Related Objects\": 0.26, \"Exam Performance for Related Objects\": 0.89, \"Exam Performance\": 0.88, \"Knowledge Level\": \"High\"}, {\"Study Time\": 0.21, \"Repetition Time\": 0.88, \"Study Time for Related Objects\": 0.87, \"Exam Performance for Related Objects\": 0.56, \"Exam Performance\": 0.95, \"Knowledge Level\": \"High\"}, {\"Study Time\": 0.51, \"Repetition Time\": 0.4, \"Study Time for Related Objects\": 0.4, \"Exam Performance for Related Objects\": 0.59, \"Exam Performance\": 0.23, \"Knowledge Level\": \"Low\"}, {\"Study Time\": 0.32, \"Repetition Time\": 0.2, \"Study Time for Related Objects\": 0.06, \"Exam Performance for Related Objects\": 0.26, \"Exam Performance\": 0.24, \"Knowledge Level\": \"very_low\"}, {\"Study Time\": 0.27, \"Repetition Time\": 0.1, \"Study Time for Related Objects\": 0.1, \"Exam Performance for Related Objects\": 0.7, \"Exam Performance\": 0.25, \"Knowledge Level\": \"Low\"}, {\"Study Time\": 0.12, \"Repetition Time\": 0.56, \"Study Time for Related Objects\": 0.13, \"Exam Performance for Related Objects\": 0.48, \"Exam Performance\": 0.32, \"Knowledge Level\": \"Low\"}, {\"Study Time\": 0.75, \"Repetition Time\": 0.22, \"Study Time for Related Objects\": 0.24, \"Exam Performance for Related Objects\": 0.96, \"Exam Performance\": 0.62, \"Knowledge Level\": \"High\"}, {\"Study Time\": 0.29, \"Repetition Time\": 0.66, \"Study Time for Related Objects\": 0.35, \"Exam Performance for Related Objects\": 0.28, \"Exam Performance\": 0.31, \"Knowledge Level\": \"Low\"}, {\"Study Time\": 0.09, \"Repetition Time\": 0.61, \"Study Time for Related Objects\": 0.53, \"Exam Performance for Related Objects\": 0.75, \"Exam Performance\": 0.01, \"Knowledge Level\": \"Low\"}, {\"Study Time\": 0.09, \"Repetition Time\": 0.255, \"Study Time for Related Objects\": 0.6, \"Exam Performance for Related Objects\": 0.45, \"Exam Performance\": 0.25, \"Knowledge Level\": \"Low\"}, {\"Study Time\": 0.29, \"Repetition Time\": 0.25, \"Study Time for Related Objects\": 0.29, \"Exam Performance for Related Objects\": 0.29, \"Exam Performance\": 0.57, \"Knowledge Level\": \"Middle\"}, {\"Study Time\": 0.85, \"Repetition Time\": 0.82, \"Study Time for Related Objects\": 0.66, \"Exam Performance for Related Objects\": 0.83, \"Exam Performance\": 0.83, \"Knowledge Level\": \"High\"}, {\"Study Time\": 0.32, \"Repetition Time\": 0.12, \"Study Time for Related Objects\": 0.79, \"Exam Performance for Related Objects\": 0.76, \"Exam Performance\": 0.24, \"Knowledge Level\": \"Low\"}, {\"Study Time\": 0.2, \"Repetition Time\": 0.14, \"Study Time for Related Objects\": 0.35, \"Exam Performance for Related Objects\": 0.72, \"Exam Performance\": 0.25, \"Knowledge Level\": \"Low\"}, {\"Study Time\": 0.27, \"Repetition Time\": 0.12, \"Study Time for Related Objects\": 0.37, \"Exam Performance for Related Objects\": 0.29, \"Exam Performance\": 0.58, \"Knowledge Level\": \"Middle\"}, {\"Study Time\": 0.58, \"Repetition Time\": 0.58, \"Study Time for Related Objects\": 0.31, \"Exam Performance for Related Objects\": 0.29, \"Exam Performance\": 0.29, \"Knowledge Level\": \"Low\"}, {\"Study Time\": 0.62, \"Repetition Time\": 0.14, \"Study Time for Related Objects\": 0.52, \"Exam Performance for Related Objects\": 0.81, \"Exam Performance\": 0.15, \"Knowledge Level\": \"Low\"}, {\"Study Time\": 0.25, \"Repetition Time\": 0.54, \"Study Time for Related Objects\": 0.31, \"Exam Performance for Related Objects\": 0.25, \"Exam Performance\": 0.08, \"Knowledge Level\": \"Very Low\"}, {\"Study Time\": 0.45, \"Repetition Time\": 0.299, \"Study Time for Related Objects\": 0.63, \"Exam Performance for Related Objects\": 0.36, \"Exam Performance\": 0.51, \"Knowledge Level\": \"Middle\"}, {\"Study Time\": 0.329, \"Repetition Time\": 0.55, \"Study Time for Related Objects\": 0.02, \"Exam Performance for Related Objects\": 0.4, \"Exam Performance\": 0.79, \"Knowledge Level\": \"High\"}, {\"Study Time\": 0.13, \"Repetition Time\": 0.62, \"Study Time for Related Objects\": 0.77, \"Exam Performance for Related Objects\": 0.28, \"Exam Performance\": 0.31, \"Knowledge Level\": \"Low\"}, {\"Study Time\": 0.21, \"Repetition Time\": 0.78, \"Study Time for Related Objects\": 0.42, \"Exam Performance for Related Objects\": 0.32, \"Exam Performance\": 0.84, \"Knowledge Level\": \"High\"}, {\"Study Time\": 0.4, \"Repetition Time\": 0.15, \"Study Time for Related Objects\": 0.16, \"Exam Performance for Related Objects\": 0.3, \"Exam Performance\": 0.58, \"Knowledge Level\": \"Middle\"}, {\"Study Time\": 0.27, \"Repetition Time\": 0.28, \"Study Time for Related Objects\": 0.59, \"Exam Performance for Related Objects\": 0.69, \"Exam Performance\": 0.26, \"Knowledge Level\": \"Middle\"}, {\"Study Time\": 0.57, \"Repetition Time\": 0.37, \"Study Time for Related Objects\": 0.75, \"Exam Performance for Related Objects\": 0.27, \"Exam Performance\": 0.32, \"Knowledge Level\": \"Low\"}, {\"Study Time\": 0.276, \"Repetition Time\": 0.255, \"Study Time for Related Objects\": 0.81, \"Exam Performance for Related Objects\": 0.27, \"Exam Performance\": 0.33, \"Knowledge Level\": \"Low\"}, {\"Study Time\": 0.2, \"Repetition Time\": 0.2, \"Study Time for Related Objects\": 0.68, \"Exam Performance for Related Objects\": 0.67, \"Exam Performance\": 0.85, \"Knowledge Level\": \"High\"}, {\"Study Time\": 0.18, \"Repetition Time\": 0.37, \"Study Time for Related Objects\": 0.11, \"Exam Performance for Related Objects\": 0.28, \"Exam Performance\": 0.3, \"Knowledge Level\": \"Low\"}, {\"Study Time\": 0.68, \"Repetition Time\": 0.61, \"Study Time for Related Objects\": 0.34, \"Exam Performance for Related Objects\": 0.31, \"Exam Performance\": 0.23, \"Knowledge Level\": \"Low\"}, {\"Study Time\": 0.2, \"Repetition Time\": 0.45, \"Study Time for Related Objects\": 0.28, \"Exam Performance for Related Objects\": 0.31, \"Exam Performance\": 0.78, \"Knowledge Level\": \"High\"}, {\"Study Time\": 0.14, \"Repetition Time\": 0.61, \"Study Time for Related Objects\": 0.39, \"Exam Performance for Related Objects\": 0.56, \"Exam Performance\": 0.56, \"Knowledge Level\": \"Middle\"}, {\"Study Time\": 0.26, \"Repetition Time\": 0.26, \"Study Time for Related Objects\": 0.35, \"Exam Performance for Related Objects\": 0.62, \"Exam Performance\": 0.24, \"Knowledge Level\": \"Low\"}, {\"Study Time\": 0.28, \"Repetition Time\": 0.06, \"Study Time for Related Objects\": 0.7, \"Exam Performance for Related Objects\": 0.27, \"Exam Performance\": 0.32, \"Knowledge Level\": \"Low\"}, {\"Study Time\": 0.23, \"Repetition Time\": 0.7, \"Study Time for Related Objects\": 0.19, \"Exam Performance for Related Objects\": 0.51, \"Exam Performance\": 0.45, \"Knowledge Level\": \"Middle\"}, {\"Study Time\": 0.42, \"Repetition Time\": 0.15, \"Study Time for Related Objects\": 0.66, \"Exam Performance for Related Objects\": 0.78, \"Exam Performance\": 0.4, \"Knowledge Level\": \"Middle\"}, {\"Study Time\": 0.28, \"Repetition Time\": 0.1, \"Study Time for Related Objects\": 0.12, \"Exam Performance for Related Objects\": 0.28, \"Exam Performance\": 0.32, \"Knowledge Level\": \"Low\"}, {\"Study Time\": 0.325, \"Repetition Time\": 0.61, \"Study Time for Related Objects\": 0.46, \"Exam Performance for Related Objects\": 0.32, \"Exam Performance\": 0.81, \"Knowledge Level\": \"High\"}, {\"Study Time\": 0.2, \"Repetition Time\": 0.25, \"Study Time for Related Objects\": 0.7, \"Exam Performance for Related Objects\": 0.25, \"Exam Performance\": 0.03, \"Knowledge Level\": \"Very Low\"}, {\"Study Time\": 0.42, \"Repetition Time\": 0.13, \"Study Time for Related Objects\": 0.15, \"Exam Performance for Related Objects\": 0.94, \"Exam Performance\": 0.3, \"Knowledge Level\": \"Middle\"}, {\"Study Time\": 0.35, \"Repetition Time\": 0.38, \"Study Time for Related Objects\": 0.32, \"Exam Performance for Related Objects\": 0.6, \"Exam Performance\": 0.16, \"Knowledge Level\": \"Low\"}, {\"Study Time\": 0.14, \"Repetition Time\": 0.49, \"Study Time for Related Objects\": 0.55, \"Exam Performance for Related Objects\": 0.29, \"Exam Performance\": 0.6, \"Knowledge Level\": \"Middle\"}, {\"Study Time\": 0.6, \"Repetition Time\": 0.19, \"Study Time for Related Objects\": 0.55, \"Exam Performance for Related Objects\": 0.08, \"Exam Performance\": 0.1, \"Knowledge Level\": \"very_low\"}, {\"Study Time\": 0.32, \"Repetition Time\": 0.255, \"Study Time for Related Objects\": 0.55, \"Exam Performance for Related Objects\": 0.78, \"Exam Performance\": 0.34, \"Knowledge Level\": \"Middle\"}, {\"Study Time\": 0.8, \"Repetition Time\": 0.24, \"Study Time for Related Objects\": 0.23, \"Exam Performance for Related Objects\": 0.29, \"Exam Performance\": 0.98, \"Knowledge Level\": \"High\"}, {\"Study Time\": 0.62, \"Repetition Time\": 0.56, \"Study Time for Related Objects\": 0.11, \"Exam Performance for Related Objects\": 0.24, \"Exam Performance\": 0.22, \"Knowledge Level\": \"Low\"}, {\"Study Time\": 0.255, \"Repetition Time\": 0.18, \"Study Time for Related Objects\": 0.5, \"Exam Performance for Related Objects\": 0.4, \"Exam Performance\": 0.1, \"Knowledge Level\": \"very_low\"}, {\"Study Time\": 0.15, \"Repetition Time\": 0.79, \"Study Time for Related Objects\": 0.78, \"Exam Performance for Related Objects\": 0.3, \"Exam Performance\": 0.51, \"Knowledge Level\": \"Middle\"}, {\"Study Time\": 0.22, \"Repetition Time\": 0.8, \"Study Time for Related Objects\": 0.44, \"Exam Performance for Related Objects\": 0.78, \"Exam Performance\": 0.88, \"Knowledge Level\": \"High\"}, {\"Study Time\": 0.29, \"Repetition Time\": 0.3, \"Study Time for Related Objects\": 0.56, \"Exam Performance for Related Objects\": 0.25, \"Exam Performance\": 0.67, \"Knowledge Level\": \"Middle\"}, {\"Study Time\": 0.245, \"Repetition Time\": 0.1, \"Study Time for Related Objects\": 0.71, \"Exam Performance for Related Objects\": 0.26, \"Exam Performance\": 0.2, \"Knowledge Level\": \"very_low\"}, {\"Study Time\": 0.43, \"Repetition Time\": 0.38, \"Study Time for Related Objects\": 0.62, \"Exam Performance for Related Objects\": 0.33, \"Exam Performance\": 0.49, \"Knowledge Level\": \"Middle\"}, {\"Study Time\": 0.85, \"Repetition Time\": 0.32, \"Study Time for Related Objects\": 0.22, \"Exam Performance for Related Objects\": 0.87, \"Exam Performance\": 0.79, \"Knowledge Level\": \"High\"}, {\"Study Time\": 0.71, \"Repetition Time\": 0.475, \"Study Time for Related Objects\": 0.13, \"Exam Performance for Related Objects\": 0.23, \"Exam Performance\": 0.59, \"Knowledge Level\": \"Middle\"}, {\"Study Time\": 0.41, \"Repetition Time\": 0.18, \"Study Time for Related Objects\": 0.33, \"Exam Performance for Related Objects\": 0.31, \"Exam Performance\": 0.5, \"Knowledge Level\": \"Middle\"}, {\"Study Time\": 0.348, \"Repetition Time\": 0.329, \"Study Time for Related Objects\": 0.83, \"Exam Performance for Related Objects\": 0.61, \"Exam Performance\": 0.18, \"Knowledge Level\": \"Low\"}, {\"Study Time\": 0.523, \"Repetition Time\": 0.41, \"Study Time for Related Objects\": 0.55, \"Exam Performance for Related Objects\": 0.6, \"Exam Performance\": 0.22, \"Knowledge Level\": \"Low\"}, {\"Study Time\": 0.13, \"Repetition Time\": 0.4, \"Study Time for Related Objects\": 0.17, \"Exam Performance for Related Objects\": 0.25, \"Exam Performance\": 0.38, \"Knowledge Level\": \"Low\"}, {\"Study Time\": 0.3, \"Repetition Time\": 0.08, \"Study Time for Related Objects\": 0.4, \"Exam Performance for Related Objects\": 0.02, \"Exam Performance\": 0.67, \"Knowledge Level\": \"Middle\"}, {\"Study Time\": 0.15, \"Repetition Time\": 0.42, \"Study Time for Related Objects\": 0.6, \"Exam Performance for Related Objects\": 0.15, \"Exam Performance\": 0.62, \"Knowledge Level\": \"Middle\"}, {\"Study Time\": 0.52, \"Repetition Time\": 0.08, \"Study Time for Related Objects\": 0.33, \"Exam Performance for Related Objects\": 0.07, \"Exam Performance\": 0.09, \"Knowledge Level\": \"Very Low\"}, {\"Study Time\": 0.88, \"Repetition Time\": 0.335, \"Study Time for Related Objects\": 0.19, \"Exam Performance for Related Objects\": 0.55, \"Exam Performance\": 0.78, \"Knowledge Level\": \"High\"}, {\"Study Time\": 0.4, \"Repetition Time\": 0.18, \"Study Time for Related Objects\": 0.26, \"Exam Performance for Related Objects\": 0.26, \"Exam Performance\": 0.67, \"Knowledge Level\": \"Middle\"}, {\"Study Time\": 0.37, \"Repetition Time\": 0.06, \"Study Time for Related Objects\": 0.32, \"Exam Performance for Related Objects\": 0.78, \"Exam Performance\": 0.1, \"Knowledge Level\": \"Low\"}, {\"Study Time\": 0.08, \"Repetition Time\": 0.08, \"Study Time for Related Objects\": 0.1, \"Exam Performance for Related Objects\": 0.24, \"Exam Performance\": 0.9, \"Knowledge Level\": \"High\"}, {\"Study Time\": 0.24, \"Repetition Time\": 0.58, \"Study Time for Related Objects\": 0.76, \"Exam Performance for Related Objects\": 0.8, \"Exam Performance\": 0.28, \"Knowledge Level\": \"Middle\"}, {\"Study Time\": 0.58, \"Repetition Time\": 0.295, \"Study Time for Related Objects\": 0.62, \"Exam Performance for Related Objects\": 0.28, \"Exam Performance\": 0.3, \"Knowledge Level\": \"Low\"}, {\"Study Time\": 0.56, \"Repetition Time\": 0.27, \"Study Time for Related Objects\": 0.11, \"Exam Performance for Related Objects\": 0.59, \"Exam Performance\": 0.22, \"Knowledge Level\": \"Low\"}, {\"Study Time\": 0.25, \"Repetition Time\": 0.28, \"Study Time for Related Objects\": 0.77, \"Exam Performance for Related Objects\": 0.11, \"Exam Performance\": 0.31, \"Knowledge Level\": \"Low\"}, {\"Study Time\": 0.44, \"Repetition Time\": 0.69, \"Study Time for Related Objects\": 0.61, \"Exam Performance for Related Objects\": 0.29, \"Exam Performance\": 0.57, \"Knowledge Level\": \"Middle\"}, {\"Study Time\": 0.79, \"Repetition Time\": 0.28, \"Study Time for Related Objects\": 0.88, \"Exam Performance for Related Objects\": 0.2, \"Exam Performance\": 0.66, \"Knowledge Level\": \"Middle\"}, {\"Study Time\": 0.4, \"Repetition Time\": 0.12, \"Study Time for Related Objects\": 0.41, \"Exam Performance for Related Objects\": 0.1, \"Exam Performance\": 0.65, \"Knowledge Level\": \"Middle\"}, {\"Study Time\": 0.61, \"Repetition Time\": 0.258, \"Study Time for Related Objects\": 0.56, \"Exam Performance for Related Objects\": 0.62, \"Exam Performance\": 0.24, \"Knowledge Level\": \"Low\"}, {\"Study Time\": 0.87, \"Repetition Time\": 0.23, \"Study Time for Related Objects\": 0.25, \"Exam Performance for Related Objects\": 0.85, \"Exam Performance\": 0.8, \"Knowledge Level\": \"High\"}, {\"Study Time\": 0.36, \"Repetition Time\": 0.52, \"Study Time for Related Objects\": 0.07, \"Exam Performance for Related Objects\": 0.1, \"Exam Performance\": 0.15, \"Knowledge Level\": \"Very Low\"}, {\"Study Time\": 0.3, \"Repetition Time\": 0.85, \"Study Time for Related Objects\": 0.54, \"Exam Performance for Related Objects\": 0.25, \"Exam Performance\": 0.83, \"Knowledge Level\": \"Middle\"}, {\"Study Time\": 0.38, \"Repetition Time\": 0.33, \"Study Time for Related Objects\": 0.1, \"Exam Performance for Related Objects\": 0.07, \"Exam Performance\": 0.4, \"Knowledge Level\": \"Low\"}, {\"Study Time\": 0.245, \"Repetition Time\": 0.26, \"Study Time for Related Objects\": 0.38, \"Exam Performance for Related Objects\": 0.49, \"Exam Performance\": 0.27, \"Knowledge Level\": \"Low\"}, {\"Study Time\": 0.49, \"Repetition Time\": 0.34, \"Study Time for Related Objects\": 0.88, \"Exam Performance for Related Objects\": 0.75, \"Exam Performance\": 0.71, \"Knowledge Level\": \"High\"}, {\"Study Time\": 0.38, \"Repetition Time\": 0.01, \"Study Time for Related Objects\": 0.53, \"Exam Performance for Related Objects\": 0.27, \"Exam Performance\": 0.3, \"Knowledge Level\": \"Low\"}, {\"Study Time\": 0.28, \"Repetition Time\": 0.16, \"Study Time for Related Objects\": 0.69, \"Exam Performance for Related Objects\": 0.33, \"Exam Performance\": 0.78, \"Knowledge Level\": \"High\"}, {\"Study Time\": 0.1, \"Repetition Time\": 0.27, \"Study Time for Related Objects\": 0.35, \"Exam Performance for Related Objects\": 0.45, \"Exam Performance\": 0.05, \"Knowledge Level\": \"Very Low\"}, {\"Study Time\": 0.08, \"Repetition Time\": 0.18, \"Study Time for Related Objects\": 0.63, \"Exam Performance for Related Objects\": 0.6, \"Exam Performance\": 0.85, \"Knowledge Level\": \"High\"}, {\"Study Time\": 0.68, \"Repetition Time\": 0.16, \"Study Time for Related Objects\": 0.2, \"Exam Performance for Related Objects\": 0.59, \"Exam Performance\": 0.6, \"Knowledge Level\": \"Middle\"}, {\"Study Time\": 0.08, \"Repetition Time\": 0.58, \"Study Time for Related Objects\": 0.6, \"Exam Performance for Related Objects\": 0.64, \"Exam Performance\": 0.1, \"Knowledge Level\": \"Low\"}, {\"Study Time\": 0.258, \"Repetition Time\": 0.25, \"Study Time for Related Objects\": 0.295, \"Exam Performance for Related Objects\": 0.33, \"Exam Performance\": 0.77, \"Knowledge Level\": \"High\"}, {\"Study Time\": 0.42, \"Repetition Time\": 0.36, \"Study Time for Related Objects\": 0.63, \"Exam Performance for Related Objects\": 0.04, \"Exam Performance\": 0.25, \"Knowledge Level\": \"Low\"}, {\"Study Time\": 0.61, \"Repetition Time\": 0.33, \"Study Time for Related Objects\": 0.36, \"Exam Performance for Related Objects\": 0.28, \"Exam Performance\": 0.28, \"Knowledge Level\": \"Low\"}, {\"Study Time\": 0.495, \"Repetition Time\": 0.276, \"Study Time for Related Objects\": 0.58, \"Exam Performance for Related Objects\": 0.77, \"Exam Performance\": 0.83, \"Knowledge Level\": \"High\"}, {\"Study Time\": 0.28, \"Repetition Time\": 0.16, \"Study Time for Related Objects\": 0.41, \"Exam Performance for Related Objects\": 0.51, \"Exam Performance\": 0.56, \"Knowledge Level\": \"Middle\"}, {\"Study Time\": 0.58, \"Repetition Time\": 0.35, \"Study Time for Related Objects\": 0.51, \"Exam Performance for Related Objects\": 0.27, \"Exam Performance\": 0.3, \"Knowledge Level\": \"Low\"}, {\"Study Time\": 0.06, \"Repetition Time\": 0.5, \"Study Time for Related Objects\": 0.09, \"Exam Performance for Related Objects\": 0.28, \"Exam Performance\": 0.25, \"Knowledge Level\": \"Low\"}, {\"Study Time\": 0.1, \"Repetition Time\": 0.1, \"Study Time for Related Objects\": 0.7, \"Exam Performance for Related Objects\": 0.15, \"Exam Performance\": 0.9, \"Knowledge Level\": \"High\"}, {\"Study Time\": 0.3, \"Repetition Time\": 0.32, \"Study Time for Related Objects\": 0.43, \"Exam Performance for Related Objects\": 0.87, \"Exam Performance\": 0.83, \"Knowledge Level\": \"High\"}, {\"Study Time\": 0.15, \"Repetition Time\": 0.295, \"Study Time for Related Objects\": 0.75, \"Exam Performance for Related Objects\": 0.65, \"Exam Performance\": 0.24, \"Knowledge Level\": \"Low\"}, {\"Study Time\": 0.27, \"Repetition Time\": 0.03, \"Study Time for Related Objects\": 0.76, \"Exam Performance for Related Objects\": 0.59, \"Exam Performance\": 0.23, \"Knowledge Level\": \"Low\"}, {\"Study Time\": 0.4, \"Repetition Time\": 0.42, \"Study Time for Related Objects\": 0.58, \"Exam Performance for Related Objects\": 0.75, \"Exam Performance\": 0.16, \"Knowledge Level\": \"Low\"}, {\"Study Time\": 0.68, \"Repetition Time\": 0.43, \"Study Time for Related Objects\": 0.6, \"Exam Performance for Related Objects\": 0.47, \"Exam Performance\": 0.55, \"Knowledge Level\": \"Middle\"}, {\"Study Time\": 0.495, \"Repetition Time\": 0.82, \"Study Time for Related Objects\": 0.67, \"Exam Performance for Related Objects\": 0.01, \"Exam Performance\": 0.93, \"Knowledge Level\": \"High\"}, {\"Study Time\": 0.73, \"Repetition Time\": 0.43, \"Study Time for Related Objects\": 0.32, \"Exam Performance for Related Objects\": 0.12, \"Exam Performance\": 0.65, \"Knowledge Level\": \"Middle\"}, {\"Study Time\": 0.18, \"Repetition Time\": 0.4, \"Study Time for Related Objects\": 0.32, \"Exam Performance for Related Objects\": 0.08, \"Exam Performance\": 0.33, \"Knowledge Level\": \"Low\"}, {\"Study Time\": 0.59, \"Repetition Time\": 0.18, \"Study Time for Related Objects\": 0.31, \"Exam Performance for Related Objects\": 0.55, \"Exam Performance\": 0.09, \"Knowledge Level\": \"very_low\"}, {\"Study Time\": 0.18, \"Repetition Time\": 0.72, \"Study Time for Related Objects\": 0.37, \"Exam Performance for Related Objects\": 0.29, \"Exam Performance\": 0.55, \"Knowledge Level\": \"Middle\"}, {\"Study Time\": 0.18, \"Repetition Time\": 0.3, \"Study Time for Related Objects\": 0.37, \"Exam Performance for Related Objects\": 0.12, \"Exam Performance\": 0.66, \"Knowledge Level\": \"Middle\"}, {\"Study Time\": 0.21, \"Repetition Time\": 0.32, \"Study Time for Related Objects\": 0.25, \"Exam Performance for Related Objects\": 0.5, \"Exam Performance\": 0.8, \"Knowledge Level\": \"High\"}, {\"Study Time\": 0.16, \"Repetition Time\": 0.28, \"Study Time for Related Objects\": 0.72, \"Exam Performance for Related Objects\": 0.27, \"Exam Performance\": 0.32, \"Knowledge Level\": \"Low\"}, {\"Study Time\": 0.52, \"Repetition Time\": 0.288, \"Study Time for Related Objects\": 0.32, \"Exam Performance for Related Objects\": 0.5, \"Exam Performance\": 0.3, \"Knowledge Level\": \"Low\"}, {\"Study Time\": 0.41, \"Repetition Time\": 0.37, \"Study Time for Related Objects\": 0.79, \"Exam Performance for Related Objects\": 0.12, \"Exam Performance\": 0.32, \"Knowledge Level\": \"Low\"}, {\"Study Time\": 0.2, \"Repetition Time\": 0.2, \"Study Time for Related Objects\": 0.88, \"Exam Performance for Related Objects\": 0.77, \"Exam Performance\": 0.8, \"Knowledge Level\": \"High\"}, {\"Study Time\": 0.11, \"Repetition Time\": 0.29, \"Study Time for Related Objects\": 0.2, \"Exam Performance for Related Objects\": 0.05, \"Exam Performance\": 0.66, \"Knowledge Level\": \"Middle\"}, {\"Study Time\": 0.15, \"Repetition Time\": 0.02, \"Study Time for Related Objects\": 0.34, \"Exam Performance for Related Objects\": 0.4, \"Exam Performance\": 0.01, \"Knowledge Level\": \"very_low\"}, {\"Study Time\": 0.12, \"Repetition Time\": 0.62, \"Study Time for Related Objects\": 0.21, \"Exam Performance for Related Objects\": 0.3, \"Exam Performance\": 0.59, \"Knowledge Level\": \"Middle\"}, {\"Study Time\": 0.28, \"Repetition Time\": 0.78, \"Study Time for Related Objects\": 0.44, \"Exam Performance for Related Objects\": 0.17, \"Exam Performance\": 0.66, \"Knowledge Level\": \"Middle\"}, {\"Study Time\": 0.28, \"Repetition Time\": 0.12, \"Study Time for Related Objects\": 0.38, \"Exam Performance for Related Objects\": 0.17, \"Exam Performance\": 0.6, \"Knowledge Level\": \"Middle\"}, {\"Study Time\": 0.41, \"Repetition Time\": 0.49, \"Study Time for Related Objects\": 0.34, \"Exam Performance for Related Objects\": 0.21, \"Exam Performance\": 0.92, \"Knowledge Level\": \"High\"}, {\"Study Time\": 0.0, \"Repetition Time\": 0.25, \"Study Time for Related Objects\": 0.5, \"Exam Performance for Related Objects\": 0.09, \"Exam Performance\": 0.07, \"Knowledge Level\": \"Very Low\"}, {\"Study Time\": 0.325, \"Repetition Time\": 0.25, \"Study Time for Related Objects\": 0.38, \"Exam Performance for Related Objects\": 0.31, \"Exam Performance\": 0.79, \"Knowledge Level\": \"High\"}, {\"Study Time\": 0.9, \"Repetition Time\": 0.26, \"Study Time for Related Objects\": 0.19, \"Exam Performance for Related Objects\": 0.58, \"Exam Performance\": 0.79, \"Knowledge Level\": \"High\"}, {\"Study Time\": 0.42, \"Repetition Time\": 0.29, \"Study Time for Related Objects\": 0.14, \"Exam Performance for Related Objects\": 0.03, \"Exam Performance\": 0.68, \"Knowledge Level\": \"Middle\"}, {\"Study Time\": 0.26, \"Repetition Time\": 0.26, \"Study Time for Related Objects\": 0.31, \"Exam Performance for Related Objects\": 0.26, \"Exam Performance\": 0.13, \"Knowledge Level\": \"Very Low\"}]}}, {\"mode\": \"vega-lite\"});\n",
       "</script>"
      ],
      "text/plain": [
       "alt.Chart(...)"
      ]
     },
     "execution_count": 31,
     "metadata": {},
     "output_type": "execute_result"
    }
   ],
   "source": [
    "# create a scatterplot of the data to visualize the relationship \n",
    "# between study time and exam performance and the knowledge level of the student\n",
    "alt.Chart(data_training).mark_point().encode(\n",
    "    x=\"Study Time\",\n",
    "    y=\"Exam Performance\",\n",
    "    color=\"Knowledge Level\"\n",
    ")\n"
   ]
  },
  {
   "cell_type": "code",
   "execution_count": 32,
   "id": "fb5bf575-5861-4448-80b3-033ac8af17ed",
   "metadata": {
    "tags": [],
    "vscode": {
     "languageId": "python"
    }
   },
   "outputs": [
    {
     "data": {
      "text/html": [
       "<div>\n",
       "<style scoped>\n",
       "    .dataframe tbody tr th:only-of-type {\n",
       "        vertical-align: middle;\n",
       "    }\n",
       "\n",
       "    .dataframe tbody tr th {\n",
       "        vertical-align: top;\n",
       "    }\n",
       "\n",
       "    .dataframe thead tr th {\n",
       "        text-align: left;\n",
       "    }\n",
       "\n",
       "    .dataframe thead tr:last-of-type th {\n",
       "        text-align: right;\n",
       "    }\n",
       "</style>\n",
       "<table border=\"1\" class=\"dataframe\">\n",
       "  <thead>\n",
       "    <tr>\n",
       "      <th></th>\n",
       "      <th colspan=\"2\" halign=\"left\">Study Time</th>\n",
       "      <th colspan=\"2\" halign=\"left\">Repetition Time</th>\n",
       "      <th colspan=\"2\" halign=\"left\">Study Time for Related Objects</th>\n",
       "      <th colspan=\"2\" halign=\"left\">Exam Performance for Related Objects</th>\n",
       "      <th colspan=\"2\" halign=\"left\">Exam Performance</th>\n",
       "    </tr>\n",
       "    <tr>\n",
       "      <th></th>\n",
       "      <th>mean</th>\n",
       "      <th>std</th>\n",
       "      <th>mean</th>\n",
       "      <th>std</th>\n",
       "      <th>mean</th>\n",
       "      <th>std</th>\n",
       "      <th>mean</th>\n",
       "      <th>std</th>\n",
       "      <th>mean</th>\n",
       "      <th>std</th>\n",
       "    </tr>\n",
       "    <tr>\n",
       "      <th>Knowledge Level</th>\n",
       "      <th></th>\n",
       "      <th></th>\n",
       "      <th></th>\n",
       "      <th></th>\n",
       "      <th></th>\n",
       "      <th></th>\n",
       "      <th></th>\n",
       "      <th></th>\n",
       "      <th></th>\n",
       "      <th></th>\n",
       "    </tr>\n",
       "  </thead>\n",
       "  <tbody>\n",
       "    <tr>\n",
       "      <th>High</th>\n",
       "      <td>0.400293</td>\n",
       "      <td>0.237109</td>\n",
       "      <td>0.428413</td>\n",
       "      <td>0.241783</td>\n",
       "      <td>0.534333</td>\n",
       "      <td>0.256321</td>\n",
       "      <td>0.531467</td>\n",
       "      <td>0.273727</td>\n",
       "      <td>0.804667</td>\n",
       "      <td>0.108271</td>\n",
       "    </tr>\n",
       "    <tr>\n",
       "      <th>Low</th>\n",
       "      <td>0.325896</td>\n",
       "      <td>0.183850</td>\n",
       "      <td>0.324354</td>\n",
       "      <td>0.182445</td>\n",
       "      <td>0.409375</td>\n",
       "      <td>0.252006</td>\n",
       "      <td>0.464375</td>\n",
       "      <td>0.230555</td>\n",
       "      <td>0.248750</td>\n",
       "      <td>0.073588</td>\n",
       "    </tr>\n",
       "    <tr>\n",
       "      <th>Middle</th>\n",
       "      <td>0.374656</td>\n",
       "      <td>0.208222</td>\n",
       "      <td>0.373215</td>\n",
       "      <td>0.211954</td>\n",
       "      <td>0.492581</td>\n",
       "      <td>0.234613</td>\n",
       "      <td>0.384516</td>\n",
       "      <td>0.248861</td>\n",
       "      <td>0.529785</td>\n",
       "      <td>0.133904</td>\n",
       "    </tr>\n",
       "    <tr>\n",
       "      <th>Very Low</th>\n",
       "      <td>0.224091</td>\n",
       "      <td>0.165462</td>\n",
       "      <td>0.321364</td>\n",
       "      <td>0.181194</td>\n",
       "      <td>0.293182</td>\n",
       "      <td>0.199365</td>\n",
       "      <td>0.185045</td>\n",
       "      <td>0.137006</td>\n",
       "      <td>0.100909</td>\n",
       "      <td>0.059674</td>\n",
       "    </tr>\n",
       "    <tr>\n",
       "      <th>very_low</th>\n",
       "      <td>0.321813</td>\n",
       "      <td>0.195123</td>\n",
       "      <td>0.204063</td>\n",
       "      <td>0.144167</td>\n",
       "      <td>0.395625</td>\n",
       "      <td>0.194695</td>\n",
       "      <td>0.371250</td>\n",
       "      <td>0.198926</td>\n",
       "      <td>0.085625</td>\n",
       "      <td>0.062072</td>\n",
       "    </tr>\n",
       "  </tbody>\n",
       "</table>\n",
       "</div>"
      ],
      "text/plain": [
       "                Study Time           Repetition Time            \\\n",
       "                      mean       std            mean       std   \n",
       "Knowledge Level                                                  \n",
       "High              0.400293  0.237109        0.428413  0.241783   \n",
       "Low               0.325896  0.183850        0.324354  0.182445   \n",
       "Middle            0.374656  0.208222        0.373215  0.211954   \n",
       "Very Low          0.224091  0.165462        0.321364  0.181194   \n",
       "very_low          0.321813  0.195123        0.204063  0.144167   \n",
       "\n",
       "                Study Time for Related Objects            \\\n",
       "                                          mean       std   \n",
       "Knowledge Level                                            \n",
       "High                                  0.534333  0.256321   \n",
       "Low                                   0.409375  0.252006   \n",
       "Middle                                0.492581  0.234613   \n",
       "Very Low                              0.293182  0.199365   \n",
       "very_low                              0.395625  0.194695   \n",
       "\n",
       "                Exam Performance for Related Objects            \\\n",
       "                                                mean       std   \n",
       "Knowledge Level                                                  \n",
       "High                                        0.531467  0.273727   \n",
       "Low                                         0.464375  0.230555   \n",
       "Middle                                      0.384516  0.248861   \n",
       "Very Low                                    0.185045  0.137006   \n",
       "very_low                                    0.371250  0.198926   \n",
       "\n",
       "                Exam Performance            \n",
       "                            mean       std  \n",
       "Knowledge Level                             \n",
       "High                    0.804667  0.108271  \n",
       "Low                     0.248750  0.073588  \n",
       "Middle                  0.529785  0.133904  \n",
       "Very Low                0.100909  0.059674  \n",
       "very_low                0.085625  0.062072  "
      ]
     },
     "execution_count": 32,
     "metadata": {},
     "output_type": "execute_result"
    }
   ],
   "source": [
    "# create a table to show the mean and standard deviation of each level of knowledge\n",
    "data_training.groupby(\"Knowledge Level\").agg([\"mean\", \"std\"])"
   ]
  },
  {
   "cell_type": "code",
   "execution_count": 33,
   "id": "bddfec4e-41af-4d4a-b100-c43a0ae919df",
   "metadata": {
    "tags": [],
    "vscode": {
     "languageId": "python"
    }
   },
   "outputs": [
    {
     "data": {
      "text/plain": [
       "Low         96\n",
       "Middle      93\n",
       "High        75\n",
       "Very Low    22\n",
       "very_low    16\n",
       "Name: Knowledge Level, dtype: int64"
      ]
     },
     "execution_count": 33,
     "metadata": {},
     "output_type": "execute_result"
    }
   ],
   "source": [
    "# show the number of students in each level of knowledge\n",
    "data_training[\"Knowledge Level\"].value_counts()"
   ]
  },
  {
   "cell_type": "markdown",
   "id": "41ab011a-8c55-4dbb-a589-335b35f78f77",
   "metadata": {},
   "source": [
    "## Expected Outcomes and Significance \n",
    "- What do you expect to find?  \n",
    "We expect to find that students with a high exam performance will have a high knowledge level. As exam performance decreases, their knowledge level also decreases. \n",
    "\n",
    "- What impact could such findings have?  \n",
    "The impacts that such findings have are that it can motivate students to study harder and set new goals to achieve. This can then influence students to develop better study habits which can lead into better time management skills for the future. Furthermore, these expected outcomes can encourage teachers to focus on effective teaching methods to create brighter minds of the future. \n"
   ]
  },
  {
   "cell_type": "markdown",
   "id": "cc71c365-0f6a-4540-8896-8e7962013147",
   "metadata": {},
   "source": [
    "## Future Questions \n",
    "- Is there a point of diminishing returns where a very high study time and exam performance may decrease knowledge level?\n",
    "- How effective are traditional exams in truly measuring a student's knowledge and understanding? \n",
    "- What are the long-term effects of the pressure associated with the correlation between exam performance and knowledge level on a student's mental health? \n",
    "- Do high exam scores always correlate with the ability to apply knowledge in real-world scenarios?"
   ]
  }
 ],
 "metadata": {
  "kernelspec": {
   "display_name": "Python 3 (ipykernel)",
   "language": "python",
   "name": "python3"
  },
  "language_info": {
   "codemirror_mode": {
    "name": "ipython",
    "version": 3
   },
   "file_extension": ".py",
   "mimetype": "text/x-python",
   "name": "python",
   "nbconvert_exporter": "python",
   "pygments_lexer": "ipython3",
   "version": "3.10.8"
  }
 },
 "nbformat": 4,
 "nbformat_minor": 5
}
