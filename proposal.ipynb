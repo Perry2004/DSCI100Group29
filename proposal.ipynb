{
 "cells": [
  {
   "cell_type": "markdown",
   "id": "be072b66-8ca8-413e-9127-83d4157336e4",
   "metadata": {},
   "source": [
    "# Predicting Knowledge Level in Electrical DC Machines: A Data Analysis of Study Time and Exam Performance"
   ]
  },
  {
   "cell_type": "code",
   "execution_count": 220,
   "id": "b2f09a29-5e96-41a7-ad01-36f3850a8170",
   "metadata": {
    "tags": []
   },
   "outputs": [],
   "source": [
    "# update the altair on UBC's open jupyter to 5.2\n",
    "# run this everytime the server is restarted\n",
    "# pip install -U altair"
   ]
  },
  {
   "cell_type": "code",
   "execution_count": 221,
   "id": "0e70ba0b-6628-4f8d-a1d2-9c433efb1e89",
   "metadata": {
    "tags": [],
    "vscode": {
     "languageId": "python"
    }
   },
   "outputs": [],
   "source": [
    "# Run this cell before continuing.\n",
    "import altair as alt\n",
    "import numpy as np\n",
    "import pandas as pd\n",
    "from sklearn import set_config\n",
    "from sklearn.model_selection import GridSearchCV, cross_validate, train_test_split\n",
    "from sklearn.preprocessing import StandardScaler\n",
    "from sklearn.neighbors import KNeighborsClassifier\n",
    "from sklearn.pipeline import make_pipeline\n",
    "from sklearn.compose import make_column_transformer\n",
    "\n",
    "# Simplify working with large datasets in Altair\n",
    "alt.data_transformers.disable_max_rows()\n",
    "\n",
    "# Output dataframes instead of arrays\n",
    "set_config(transform_output=\"pandas\")\n",
    "np.random.seed(1)"
   ]
  },
  {
   "cell_type": "markdown",
   "id": "8acb1d9f-6324-4f87-91a1-504716d3a92b",
   "metadata": {},
   "source": [
    "## Introduction \n",
    "In this data analysis, we will be using the “User Knowledge Modeling” dataset created by Hamdi Kahraman, Ilhami Colak and Seref Sagiroglu. This dataset is about the students’ knowledge level about the subject of Electrical DC Machines. Our primary objective is to predict the knowledge levels of students by exploring the relationship between two key factors: study time and exam performance.\n",
    "\n",
    "To address this question, we have selected the necessary variables from the dataset which are “knowledge level”, “study time” and “exam performance”. The dataset has been loaded into Python and wrangled to ensure a tidy dataset for our analysis. In the following sections, we present the initial exploratory data analysis, multiple tables have been included to showcase the general overview of our data. Additionally, to illustrate trends and patterns, we have incorporated a data visualization. These components aim to provide a better understanding of the dataset we are using. \n"
   ]
  },
  {
   "cell_type": "code",
   "execution_count": 222,
   "id": "2c7f6b3c-e2cd-4a9c-b9b0-d9073f4ae7b6",
   "metadata": {
    "tags": [],
    "vscode": {
     "languageId": "python"
    }
   },
   "outputs": [],
   "source": [
    "url = \"https://drive.usercontent.google.com/download?id=1RoSQfR5gGaMZuM8KSyjbkNSWuHJ6LpXD&export=download&authuser=0&confirm=t&uuid=059f3b74-cd6e-4c50-90ad-f3f527a0ef70&at=APZUnTXBmCv1FCzVJOuNrbHUAbwg:1701902444840\"\n",
    "\n",
    "# import from two sheets and combine into one dataframe\n",
    "data_training_sheet = pd.read_excel(url, sheet_name=\"Training_Data\")\n",
    "data_testing_sheet = pd.read_excel(url, sheet_name=\"Test_Data\")\n",
    "data = pd.concat([data_training_sheet, data_testing_sheet])"
   ]
  },
  {
   "cell_type": "markdown",
   "id": "a1d3b4d1-0290-4f38-a219-2935de4179b4",
   "metadata": {},
   "source": [
    "## Methods \n",
    "Regarding how we choose the variables to predict, we first randomly picked two variables out of five as axes to draw scatter plots for training data, with different colors assigned to different knowledge levels. We found that points with different colors are mixed together when we used study time and repetition time as axes, showing that these two variables shouldn’t be combined together for prediction. After several attempts, we figured out that while using study time and exam performance as axes, points in different colors are distributed with clear boundaries. Therefore, we decided to use these two variables to predict the classification of test data.\n",
    "\n",
    "Our next step was to standardize values of STG and PEG, use results of cross validation within training data to select the best k, then use it to predict the classification of testing data, finally evaluate the performance of our model.\n",
    "\n",
    "One way to visualize our results is to compare two scatter plots, one is the actual classification of testing data, another is our prediction for testing data. We can try to capture the distribution of wrongly predicted points, to see whether they are deviation points from the class, or there are other reasons.\n"
   ]
  },
  {
   "cell_type": "code",
   "execution_count": 223,
   "id": "7b0897cf-8b5c-4ba3-9c87-19e1a46c0b9e",
   "metadata": {
    "tags": [],
    "vscode": {
     "languageId": "python"
    }
   },
   "outputs": [
    {
     "data": {
      "text/html": [
       "<div>\n",
       "<style scoped>\n",
       "    .dataframe tbody tr th:only-of-type {\n",
       "        vertical-align: middle;\n",
       "    }\n",
       "\n",
       "    .dataframe tbody tr th {\n",
       "        vertical-align: top;\n",
       "    }\n",
       "\n",
       "    .dataframe thead th {\n",
       "        text-align: right;\n",
       "    }\n",
       "</style>\n",
       "<table border=\"1\" class=\"dataframe\">\n",
       "  <thead>\n",
       "    <tr style=\"text-align: right;\">\n",
       "      <th></th>\n",
       "      <th>Study Time</th>\n",
       "      <th>Repetition Time</th>\n",
       "      <th>Study Time for Related Objects</th>\n",
       "      <th>Exam Performance for Related Objects</th>\n",
       "      <th>Exam Performance</th>\n",
       "      <th>Knowledge Level</th>\n",
       "    </tr>\n",
       "  </thead>\n",
       "  <tbody>\n",
       "    <tr>\n",
       "      <th>0</th>\n",
       "      <td>0.00</td>\n",
       "      <td>0.00</td>\n",
       "      <td>0.00</td>\n",
       "      <td>0.00</td>\n",
       "      <td>0.00</td>\n",
       "      <td>very_low</td>\n",
       "    </tr>\n",
       "    <tr>\n",
       "      <th>1</th>\n",
       "      <td>0.08</td>\n",
       "      <td>0.08</td>\n",
       "      <td>0.10</td>\n",
       "      <td>0.24</td>\n",
       "      <td>0.90</td>\n",
       "      <td>High</td>\n",
       "    </tr>\n",
       "    <tr>\n",
       "      <th>2</th>\n",
       "      <td>0.06</td>\n",
       "      <td>0.06</td>\n",
       "      <td>0.05</td>\n",
       "      <td>0.25</td>\n",
       "      <td>0.33</td>\n",
       "      <td>Low</td>\n",
       "    </tr>\n",
       "    <tr>\n",
       "      <th>3</th>\n",
       "      <td>0.10</td>\n",
       "      <td>0.10</td>\n",
       "      <td>0.15</td>\n",
       "      <td>0.65</td>\n",
       "      <td>0.30</td>\n",
       "      <td>Middle</td>\n",
       "    </tr>\n",
       "    <tr>\n",
       "      <th>4</th>\n",
       "      <td>0.08</td>\n",
       "      <td>0.08</td>\n",
       "      <td>0.08</td>\n",
       "      <td>0.98</td>\n",
       "      <td>0.24</td>\n",
       "      <td>Low</td>\n",
       "    </tr>\n",
       "    <tr>\n",
       "      <th>...</th>\n",
       "      <td>...</td>\n",
       "      <td>...</td>\n",
       "      <td>...</td>\n",
       "      <td>...</td>\n",
       "      <td>...</td>\n",
       "      <td>...</td>\n",
       "    </tr>\n",
       "    <tr>\n",
       "      <th>140</th>\n",
       "      <td>0.90</td>\n",
       "      <td>0.78</td>\n",
       "      <td>0.62</td>\n",
       "      <td>0.32</td>\n",
       "      <td>0.89</td>\n",
       "      <td>High</td>\n",
       "    </tr>\n",
       "    <tr>\n",
       "      <th>141</th>\n",
       "      <td>0.85</td>\n",
       "      <td>0.82</td>\n",
       "      <td>0.66</td>\n",
       "      <td>0.83</td>\n",
       "      <td>0.83</td>\n",
       "      <td>High</td>\n",
       "    </tr>\n",
       "    <tr>\n",
       "      <th>142</th>\n",
       "      <td>0.56</td>\n",
       "      <td>0.60</td>\n",
       "      <td>0.77</td>\n",
       "      <td>0.13</td>\n",
       "      <td>0.32</td>\n",
       "      <td>Low</td>\n",
       "    </tr>\n",
       "    <tr>\n",
       "      <th>143</th>\n",
       "      <td>0.66</td>\n",
       "      <td>0.68</td>\n",
       "      <td>0.81</td>\n",
       "      <td>0.57</td>\n",
       "      <td>0.57</td>\n",
       "      <td>Middle</td>\n",
       "    </tr>\n",
       "    <tr>\n",
       "      <th>144</th>\n",
       "      <td>0.68</td>\n",
       "      <td>0.64</td>\n",
       "      <td>0.79</td>\n",
       "      <td>0.97</td>\n",
       "      <td>0.24</td>\n",
       "      <td>Middle</td>\n",
       "    </tr>\n",
       "  </tbody>\n",
       "</table>\n",
       "<p>403 rows × 6 columns</p>\n",
       "</div>"
      ],
      "text/plain": [
       "     Study Time  Repetition Time  Study Time for Related Objects  \\\n",
       "0          0.00             0.00                            0.00   \n",
       "1          0.08             0.08                            0.10   \n",
       "2          0.06             0.06                            0.05   \n",
       "3          0.10             0.10                            0.15   \n",
       "4          0.08             0.08                            0.08   \n",
       "..          ...              ...                             ...   \n",
       "140        0.90             0.78                            0.62   \n",
       "141        0.85             0.82                            0.66   \n",
       "142        0.56             0.60                            0.77   \n",
       "143        0.66             0.68                            0.81   \n",
       "144        0.68             0.64                            0.79   \n",
       "\n",
       "     Exam Performance for Related Objects  Exam Performance Knowledge Level  \n",
       "0                                    0.00              0.00        very_low  \n",
       "1                                    0.24              0.90            High  \n",
       "2                                    0.25              0.33             Low  \n",
       "3                                    0.65              0.30          Middle  \n",
       "4                                    0.98              0.24             Low  \n",
       "..                                    ...               ...             ...  \n",
       "140                                  0.32              0.89            High  \n",
       "141                                  0.83              0.83            High  \n",
       "142                                  0.13              0.32             Low  \n",
       "143                                  0.57              0.57          Middle  \n",
       "144                                  0.97              0.24          Middle  \n",
       "\n",
       "[403 rows x 6 columns]"
      ]
     },
     "execution_count": 223,
     "metadata": {},
     "output_type": "execute_result"
    }
   ],
   "source": [
    "# Drops text comment columns \n",
    "data = data.drop(\n",
    "    columns=[\"Attribute Information:\", \"Unnamed: 6\", \"Unnamed: 7\"]\n",
    ")\n",
    "\n",
    "# rename columns to make them more readable\n",
    "data = data.rename(\n",
    "    columns={\n",
    "        \"STG\": \"Study Time\",\n",
    "        \"SCG\": \"Repetition Time\",\n",
    "        \"STR\": \"Study Time for Related Objects\",\n",
    "        \"LPR\": \"Exam Performance for Related Objects\",\n",
    "        \"PEG\": \"Exam Performance\",\n",
    "        \" UNS\": \"Knowledge Level\"\n",
    "    }\n",
    ")\n",
    "data = data.assign()\n",
    "\n",
    "# the original, complete, data set\n",
    "data"
   ]
  },
  {
   "cell_type": "code",
   "execution_count": 224,
   "id": "cdcf769a-d3f5-4c2b-a128-03ccf214afcf",
   "metadata": {
    "tags": []
   },
   "outputs": [
    {
     "data": {
      "text/plain": [
       "Low         129\n",
       "Middle      122\n",
       "High        102\n",
       "very_low     50\n",
       "Name: Knowledge Level, dtype: int64"
      ]
     },
     "execution_count": 224,
     "metadata": {},
     "output_type": "execute_result"
    }
   ],
   "source": [
    "data[\"Knowledge Level\"].value_counts()"
   ]
  },
  {
   "cell_type": "code",
   "execution_count": 225,
   "id": "f87b5f33-ee0e-41c2-9757-0882368ab25b",
   "metadata": {
    "tags": [],
    "vscode": {
     "languageId": "python"
    }
   },
   "outputs": [],
   "source": [
    "# split data into training and testing sets\n",
    "data_training, data_testing = train_test_split(\n",
    "    data,\n",
    "    test_size=0.25,\n",
    "    stratify=data[\"Knowledge Level\"]\n",
    ")"
   ]
  },
  {
   "cell_type": "code",
   "execution_count": 226,
   "id": "01d7bfa8-0163-49fa-b7fd-04d2d4b111b4",
   "metadata": {
    "tags": [],
    "vscode": {
     "languageId": "python"
    }
   },
   "outputs": [
    {
     "name": "stdout",
     "output_type": "stream",
     "text": [
      "<class 'pandas.core.frame.DataFrame'>\n",
      "Int64Index: 302 entries, 116 to 89\n",
      "Data columns (total 6 columns):\n",
      " #   Column                                Non-Null Count  Dtype  \n",
      "---  ------                                --------------  -----  \n",
      " 0   Study Time                            302 non-null    float64\n",
      " 1   Repetition Time                       302 non-null    float64\n",
      " 2   Study Time for Related Objects        302 non-null    float64\n",
      " 3   Exam Performance for Related Objects  302 non-null    float64\n",
      " 4   Exam Performance                      302 non-null    float64\n",
      " 5   Knowledge Level                       302 non-null    object \n",
      "dtypes: float64(5), object(1)\n",
      "memory usage: 16.5+ KB\n"
     ]
    }
   ],
   "source": [
    "data_training.info()"
   ]
  },
  {
   "cell_type": "code",
   "execution_count": 227,
   "id": "f67d4b3c-0e44-45e7-b103-691e143ffe3e",
   "metadata": {
    "tags": [],
    "vscode": {
     "languageId": "python"
    }
   },
   "outputs": [
    {
     "name": "stdout",
     "output_type": "stream",
     "text": [
      "<class 'pandas.core.frame.DataFrame'>\n",
      "Int64Index: 101 entries, 48 to 78\n",
      "Data columns (total 6 columns):\n",
      " #   Column                                Non-Null Count  Dtype  \n",
      "---  ------                                --------------  -----  \n",
      " 0   Study Time                            101 non-null    float64\n",
      " 1   Repetition Time                       101 non-null    float64\n",
      " 2   Study Time for Related Objects        101 non-null    float64\n",
      " 3   Exam Performance for Related Objects  101 non-null    float64\n",
      " 4   Exam Performance                      101 non-null    float64\n",
      " 5   Knowledge Level                       101 non-null    object \n",
      "dtypes: float64(5), object(1)\n",
      "memory usage: 5.5+ KB\n"
     ]
    }
   ],
   "source": [
    "data_testing.info()"
   ]
  },
  {
   "cell_type": "code",
   "execution_count": 228,
   "id": "3ba41df8-612d-459a-ae24-a750d24fdea1",
   "metadata": {
    "tags": [],
    "vscode": {
     "languageId": "python"
    }
   },
   "outputs": [
    {
     "data": {
      "text/html": [
       "\n",
       "<style>\n",
       "  #altair-viz-0bacdbcef67749cd9f51b4c77789cfdd.vega-embed {\n",
       "    width: 100%;\n",
       "    display: flex;\n",
       "  }\n",
       "\n",
       "  #altair-viz-0bacdbcef67749cd9f51b4c77789cfdd.vega-embed details,\n",
       "  #altair-viz-0bacdbcef67749cd9f51b4c77789cfdd.vega-embed details summary {\n",
       "    position: relative;\n",
       "  }\n",
       "</style>\n",
       "<div id=\"altair-viz-0bacdbcef67749cd9f51b4c77789cfdd\"></div>\n",
       "<script type=\"text/javascript\">\n",
       "  var VEGA_DEBUG = (typeof VEGA_DEBUG == \"undefined\") ? {} : VEGA_DEBUG;\n",
       "  (function(spec, embedOpt){\n",
       "    let outputDiv = document.currentScript.previousElementSibling;\n",
       "    if (outputDiv.id !== \"altair-viz-0bacdbcef67749cd9f51b4c77789cfdd\") {\n",
       "      outputDiv = document.getElementById(\"altair-viz-0bacdbcef67749cd9f51b4c77789cfdd\");\n",
       "    }\n",
       "    const paths = {\n",
       "      \"vega\": \"https://cdn.jsdelivr.net/npm/vega@5?noext\",\n",
       "      \"vega-lib\": \"https://cdn.jsdelivr.net/npm/vega-lib?noext\",\n",
       "      \"vega-lite\": \"https://cdn.jsdelivr.net/npm/vega-lite@5.16.3?noext\",\n",
       "      \"vega-embed\": \"https://cdn.jsdelivr.net/npm/vega-embed@6?noext\",\n",
       "    };\n",
       "\n",
       "    function maybeLoadScript(lib, version) {\n",
       "      var key = `${lib.replace(\"-\", \"\")}_version`;\n",
       "      return (VEGA_DEBUG[key] == version) ?\n",
       "        Promise.resolve(paths[lib]) :\n",
       "        new Promise(function(resolve, reject) {\n",
       "          var s = document.createElement('script');\n",
       "          document.getElementsByTagName(\"head\")[0].appendChild(s);\n",
       "          s.async = true;\n",
       "          s.onload = () => {\n",
       "            VEGA_DEBUG[key] = version;\n",
       "            return resolve(paths[lib]);\n",
       "          };\n",
       "          s.onerror = () => reject(`Error loading script: ${paths[lib]}`);\n",
       "          s.src = paths[lib];\n",
       "        });\n",
       "    }\n",
       "\n",
       "    function showError(err) {\n",
       "      outputDiv.innerHTML = `<div class=\"error\" style=\"color:red;\">${err}</div>`;\n",
       "      throw err;\n",
       "    }\n",
       "\n",
       "    function displayChart(vegaEmbed) {\n",
       "      vegaEmbed(outputDiv, spec, embedOpt)\n",
       "        .catch(err => showError(`Javascript Error: ${err.message}<br>This usually means there's a typo in your chart specification. See the javascript console for the full traceback.`));\n",
       "    }\n",
       "\n",
       "    if(typeof define === \"function\" && define.amd) {\n",
       "      requirejs.config({paths});\n",
       "      require([\"vega-embed\"], displayChart, err => showError(`Error loading script: ${err.message}`));\n",
       "    } else {\n",
       "      maybeLoadScript(\"vega\", \"5\")\n",
       "        .then(() => maybeLoadScript(\"vega-lite\", \"5.16.3\"))\n",
       "        .then(() => maybeLoadScript(\"vega-embed\", \"6\"))\n",
       "        .catch(showError)\n",
       "        .then(() => displayChart(vegaEmbed));\n",
       "    }\n",
       "  })({\"config\": {\"view\": {\"continuousWidth\": 300, \"continuousHeight\": 300}}, \"data\": {\"name\": \"data-a91ed8f88f144b71d209cee9dc4da85d\"}, \"mark\": {\"type\": \"point\"}, \"encoding\": {\"color\": {\"field\": \"Knowledge Level\", \"type\": \"nominal\"}, \"x\": {\"field\": \"Study Time\", \"type\": \"quantitative\"}, \"y\": {\"field\": \"Exam Performance\", \"type\": \"quantitative\"}}, \"title\": \"Study Time & Exam Performance vs Knowledge Level\", \"$schema\": \"https://vega.github.io/schema/vega-lite/v5.16.3.json\", \"datasets\": {\"data-a91ed8f88f144b71d209cee9dc4da85d\": [{\"Study Time\": 0.265, \"Repetition Time\": 0.6, \"Study Time for Related Objects\": 0.28, \"Exam Performance for Related Objects\": 0.66, \"Exam Performance\": 0.07, \"Knowledge Level\": \"very_low\"}, {\"Study Time\": 0.345, \"Repetition Time\": 0.299, \"Study Time for Related Objects\": 0.1, \"Exam Performance for Related Objects\": 0.64, \"Exam Performance\": 0.13, \"Knowledge Level\": \"Low\"}, {\"Study Time\": 0.14, \"Repetition Time\": 0.65, \"Study Time for Related Objects\": 0.19, \"Exam Performance for Related Objects\": 0.26, \"Exam Performance\": 0.66, \"Knowledge Level\": \"Middle\"}, {\"Study Time\": 0.61, \"Repetition Time\": 0.258, \"Study Time for Related Objects\": 0.56, \"Exam Performance for Related Objects\": 0.62, \"Exam Performance\": 0.24, \"Knowledge Level\": \"Low\"}, {\"Study Time\": 0.66, \"Repetition Time\": 0.9, \"Study Time for Related Objects\": 0.76, \"Exam Performance for Related Objects\": 0.87, \"Exam Performance\": 0.74, \"Knowledge Level\": \"High\"}, {\"Study Time\": 0.299, \"Repetition Time\": 0.295, \"Study Time for Related Objects\": 0.8, \"Exam Performance for Related Objects\": 0.37, \"Exam Performance\": 0.84, \"Knowledge Level\": \"High\"}, {\"Study Time\": 0.32, \"Repetition Time\": 0.28, \"Study Time for Related Objects\": 0.72, \"Exam Performance for Related Objects\": 0.89, \"Exam Performance\": 0.58, \"Knowledge Level\": \"High\"}, {\"Study Time\": 0.1, \"Repetition Time\": 0.1, \"Study Time for Related Objects\": 0.15, \"Exam Performance for Related Objects\": 0.65, \"Exam Performance\": 0.3, \"Knowledge Level\": \"Middle\"}, {\"Study Time\": 0.39, \"Repetition Time\": 0.26, \"Study Time for Related Objects\": 0.39, \"Exam Performance for Related Objects\": 0.77, \"Exam Performance\": 0.14, \"Knowledge Level\": \"Low\"}, {\"Study Time\": 0.365, \"Repetition Time\": 0.243, \"Study Time for Related Objects\": 0.19, \"Exam Performance for Related Objects\": 0.24, \"Exam Performance\": 0.35, \"Knowledge Level\": \"Low\"}, {\"Study Time\": 0.295, \"Repetition Time\": 0.29, \"Study Time for Related Objects\": 0.31, \"Exam Performance for Related Objects\": 0.76, \"Exam Performance\": 0.1, \"Knowledge Level\": \"Low\"}, {\"Study Time\": 0.27, \"Repetition Time\": 0.28, \"Study Time for Related Objects\": 0.18, \"Exam Performance for Related Objects\": 0.48, \"Exam Performance\": 0.26, \"Knowledge Level\": \"Low\"}, {\"Study Time\": 0.4, \"Repetition Time\": 0.3, \"Study Time for Related Objects\": 0.18, \"Exam Performance for Related Objects\": 0.29, \"Exam Performance\": 0.59, \"Knowledge Level\": \"Middle\"}, {\"Study Time\": 0.39, \"Repetition Time\": 0.15, \"Study Time for Related Objects\": 0.81, \"Exam Performance for Related Objects\": 0.22, \"Exam Performance\": 0.29, \"Knowledge Level\": \"Low\"}, {\"Study Time\": 0.36, \"Repetition Time\": 0.52, \"Study Time for Related Objects\": 0.07, \"Exam Performance for Related Objects\": 0.1, \"Exam Performance\": 0.15, \"Knowledge Level\": \"very_low\"}, {\"Study Time\": 0.1, \"Repetition Time\": 0.6, \"Study Time for Related Objects\": 0.51, \"Exam Performance for Related Objects\": 0.1, \"Exam Performance\": 0.01, \"Knowledge Level\": \"very_low\"}, {\"Study Time\": 0.28, \"Repetition Time\": 0.27, \"Study Time for Related Objects\": 0.56, \"Exam Performance for Related Objects\": 0.14, \"Exam Performance\": 0.31, \"Knowledge Level\": \"Low\"}, {\"Study Time\": 0.27, \"Repetition Time\": 0.03, \"Study Time for Related Objects\": 0.76, \"Exam Performance for Related Objects\": 0.59, \"Exam Performance\": 0.23, \"Knowledge Level\": \"Low\"}, {\"Study Time\": 0.08, \"Repetition Time\": 0.08, \"Study Time for Related Objects\": 0.1, \"Exam Performance for Related Objects\": 0.24, \"Exam Performance\": 0.9, \"Knowledge Level\": \"High\"}, {\"Study Time\": 0.32, \"Repetition Time\": 0.27, \"Study Time for Related Objects\": 0.52, \"Exam Performance for Related Objects\": 0.81, \"Exam Performance\": 0.3, \"Knowledge Level\": \"Middle\"}, {\"Study Time\": 0.32, \"Repetition Time\": 0.02, \"Study Time for Related Objects\": 0.34, \"Exam Performance for Related Objects\": 0.13, \"Exam Performance\": 0.31, \"Knowledge Level\": \"Low\"}, {\"Study Time\": 0.2, \"Repetition Time\": 0.2, \"Study Time for Related Objects\": 0.7, \"Exam Performance for Related Objects\": 0.3, \"Exam Performance\": 0.6, \"Knowledge Level\": \"Middle\"}, {\"Study Time\": 0.44, \"Repetition Time\": 0.33, \"Study Time for Related Objects\": 0.59, \"Exam Performance for Related Objects\": 0.53, \"Exam Performance\": 0.85, \"Knowledge Level\": \"High\"}, {\"Study Time\": 0.31, \"Repetition Time\": 0.15, \"Study Time for Related Objects\": 0.58, \"Exam Performance for Related Objects\": 0.76, \"Exam Performance\": 0.52, \"Knowledge Level\": \"Middle\"}, {\"Study Time\": 0.52, \"Repetition Time\": 0.85, \"Study Time for Related Objects\": 0.06, \"Exam Performance for Related Objects\": 0.27, \"Exam Performance\": 0.25, \"Knowledge Level\": \"Low\"}, {\"Study Time\": 0.71, \"Repetition Time\": 0.475, \"Study Time for Related Objects\": 0.13, \"Exam Performance for Related Objects\": 0.23, \"Exam Performance\": 0.59, \"Knowledge Level\": \"Middle\"}, {\"Study Time\": 0.3, \"Repetition Time\": 0.08, \"Study Time for Related Objects\": 0.4, \"Exam Performance for Related Objects\": 0.02, \"Exam Performance\": 0.67, \"Knowledge Level\": \"Middle\"}, {\"Study Time\": 0.12, \"Repetition Time\": 0.12, \"Study Time for Related Objects\": 0.75, \"Exam Performance for Related Objects\": 0.35, \"Exam Performance\": 0.8, \"Knowledge Level\": \"High\"}, {\"Study Time\": 0.31, \"Repetition Time\": 0.2, \"Study Time for Related Objects\": 0.46, \"Exam Performance for Related Objects\": 0.78, \"Exam Performance\": 0.83, \"Knowledge Level\": \"High\"}, {\"Study Time\": 0.43, \"Repetition Time\": 0.38, \"Study Time for Related Objects\": 0.62, \"Exam Performance for Related Objects\": 0.33, \"Exam Performance\": 0.49, \"Knowledge Level\": \"Middle\"}, {\"Study Time\": 0.73, \"Repetition Time\": 0.2, \"Study Time for Related Objects\": 0.07, \"Exam Performance for Related Objects\": 0.72, \"Exam Performance\": 0.26, \"Knowledge Level\": \"Low\"}, {\"Study Time\": 0.06, \"Repetition Time\": 0.5, \"Study Time for Related Objects\": 0.09, \"Exam Performance for Related Objects\": 0.28, \"Exam Performance\": 0.25, \"Knowledge Level\": \"Low\"}, {\"Study Time\": 0.2, \"Repetition Time\": 0.68, \"Study Time for Related Objects\": 0.73, \"Exam Performance for Related Objects\": 0.48, \"Exam Performance\": 0.28, \"Knowledge Level\": \"Low\"}, {\"Study Time\": 0.55, \"Repetition Time\": 0.17, \"Study Time for Related Objects\": 0.71, \"Exam Performance for Related Objects\": 0.48, \"Exam Performance\": 0.11, \"Knowledge Level\": \"very_low\"}, {\"Study Time\": 0.42, \"Repetition Time\": 0.21, \"Study Time for Related Objects\": 0.87, \"Exam Performance for Related Objects\": 0.56, \"Exam Performance\": 0.48, \"Knowledge Level\": \"Middle\"}, {\"Study Time\": 0.11, \"Repetition Time\": 0.42, \"Study Time for Related Objects\": 0.38, \"Exam Performance for Related Objects\": 0.82, \"Exam Performance\": 0.31, \"Knowledge Level\": \"Middle\"}, {\"Study Time\": 0.05, \"Repetition Time\": 0.05, \"Study Time for Related Objects\": 0.55, \"Exam Performance for Related Objects\": 0.6, \"Exam Performance\": 0.14, \"Knowledge Level\": \"Low\"}, {\"Study Time\": 0.68, \"Repetition Time\": 0.64, \"Study Time for Related Objects\": 0.79, \"Exam Performance for Related Objects\": 0.97, \"Exam Performance\": 0.24, \"Knowledge Level\": \"Middle\"}, {\"Study Time\": 0.325, \"Repetition Time\": 0.25, \"Study Time for Related Objects\": 0.38, \"Exam Performance for Related Objects\": 0.31, \"Exam Performance\": 0.79, \"Knowledge Level\": \"High\"}, {\"Study Time\": 0.42, \"Repetition Time\": 0.39, \"Study Time for Related Objects\": 0.78, \"Exam Performance for Related Objects\": 0.32, \"Exam Performance\": 0.2, \"Knowledge Level\": \"Low\"}, {\"Study Time\": 0.91, \"Repetition Time\": 0.58, \"Study Time for Related Objects\": 0.26, \"Exam Performance for Related Objects\": 0.89, \"Exam Performance\": 0.88, \"Knowledge Level\": \"High\"}, {\"Study Time\": 0.16, \"Repetition Time\": 0.52, \"Study Time for Related Objects\": 0.3, \"Exam Performance for Related Objects\": 0.09, \"Exam Performance\": 0.11, \"Knowledge Level\": \"very_low\"}, {\"Study Time\": 0.85, \"Repetition Time\": 0.05, \"Study Time for Related Objects\": 0.91, \"Exam Performance for Related Objects\": 0.8, \"Exam Performance\": 0.68, \"Knowledge Level\": \"High\"}, {\"Study Time\": 0.1, \"Repetition Time\": 0.25, \"Study Time for Related Objects\": 0.1, \"Exam Performance for Related Objects\": 0.08, \"Exam Performance\": 0.33, \"Knowledge Level\": \"Low\"}, {\"Study Time\": 0.1, \"Repetition Time\": 0.27, \"Study Time for Related Objects\": 0.31, \"Exam Performance for Related Objects\": 0.29, \"Exam Performance\": 0.65, \"Knowledge Level\": \"Middle\"}, {\"Study Time\": 0.46, \"Repetition Time\": 0.78, \"Study Time for Related Objects\": 0.38, \"Exam Performance for Related Objects\": 0.24, \"Exam Performance\": 0.89, \"Knowledge Level\": \"High\"}, {\"Study Time\": 0.26, \"Repetition Time\": 0.09, \"Study Time for Related Objects\": 0.33, \"Exam Performance for Related Objects\": 0.28, \"Exam Performance\": 0.32, \"Knowledge Level\": \"Low\"}, {\"Study Time\": 0.495, \"Repetition Time\": 0.276, \"Study Time for Related Objects\": 0.58, \"Exam Performance for Related Objects\": 0.77, \"Exam Performance\": 0.83, \"Knowledge Level\": \"High\"}, {\"Study Time\": 0.38, \"Repetition Time\": 0.1, \"Study Time for Related Objects\": 0.4, \"Exam Performance for Related Objects\": 0.48, \"Exam Performance\": 0.26, \"Knowledge Level\": \"Low\"}, {\"Study Time\": 0.25, \"Repetition Time\": 0.05, \"Study Time for Related Objects\": 0.53, \"Exam Performance for Related Objects\": 0.1, \"Exam Performance\": 0.12, \"Knowledge Level\": \"very_low\"}, {\"Study Time\": 0.23, \"Repetition Time\": 0.7, \"Study Time for Related Objects\": 0.19, \"Exam Performance for Related Objects\": 0.51, \"Exam Performance\": 0.45, \"Knowledge Level\": \"Middle\"}, {\"Study Time\": 0.64, \"Repetition Time\": 0.55, \"Study Time for Related Objects\": 0.15, \"Exam Performance for Related Objects\": 0.18, \"Exam Performance\": 0.63, \"Knowledge Level\": \"Middle\"}, {\"Study Time\": 0.75, \"Repetition Time\": 0.22, \"Study Time for Related Objects\": 0.24, \"Exam Performance for Related Objects\": 0.96, \"Exam Performance\": 0.62, \"Knowledge Level\": \"High\"}, {\"Study Time\": 0.06, \"Repetition Time\": 0.06, \"Study Time for Related Objects\": 0.51, \"Exam Performance for Related Objects\": 0.41, \"Exam Performance\": 0.3, \"Knowledge Level\": \"Low\"}, {\"Study Time\": 0.54, \"Repetition Time\": 0.82, \"Study Time for Related Objects\": 0.71, \"Exam Performance for Related Objects\": 0.29, \"Exam Performance\": 0.77, \"Knowledge Level\": \"High\"}, {\"Study Time\": 0.315, \"Repetition Time\": 0.69, \"Study Time for Related Objects\": 0.28, \"Exam Performance for Related Objects\": 0.8, \"Exam Performance\": 0.7, \"Knowledge Level\": \"High\"}, {\"Study Time\": 0.329, \"Repetition Time\": 0.55, \"Study Time for Related Objects\": 0.02, \"Exam Performance for Related Objects\": 0.4, \"Exam Performance\": 0.79, \"Knowledge Level\": \"High\"}, {\"Study Time\": 0.42, \"Repetition Time\": 0.7, \"Study Time for Related Objects\": 0.72, \"Exam Performance for Related Objects\": 0.3, \"Exam Performance\": 0.8, \"Knowledge Level\": \"High\"}, {\"Study Time\": 0.3, \"Repetition Time\": 0.16, \"Study Time for Related Objects\": 0.89, \"Exam Performance for Related Objects\": 0.32, \"Exam Performance\": 0.95, \"Knowledge Level\": \"High\"}, {\"Study Time\": 0.17, \"Repetition Time\": 0.36, \"Study Time for Related Objects\": 0.8, \"Exam Performance for Related Objects\": 0.14, \"Exam Performance\": 0.66, \"Knowledge Level\": \"Middle\"}, {\"Study Time\": 0.06, \"Repetition Time\": 0.06, \"Study Time for Related Objects\": 0.05, \"Exam Performance for Related Objects\": 0.25, \"Exam Performance\": 0.33, \"Knowledge Level\": \"Low\"}, {\"Study Time\": 0.15, \"Repetition Time\": 0.32, \"Study Time for Related Objects\": 0.05, \"Exam Performance for Related Objects\": 0.27, \"Exam Performance\": 0.29, \"Knowledge Level\": \"Low\"}, {\"Study Time\": 0.27, \"Repetition Time\": 0.31, \"Study Time for Related Objects\": 0.32, \"Exam Performance for Related Objects\": 0.41, \"Exam Performance\": 0.28, \"Knowledge Level\": \"Low\"}, {\"Study Time\": 0.21, \"Repetition Time\": 0.9, \"Study Time for Related Objects\": 0.9, \"Exam Performance for Related Objects\": 0.22, \"Exam Performance\": 0.92, \"Knowledge Level\": \"High\"}, {\"Study Time\": 0.37, \"Repetition Time\": 0.55, \"Study Time for Related Objects\": 0.41, \"Exam Performance for Related Objects\": 0.29, \"Exam Performance\": 0.3, \"Knowledge Level\": \"Low\"}, {\"Study Time\": 0.46, \"Repetition Time\": 0.64, \"Study Time for Related Objects\": 0.22, \"Exam Performance for Related Objects\": 0.22, \"Exam Performance\": 0.6, \"Knowledge Level\": \"Middle\"}, {\"Study Time\": 0.8, \"Repetition Time\": 0.24, \"Study Time for Related Objects\": 0.23, \"Exam Performance for Related Objects\": 0.29, \"Exam Performance\": 0.98, \"Knowledge Level\": \"High\"}, {\"Study Time\": 0.18, \"Repetition Time\": 0.29, \"Study Time for Related Objects\": 0.78, \"Exam Performance for Related Objects\": 0.15, \"Exam Performance\": 0.61, \"Knowledge Level\": \"Middle\"}, {\"Study Time\": 0.05, \"Repetition Time\": 0.07, \"Study Time for Related Objects\": 0.7, \"Exam Performance for Related Objects\": 0.01, \"Exam Performance\": 0.05, \"Knowledge Level\": \"very_low\"}, {\"Study Time\": 0.3, \"Repetition Time\": 0.85, \"Study Time for Related Objects\": 0.54, \"Exam Performance for Related Objects\": 0.25, \"Exam Performance\": 0.83, \"Knowledge Level\": \"Middle\"}, {\"Study Time\": 0.68, \"Repetition Time\": 0.61, \"Study Time for Related Objects\": 0.34, \"Exam Performance for Related Objects\": 0.31, \"Exam Performance\": 0.23, \"Knowledge Level\": \"Low\"}, {\"Study Time\": 0.42, \"Repetition Time\": 0.13, \"Study Time for Related Objects\": 0.15, \"Exam Performance for Related Objects\": 0.94, \"Exam Performance\": 0.3, \"Knowledge Level\": \"Middle\"}, {\"Study Time\": 0.55, \"Repetition Time\": 0.1, \"Study Time for Related Objects\": 0.34, \"Exam Performance for Related Objects\": 0.3, \"Exam Performance\": 0.1, \"Knowledge Level\": \"very_low\"}, {\"Study Time\": 0.295, \"Repetition Time\": 0.59, \"Study Time for Related Objects\": 0.29, \"Exam Performance for Related Objects\": 0.31, \"Exam Performance\": 0.55, \"Knowledge Level\": \"Middle\"}, {\"Study Time\": 0.15, \"Repetition Time\": 0.275, \"Study Time for Related Objects\": 0.8, \"Exam Performance for Related Objects\": 0.21, \"Exam Performance\": 0.81, \"Knowledge Level\": \"High\"}, {\"Study Time\": 0.41, \"Repetition Time\": 0.09, \"Study Time for Related Objects\": 0.58, \"Exam Performance for Related Objects\": 0.18, \"Exam Performance\": 0.58, \"Knowledge Level\": \"Middle\"}, {\"Study Time\": 0.33, \"Repetition Time\": 0.04, \"Study Time for Related Objects\": 0.02, \"Exam Performance for Related Objects\": 0.12, \"Exam Performance\": 0.11, \"Knowledge Level\": \"very_low\"}, {\"Study Time\": 0.46, \"Repetition Time\": 0.2, \"Study Time for Related Objects\": 0.76, \"Exam Performance for Related Objects\": 0.95, \"Exam Performance\": 0.65, \"Knowledge Level\": \"High\"}, {\"Study Time\": 0.1, \"Repetition Time\": 0.256, \"Study Time for Related Objects\": 0.7, \"Exam Performance for Related Objects\": 0.76, \"Exam Performance\": 0.16, \"Knowledge Level\": \"Low\"}, {\"Study Time\": 0.08, \"Repetition Time\": 0.08, \"Study Time for Related Objects\": 0.08, \"Exam Performance for Related Objects\": 0.98, \"Exam Performance\": 0.24, \"Knowledge Level\": \"Low\"}, {\"Study Time\": 0.28, \"Repetition Time\": 0.29, \"Study Time for Related Objects\": 0.19, \"Exam Performance for Related Objects\": 0.37, \"Exam Performance\": 0.58, \"Knowledge Level\": \"Middle\"}, {\"Study Time\": 0.255, \"Repetition Time\": 0.18, \"Study Time for Related Objects\": 0.5, \"Exam Performance for Related Objects\": 0.4, \"Exam Performance\": 0.1, \"Knowledge Level\": \"very_low\"}, {\"Study Time\": 0.258, \"Repetition Time\": 0.31, \"Study Time for Related Objects\": 0.88, \"Exam Performance for Related Objects\": 0.4, \"Exam Performance\": 0.3, \"Knowledge Level\": \"Low\"}, {\"Study Time\": 0.65, \"Repetition Time\": 0.09, \"Study Time for Related Objects\": 0.16, \"Exam Performance for Related Objects\": 0.49, \"Exam Performance\": 0.31, \"Knowledge Level\": \"Low\"}, {\"Study Time\": 0.09, \"Repetition Time\": 0.6, \"Study Time for Related Objects\": 0.66, \"Exam Performance for Related Objects\": 0.19, \"Exam Performance\": 0.59, \"Knowledge Level\": \"Middle\"}, {\"Study Time\": 0.38, \"Repetition Time\": 0.59, \"Study Time for Related Objects\": 0.31, \"Exam Performance for Related Objects\": 0.62, \"Exam Performance\": 0.2, \"Knowledge Level\": \"Low\"}, {\"Study Time\": 0.76, \"Repetition Time\": 0.258, \"Study Time for Related Objects\": 0.07, \"Exam Performance for Related Objects\": 0.83, \"Exam Performance\": 0.34, \"Knowledge Level\": \"Middle\"}, {\"Study Time\": 0.19, \"Repetition Time\": 0.38, \"Study Time for Related Objects\": 0.38, \"Exam Performance for Related Objects\": 0.49, \"Exam Performance\": 0.45, \"Knowledge Level\": \"Middle\"}, {\"Study Time\": 0.315, \"Repetition Time\": 0.32, \"Study Time for Related Objects\": 0.29, \"Exam Performance for Related Objects\": 0.29, \"Exam Performance\": 0.62, \"Knowledge Level\": \"Middle\"}, {\"Study Time\": 0.78, \"Repetition Time\": 0.21, \"Study Time for Related Objects\": 0.68, \"Exam Performance for Related Objects\": 0.65, \"Exam Performance\": 0.75, \"Knowledge Level\": \"High\"}, {\"Study Time\": 0.16, \"Repetition Time\": 0.28, \"Study Time for Related Objects\": 0.72, \"Exam Performance for Related Objects\": 0.27, \"Exam Performance\": 0.32, \"Knowledge Level\": \"Low\"}, {\"Study Time\": 0.15, \"Repetition Time\": 0.42, \"Study Time for Related Objects\": 0.6, \"Exam Performance for Related Objects\": 0.15, \"Exam Performance\": 0.62, \"Knowledge Level\": \"Middle\"}, {\"Study Time\": 0.14, \"Repetition Time\": 0.61, \"Study Time for Related Objects\": 0.39, \"Exam Performance for Related Objects\": 0.56, \"Exam Performance\": 0.56, \"Knowledge Level\": \"Middle\"}, {\"Study Time\": 0.21, \"Repetition Time\": 0.88, \"Study Time for Related Objects\": 0.87, \"Exam Performance for Related Objects\": 0.56, \"Exam Performance\": 0.95, \"Knowledge Level\": \"High\"}, {\"Study Time\": 0.29, \"Repetition Time\": 0.15, \"Study Time for Related Objects\": 0.33, \"Exam Performance for Related Objects\": 0.66, \"Exam Performance\": 0.08, \"Knowledge Level\": \"very_low\"}, {\"Study Time\": 0.45, \"Repetition Time\": 0.65, \"Study Time for Related Objects\": 0.19, \"Exam Performance for Related Objects\": 0.99, \"Exam Performance\": 0.55, \"Knowledge Level\": \"High\"}, {\"Study Time\": 0.31, \"Repetition Time\": 0.82, \"Study Time for Related Objects\": 0.47, \"Exam Performance for Related Objects\": 0.4, \"Exam Performance\": 0.99, \"Knowledge Level\": \"High\"}, {\"Study Time\": 0.22, \"Repetition Time\": 0.22, \"Study Time for Related Objects\": 0.9, \"Exam Performance for Related Objects\": 0.3, \"Exam Performance\": 0.9, \"Knowledge Level\": \"High\"}, {\"Study Time\": 0.35, \"Repetition Time\": 0.38, \"Study Time for Related Objects\": 0.32, \"Exam Performance for Related Objects\": 0.6, \"Exam Performance\": 0.16, \"Knowledge Level\": \"Low\"}, {\"Study Time\": 0.14, \"Repetition Time\": 0.38, \"Study Time for Related Objects\": 0.59, \"Exam Performance for Related Objects\": 0.11, \"Exam Performance\": 0.32, \"Knowledge Level\": \"Low\"}, {\"Study Time\": 0.28, \"Repetition Time\": 0.16, \"Study Time for Related Objects\": 0.41, \"Exam Performance for Related Objects\": 0.51, \"Exam Performance\": 0.56, \"Knowledge Level\": \"Middle\"}, {\"Study Time\": 0.87, \"Repetition Time\": 0.23, \"Study Time for Related Objects\": 0.25, \"Exam Performance for Related Objects\": 0.85, \"Exam Performance\": 0.8, \"Knowledge Level\": \"High\"}, {\"Study Time\": 0.12, \"Repetition Time\": 0.12, \"Study Time for Related Objects\": 0.75, \"Exam Performance for Related Objects\": 0.68, \"Exam Performance\": 0.15, \"Knowledge Level\": \"Low\"}, {\"Study Time\": 0.2, \"Repetition Time\": 0.32, \"Study Time for Related Objects\": 0.65, \"Exam Performance for Related Objects\": 0.31, \"Exam Performance\": 0.89, \"Knowledge Level\": \"High\"}, {\"Study Time\": 0.6, \"Repetition Time\": 0.14, \"Study Time for Related Objects\": 0.22, \"Exam Performance for Related Objects\": 0.11, \"Exam Performance\": 0.66, \"Knowledge Level\": \"Middle\"}, {\"Study Time\": 0.258, \"Repetition Time\": 0.28, \"Study Time for Related Objects\": 0.64, \"Exam Performance for Related Objects\": 0.29, \"Exam Performance\": 0.56, \"Knowledge Level\": \"Middle\"}, {\"Study Time\": 0.79, \"Repetition Time\": 0.28, \"Study Time for Related Objects\": 0.88, \"Exam Performance for Related Objects\": 0.2, \"Exam Performance\": 0.66, \"Knowledge Level\": \"Middle\"}, {\"Study Time\": 0.28, \"Repetition Time\": 0.06, \"Study Time for Related Objects\": 0.7, \"Exam Performance for Related Objects\": 0.27, \"Exam Performance\": 0.32, \"Knowledge Level\": \"Low\"}, {\"Study Time\": 0.62, \"Repetition Time\": 0.67, \"Study Time for Related Objects\": 0.39, \"Exam Performance for Related Objects\": 0.1, \"Exam Performance\": 0.66, \"Knowledge Level\": \"Middle\"}, {\"Study Time\": 0.348, \"Repetition Time\": 0.329, \"Study Time for Related Objects\": 0.83, \"Exam Performance for Related Objects\": 0.61, \"Exam Performance\": 0.18, \"Knowledge Level\": \"Low\"}, {\"Study Time\": 0.11, \"Repetition Time\": 0.29, \"Study Time for Related Objects\": 0.2, \"Exam Performance for Related Objects\": 0.05, \"Exam Performance\": 0.66, \"Knowledge Level\": \"Middle\"}, {\"Study Time\": 0.52, \"Repetition Time\": 0.288, \"Study Time for Related Objects\": 0.32, \"Exam Performance for Related Objects\": 0.5, \"Exam Performance\": 0.3, \"Knowledge Level\": \"Low\"}, {\"Study Time\": 0.22, \"Repetition Time\": 0.31, \"Study Time for Related Objects\": 0.42, \"Exam Performance for Related Objects\": 0.88, \"Exam Performance\": 0.8, \"Knowledge Level\": \"High\"}, {\"Study Time\": 0.45, \"Repetition Time\": 0.299, \"Study Time for Related Objects\": 0.63, \"Exam Performance for Related Objects\": 0.36, \"Exam Performance\": 0.51, \"Knowledge Level\": \"Middle\"}, {\"Study Time\": 0.37, \"Repetition Time\": 0.07, \"Study Time for Related Objects\": 0.1, \"Exam Performance for Related Objects\": 0.41, \"Exam Performance\": 0.3, \"Knowledge Level\": \"Low\"}, {\"Study Time\": 0.295, \"Repetition Time\": 0.2, \"Study Time for Related Objects\": 0.86, \"Exam Performance for Related Objects\": 0.44, \"Exam Performance\": 0.28, \"Knowledge Level\": \"Low\"}, {\"Study Time\": 0.18, \"Repetition Time\": 0.37, \"Study Time for Related Objects\": 0.11, \"Exam Performance for Related Objects\": 0.28, \"Exam Performance\": 0.3, \"Knowledge Level\": \"Low\"}, {\"Study Time\": 0.58, \"Repetition Time\": 0.4, \"Study Time for Related Objects\": 0.32, \"Exam Performance for Related Objects\": 0.22, \"Exam Performance\": 0.24, \"Knowledge Level\": \"Low\"}, {\"Study Time\": 0.4, \"Repetition Time\": 0.61, \"Study Time for Related Objects\": 0.71, \"Exam Performance for Related Objects\": 0.88, \"Exam Performance\": 0.67, \"Knowledge Level\": \"High\"}, {\"Study Time\": 0.1, \"Repetition Time\": 0.6, \"Study Time for Related Objects\": 0.33, \"Exam Performance for Related Objects\": 0.42, \"Exam Performance\": 0.26, \"Knowledge Level\": \"Low\"}, {\"Study Time\": 0.495, \"Repetition Time\": 0.82, \"Study Time for Related Objects\": 0.67, \"Exam Performance for Related Objects\": 0.01, \"Exam Performance\": 0.93, \"Knowledge Level\": \"High\"}, {\"Study Time\": 0.09, \"Repetition Time\": 0.51, \"Study Time for Related Objects\": 0.02, \"Exam Performance for Related Objects\": 0.18, \"Exam Performance\": 0.67, \"Knowledge Level\": \"Middle\"}, {\"Study Time\": 0.62, \"Repetition Time\": 0.56, \"Study Time for Related Objects\": 0.11, \"Exam Performance for Related Objects\": 0.24, \"Exam Performance\": 0.22, \"Knowledge Level\": \"Low\"}, {\"Study Time\": 0.47, \"Repetition Time\": 0.47, \"Study Time for Related Objects\": 0.25, \"Exam Performance for Related Objects\": 0.96, \"Exam Performance\": 0.61, \"Knowledge Level\": \"High\"}, {\"Study Time\": 0.385, \"Repetition Time\": 0.26, \"Study Time for Related Objects\": 0.76, \"Exam Performance for Related Objects\": 0.84, \"Exam Performance\": 0.3, \"Knowledge Level\": \"Middle\"}, {\"Study Time\": 0.72, \"Repetition Time\": 0.32, \"Study Time for Related Objects\": 0.48, \"Exam Performance for Related Objects\": 0.2, \"Exam Performance\": 0.6, \"Knowledge Level\": \"Middle\"}, {\"Study Time\": 0.32, \"Repetition Time\": 0.31, \"Study Time for Related Objects\": 0.26, \"Exam Performance for Related Objects\": 0.83, \"Exam Performance\": 0.77, \"Knowledge Level\": \"High\"}, {\"Study Time\": 0.37, \"Repetition Time\": 0.06, \"Study Time for Related Objects\": 0.32, \"Exam Performance for Related Objects\": 0.78, \"Exam Performance\": 0.1, \"Knowledge Level\": \"Low\"}, {\"Study Time\": 0.12, \"Repetition Time\": 0.62, \"Study Time for Related Objects\": 0.21, \"Exam Performance for Related Objects\": 0.3, \"Exam Performance\": 0.59, \"Knowledge Level\": \"Middle\"}, {\"Study Time\": 0.43, \"Repetition Time\": 0.45, \"Study Time for Related Objects\": 0.27, \"Exam Performance for Related Objects\": 0.27, \"Exam Performance\": 0.89, \"Knowledge Level\": \"High\"}, {\"Study Time\": 0.29, \"Repetition Time\": 0.3, \"Study Time for Related Objects\": 0.52, \"Exam Performance for Related Objects\": 0.09, \"Exam Performance\": 0.67, \"Knowledge Level\": \"Middle\"}, {\"Study Time\": 0.56, \"Repetition Time\": 0.35, \"Study Time for Related Objects\": 0.1, \"Exam Performance for Related Objects\": 0.62, \"Exam Performance\": 0.23, \"Knowledge Level\": \"Low\"}, {\"Study Time\": 0.49, \"Repetition Time\": 0.9, \"Study Time for Related Objects\": 0.52, \"Exam Performance for Related Objects\": 0.9, \"Exam Performance\": 0.47, \"Knowledge Level\": \"High\"}, {\"Study Time\": 0.11, \"Repetition Time\": 0.3, \"Study Time for Related Objects\": 0.79, \"Exam Performance for Related Objects\": 0.8, \"Exam Performance\": 0.32, \"Knowledge Level\": \"Middle\"}, {\"Study Time\": 0.18, \"Repetition Time\": 0.33, \"Study Time for Related Objects\": 0.61, \"Exam Performance for Related Objects\": 0.64, \"Exam Performance\": 0.25, \"Knowledge Level\": \"Middle\"}, {\"Study Time\": 0.4, \"Repetition Time\": 0.12, \"Study Time for Related Objects\": 0.41, \"Exam Performance for Related Objects\": 0.1, \"Exam Performance\": 0.65, \"Knowledge Level\": \"Middle\"}, {\"Study Time\": 0.3, \"Repetition Time\": 0.18, \"Study Time for Related Objects\": 0.23, \"Exam Performance for Related Objects\": 0.9, \"Exam Performance\": 0.84, \"Knowledge Level\": \"High\"}, {\"Study Time\": 0.305, \"Repetition Time\": 0.55, \"Study Time for Related Objects\": 0.5, \"Exam Performance for Related Objects\": 0.11, \"Exam Performance\": 0.333, \"Knowledge Level\": \"Low\"}, {\"Study Time\": 0.49, \"Repetition Time\": 0.34, \"Study Time for Related Objects\": 0.88, \"Exam Performance for Related Objects\": 0.75, \"Exam Performance\": 0.71, \"Knowledge Level\": \"High\"}, {\"Study Time\": 0.295, \"Repetition Time\": 0.25, \"Study Time for Related Objects\": 0.73, \"Exam Performance for Related Objects\": 0.77, \"Exam Performance\": 0.19, \"Knowledge Level\": \"Low\"}, {\"Study Time\": 0.56, \"Repetition Time\": 0.6, \"Study Time for Related Objects\": 0.77, \"Exam Performance for Related Objects\": 0.13, \"Exam Performance\": 0.32, \"Knowledge Level\": \"Low\"}, {\"Study Time\": 0.25, \"Repetition Time\": 0.54, \"Study Time for Related Objects\": 0.31, \"Exam Performance for Related Objects\": 0.25, \"Exam Performance\": 0.08, \"Knowledge Level\": \"very_low\"}, {\"Study Time\": 0.1, \"Repetition Time\": 0.39, \"Study Time for Related Objects\": 0.75, \"Exam Performance for Related Objects\": 0.31, \"Exam Performance\": 0.62, \"Knowledge Level\": \"Middle\"}, {\"Study Time\": 0.78, \"Repetition Time\": 0.61, \"Study Time for Related Objects\": 0.71, \"Exam Performance for Related Objects\": 0.19, \"Exam Performance\": 0.6, \"Knowledge Level\": \"Middle\"}, {\"Study Time\": 0.14, \"Repetition Time\": 0.49, \"Study Time for Related Objects\": 0.55, \"Exam Performance for Related Objects\": 0.29, \"Exam Performance\": 0.6, \"Knowledge Level\": \"Middle\"}, {\"Study Time\": 0.34, \"Repetition Time\": 0.4, \"Study Time for Related Objects\": 0.38, \"Exam Performance for Related Objects\": 0.2, \"Exam Performance\": 0.61, \"Knowledge Level\": \"Middle\"}, {\"Study Time\": 0.28, \"Repetition Time\": 0.08, \"Study Time for Related Objects\": 0.52, \"Exam Performance for Related Objects\": 0.25, \"Exam Performance\": 0.08, \"Knowledge Level\": \"very_low\"}, {\"Study Time\": 0.1, \"Repetition Time\": 0.1, \"Study Time for Related Objects\": 0.7, \"Exam Performance for Related Objects\": 0.15, \"Exam Performance\": 0.9, \"Knowledge Level\": \"High\"}, {\"Study Time\": 0.325, \"Repetition Time\": 0.9, \"Study Time for Related Objects\": 0.52, \"Exam Performance for Related Objects\": 0.49, \"Exam Performance\": 0.76, \"Knowledge Level\": \"High\"}, {\"Study Time\": 0.27, \"Repetition Time\": 0.28, \"Study Time for Related Objects\": 0.59, \"Exam Performance for Related Objects\": 0.69, \"Exam Performance\": 0.26, \"Knowledge Level\": \"Middle\"}, {\"Study Time\": 0.523, \"Repetition Time\": 0.41, \"Study Time for Related Objects\": 0.55, \"Exam Performance for Related Objects\": 0.6, \"Exam Performance\": 0.22, \"Knowledge Level\": \"Low\"}, {\"Study Time\": 0.288, \"Repetition Time\": 0.31, \"Study Time for Related Objects\": 0.79, \"Exam Performance for Related Objects\": 0.23, \"Exam Performance\": 0.24, \"Knowledge Level\": \"Low\"}, {\"Study Time\": 0.71, \"Repetition Time\": 0.46, \"Study Time for Related Objects\": 0.95, \"Exam Performance for Related Objects\": 0.78, \"Exam Performance\": 0.86, \"Knowledge Level\": \"High\"}, {\"Study Time\": 0.245, \"Repetition Time\": 0.1, \"Study Time for Related Objects\": 0.71, \"Exam Performance for Related Objects\": 0.26, \"Exam Performance\": 0.2, \"Knowledge Level\": \"very_low\"}, {\"Study Time\": 0.59, \"Repetition Time\": 0.18, \"Study Time for Related Objects\": 0.31, \"Exam Performance for Related Objects\": 0.55, \"Exam Performance\": 0.09, \"Knowledge Level\": \"very_low\"}, {\"Study Time\": 0.08, \"Repetition Time\": 0.58, \"Study Time for Related Objects\": 0.6, \"Exam Performance for Related Objects\": 0.64, \"Exam Performance\": 0.1, \"Knowledge Level\": \"Low\"}, {\"Study Time\": 0.66, \"Repetition Time\": 0.38, \"Study Time for Related Objects\": 0.55, \"Exam Performance for Related Objects\": 0.15, \"Exam Performance\": 0.62, \"Knowledge Level\": \"Middle\"}, {\"Study Time\": 0.26, \"Repetition Time\": 0.26, \"Study Time for Related Objects\": 0.35, \"Exam Performance for Related Objects\": 0.62, \"Exam Performance\": 0.24, \"Knowledge Level\": \"Low\"}, {\"Study Time\": 0.25, \"Repetition Time\": 0.28, \"Study Time for Related Objects\": 0.77, \"Exam Performance for Related Objects\": 0.11, \"Exam Performance\": 0.31, \"Knowledge Level\": \"Low\"}, {\"Study Time\": 0.99, \"Repetition Time\": 0.49, \"Study Time for Related Objects\": 0.07, \"Exam Performance for Related Objects\": 0.7, \"Exam Performance\": 0.69, \"Knowledge Level\": \"High\"}, {\"Study Time\": 0.51, \"Repetition Time\": 0.255, \"Study Time for Related Objects\": 0.55, \"Exam Performance for Related Objects\": 0.17, \"Exam Performance\": 0.64, \"Knowledge Level\": \"Middle\"}, {\"Study Time\": 0.04, \"Repetition Time\": 0.28, \"Study Time for Related Objects\": 0.55, \"Exam Performance for Related Objects\": 0.25, \"Exam Performance\": 0.1, \"Knowledge Level\": \"very_low\"}, {\"Study Time\": 0.73, \"Repetition Time\": 0.43, \"Study Time for Related Objects\": 0.32, \"Exam Performance for Related Objects\": 0.12, \"Exam Performance\": 0.65, \"Knowledge Level\": \"Middle\"}, {\"Study Time\": 0.32, \"Repetition Time\": 0.2, \"Study Time for Related Objects\": 0.06, \"Exam Performance for Related Objects\": 0.26, \"Exam Performance\": 0.24, \"Knowledge Level\": \"very_low\"}, {\"Study Time\": 0.08, \"Repetition Time\": 0.56, \"Study Time for Related Objects\": 0.33, \"Exam Performance for Related Objects\": 0.4, \"Exam Performance\": 0.1, \"Knowledge Level\": \"very_low\"}, {\"Study Time\": 0.475, \"Repetition Time\": 0.32, \"Study Time for Related Objects\": 0.79, \"Exam Performance for Related Objects\": 0.31, \"Exam Performance\": 0.54, \"Knowledge Level\": \"Middle\"}, {\"Study Time\": 0.19, \"Repetition Time\": 0.28, \"Study Time for Related Objects\": 0.57, \"Exam Performance for Related Objects\": 0.58, \"Exam Performance\": 0.17, \"Knowledge Level\": \"Low\"}, {\"Study Time\": 0.85, \"Repetition Time\": 0.32, \"Study Time for Related Objects\": 0.22, \"Exam Performance for Related Objects\": 0.87, \"Exam Performance\": 0.79, \"Knowledge Level\": \"High\"}, {\"Study Time\": 0.31, \"Repetition Time\": 0.1, \"Study Time for Related Objects\": 0.41, \"Exam Performance for Related Objects\": 0.42, \"Exam Performance\": 0.75, \"Knowledge Level\": \"High\"}, {\"Study Time\": 0.09, \"Repetition Time\": 0.55, \"Study Time for Related Objects\": 0.12, \"Exam Performance for Related Objects\": 0.78, \"Exam Performance\": 0.05, \"Knowledge Level\": \"Low\"}, {\"Study Time\": 0.09, \"Repetition Time\": 0.255, \"Study Time for Related Objects\": 0.6, \"Exam Performance for Related Objects\": 0.45, \"Exam Performance\": 0.25, \"Knowledge Level\": \"Low\"}, {\"Study Time\": 0.15, \"Repetition Time\": 0.02, \"Study Time for Related Objects\": 0.34, \"Exam Performance for Related Objects\": 0.4, \"Exam Performance\": 0.01, \"Knowledge Level\": \"very_low\"}, {\"Study Time\": 0.276, \"Repetition Time\": 0.255, \"Study Time for Related Objects\": 0.81, \"Exam Performance for Related Objects\": 0.27, \"Exam Performance\": 0.33, \"Knowledge Level\": \"Low\"}, {\"Study Time\": 0.1, \"Repetition Time\": 0.27, \"Study Time for Related Objects\": 0.35, \"Exam Performance for Related Objects\": 0.45, \"Exam Performance\": 0.05, \"Knowledge Level\": \"very_low\"}, {\"Study Time\": 0.7, \"Repetition Time\": 0.18, \"Study Time for Related Objects\": 0.88, \"Exam Performance for Related Objects\": 0.09, \"Exam Performance\": 0.66, \"Knowledge Level\": \"Middle\"}, {\"Study Time\": 0.295, \"Repetition Time\": 0.6, \"Study Time for Related Objects\": 0.72, \"Exam Performance for Related Objects\": 0.88, \"Exam Performance\": 0.28, \"Knowledge Level\": \"Middle\"}, {\"Study Time\": 0.58, \"Repetition Time\": 0.295, \"Study Time for Related Objects\": 0.62, \"Exam Performance for Related Objects\": 0.28, \"Exam Performance\": 0.3, \"Knowledge Level\": \"Low\"}, {\"Study Time\": 0.28, \"Repetition Time\": 0.78, \"Study Time for Related Objects\": 0.44, \"Exam Performance for Related Objects\": 0.17, \"Exam Performance\": 0.66, \"Knowledge Level\": \"Middle\"}, {\"Study Time\": 0.56, \"Repetition Time\": 0.27, \"Study Time for Related Objects\": 0.11, \"Exam Performance for Related Objects\": 0.59, \"Exam Performance\": 0.22, \"Knowledge Level\": \"Low\"}, {\"Study Time\": 0.16, \"Repetition Time\": 0.51, \"Study Time for Related Objects\": 0.09, \"Exam Performance for Related Objects\": 0.38, \"Exam Performance\": 0.1, \"Knowledge Level\": \"very_low\"}, {\"Study Time\": 0.89, \"Repetition Time\": 0.68, \"Study Time for Related Objects\": 0.49, \"Exam Performance for Related Objects\": 0.65, \"Exam Performance\": 0.9, \"Knowledge Level\": \"High\"}, {\"Study Time\": 0.85, \"Repetition Time\": 0.82, \"Study Time for Related Objects\": 0.66, \"Exam Performance for Related Objects\": 0.83, \"Exam Performance\": 0.83, \"Knowledge Level\": \"High\"}, {\"Study Time\": 0.68, \"Repetition Time\": 0.63, \"Study Time for Related Objects\": 0.65, \"Exam Performance for Related Objects\": 0.09, \"Exam Performance\": 0.66, \"Knowledge Level\": \"Middle\"}, {\"Study Time\": 0.77, \"Repetition Time\": 0.29, \"Study Time for Related Objects\": 0.74, \"Exam Performance for Related Objects\": 0.82, \"Exam Performance\": 0.68, \"Knowledge Level\": \"High\"}, {\"Study Time\": 0.465, \"Repetition Time\": 0.258, \"Study Time for Related Objects\": 0.73, \"Exam Performance for Related Objects\": 0.18, \"Exam Performance\": 0.59, \"Knowledge Level\": \"Middle\"}, {\"Study Time\": 0.33, \"Repetition Time\": 0.04, \"Study Time for Related Objects\": 0.5, \"Exam Performance for Related Objects\": 0.55, \"Exam Performance\": 0.1, \"Knowledge Level\": \"very_low\"}, {\"Study Time\": 0.115, \"Repetition Time\": 0.35, \"Study Time for Related Objects\": 0.65, \"Exam Performance for Related Objects\": 0.27, \"Exam Performance\": 0.04, \"Knowledge Level\": \"very_low\"}, {\"Study Time\": 0.41, \"Repetition Time\": 0.11, \"Study Time for Related Objects\": 0.21, \"Exam Performance for Related Objects\": 0.44, \"Exam Performance\": 0.57, \"Knowledge Level\": \"Middle\"}, {\"Study Time\": 0.28, \"Repetition Time\": 0.28, \"Study Time for Related Objects\": 0.38, \"Exam Performance for Related Objects\": 0.29, \"Exam Performance\": 0.62, \"Knowledge Level\": \"Middle\"}, {\"Study Time\": 0.2, \"Repetition Time\": 0.49, \"Study Time for Related Objects\": 0.6, \"Exam Performance for Related Objects\": 0.2, \"Exam Performance\": 0.78, \"Knowledge Level\": \"High\"}, {\"Study Time\": 0.295, \"Repetition Time\": 0.25, \"Study Time for Related Objects\": 0.26, \"Exam Performance for Related Objects\": 0.12, \"Exam Performance\": 0.67, \"Knowledge Level\": \"Middle\"}, {\"Study Time\": 0.44, \"Repetition Time\": 0.69, \"Study Time for Related Objects\": 0.61, \"Exam Performance for Related Objects\": 0.29, \"Exam Performance\": 0.57, \"Knowledge Level\": \"Middle\"}, {\"Study Time\": 0.6, \"Repetition Time\": 0.251, \"Study Time for Related Objects\": 0.39, \"Exam Performance for Related Objects\": 0.29, \"Exam Performance\": 0.3, \"Knowledge Level\": \"Low\"}, {\"Study Time\": 0.0, \"Repetition Time\": 0.62, \"Study Time for Related Objects\": 0.52, \"Exam Performance for Related Objects\": 0.26, \"Exam Performance\": 0.07, \"Knowledge Level\": \"very_low\"}, {\"Study Time\": 0.54, \"Repetition Time\": 0.25, \"Study Time for Related Objects\": 0.07, \"Exam Performance for Related Objects\": 0.09, \"Exam Performance\": 0.11, \"Knowledge Level\": \"very_low\"}, {\"Study Time\": 0.09, \"Repetition Time\": 0.15, \"Study Time for Related Objects\": 0.4, \"Exam Performance for Related Objects\": 0.1, \"Exam Performance\": 0.66, \"Knowledge Level\": \"Middle\"}, {\"Study Time\": 0.21, \"Repetition Time\": 0.78, \"Study Time for Related Objects\": 0.42, \"Exam Performance for Related Objects\": 0.32, \"Exam Performance\": 0.84, \"Knowledge Level\": \"High\"}, {\"Study Time\": 0.68, \"Repetition Time\": 0.19, \"Study Time for Related Objects\": 0.19, \"Exam Performance for Related Objects\": 0.48, \"Exam Performance\": 0.1, \"Knowledge Level\": \"very_low\"}, {\"Study Time\": 0.32, \"Repetition Time\": 0.2, \"Study Time for Related Objects\": 0.84, \"Exam Performance for Related Objects\": 0.81, \"Exam Performance\": 0.8, \"Knowledge Level\": \"High\"}, {\"Study Time\": 0.43, \"Repetition Time\": 0.305, \"Study Time for Related Objects\": 0.51, \"Exam Performance for Related Objects\": 0.09, \"Exam Performance\": 0.64, \"Knowledge Level\": \"Middle\"}, {\"Study Time\": 0.12, \"Repetition Time\": 0.245, \"Study Time for Related Objects\": 0.75, \"Exam Performance for Related Objects\": 0.31, \"Exam Performance\": 0.59, \"Knowledge Level\": \"Middle\"}, {\"Study Time\": 0.12, \"Repetition Time\": 0.28, \"Study Time for Related Objects\": 0.7, \"Exam Performance for Related Objects\": 0.16, \"Exam Performance\": 0.32, \"Knowledge Level\": \"Low\"}, {\"Study Time\": 0.88, \"Repetition Time\": 0.335, \"Study Time for Related Objects\": 0.19, \"Exam Performance for Related Objects\": 0.55, \"Exam Performance\": 0.78, \"Knowledge Level\": \"High\"}, {\"Study Time\": 0.25, \"Repetition Time\": 0.1, \"Study Time for Related Objects\": 0.03, \"Exam Performance for Related Objects\": 0.09, \"Exam Performance\": 0.15, \"Knowledge Level\": \"very_low\"}, {\"Study Time\": 0.29, \"Repetition Time\": 0.06, \"Study Time for Related Objects\": 0.19, \"Exam Performance for Related Objects\": 0.55, \"Exam Performance\": 0.51, \"Knowledge Level\": \"Middle\"}, {\"Study Time\": 0.62, \"Repetition Time\": 0.62, \"Study Time for Related Objects\": 0.24, \"Exam Performance for Related Objects\": 0.65, \"Exam Performance\": 0.25, \"Knowledge Level\": \"Middle\"}, {\"Study Time\": 0.43, \"Repetition Time\": 0.65, \"Study Time for Related Objects\": 0.76, \"Exam Performance for Related Objects\": 0.94, \"Exam Performance\": 0.29, \"Knowledge Level\": \"Middle\"}, {\"Study Time\": 0.02, \"Repetition Time\": 0.33, \"Study Time for Related Objects\": 0.36, \"Exam Performance for Related Objects\": 0.76, \"Exam Performance\": 0.1, \"Knowledge Level\": \"Low\"}, {\"Study Time\": 0.18, \"Repetition Time\": 0.32, \"Study Time for Related Objects\": 0.04, \"Exam Performance for Related Objects\": 0.19, \"Exam Performance\": 0.82, \"Knowledge Level\": \"High\"}, {\"Study Time\": 0.49, \"Repetition Time\": 0.64, \"Study Time for Related Objects\": 0.34, \"Exam Performance for Related Objects\": 0.78, \"Exam Performance\": 0.21, \"Knowledge Level\": \"Low\"}, {\"Study Time\": 0.6, \"Repetition Time\": 0.31, \"Study Time for Related Objects\": 0.31, \"Exam Performance for Related Objects\": 0.87, \"Exam Performance\": 0.58, \"Knowledge Level\": \"High\"}, {\"Study Time\": 0.41, \"Repetition Time\": 0.18, \"Study Time for Related Objects\": 0.33, \"Exam Performance for Related Objects\": 0.31, \"Exam Performance\": 0.5, \"Knowledge Level\": \"Middle\"}, {\"Study Time\": 0.312, \"Repetition Time\": 0.8, \"Study Time for Related Objects\": 0.67, \"Exam Performance for Related Objects\": 0.92, \"Exam Performance\": 0.5, \"Knowledge Level\": \"High\"}, {\"Study Time\": 0.25, \"Repetition Time\": 0.28, \"Study Time for Related Objects\": 0.3, \"Exam Performance for Related Objects\": 0.001, \"Exam Performance\": 0.25, \"Knowledge Level\": \"very_low\"}, {\"Study Time\": 0.18, \"Repetition Time\": 0.4, \"Study Time for Related Objects\": 0.32, \"Exam Performance for Related Objects\": 0.08, \"Exam Performance\": 0.33, \"Knowledge Level\": \"Low\"}, {\"Study Time\": 0.49, \"Repetition Time\": 0.245, \"Study Time for Related Objects\": 0.38, \"Exam Performance for Related Objects\": 0.14, \"Exam Performance\": 0.86, \"Knowledge Level\": \"High\"}, {\"Study Time\": 0.38, \"Repetition Time\": 0.39, \"Study Time for Related Objects\": 0.79, \"Exam Performance for Related Objects\": 0.33, \"Exam Performance\": 0.3, \"Knowledge Level\": \"Low\"}, {\"Study Time\": 0.18, \"Repetition Time\": 0.3, \"Study Time for Related Objects\": 0.37, \"Exam Performance for Related Objects\": 0.12, \"Exam Performance\": 0.66, \"Knowledge Level\": \"Middle\"}, {\"Study Time\": 0.41, \"Repetition Time\": 0.49, \"Study Time for Related Objects\": 0.34, \"Exam Performance for Related Objects\": 0.21, \"Exam Performance\": 0.92, \"Knowledge Level\": \"High\"}, {\"Study Time\": 0.66, \"Repetition Time\": 0.36, \"Study Time for Related Objects\": 0.56, \"Exam Performance for Related Objects\": 0.4, \"Exam Performance\": 0.83, \"Knowledge Level\": \"High\"}, {\"Study Time\": 0.06, \"Repetition Time\": 0.29, \"Study Time for Related Objects\": 0.35, \"Exam Performance for Related Objects\": 0.76, \"Exam Performance\": 0.25, \"Knowledge Level\": \"Low\"}, {\"Study Time\": 0.2, \"Repetition Time\": 0.85, \"Study Time for Related Objects\": 0.24, \"Exam Performance for Related Objects\": 0.79, \"Exam Performance\": 0.85, \"Knowledge Level\": \"High\"}, {\"Study Time\": 0.38, \"Repetition Time\": 0.33, \"Study Time for Related Objects\": 0.1, \"Exam Performance for Related Objects\": 0.07, \"Exam Performance\": 0.4, \"Knowledge Level\": \"Low\"}, {\"Study Time\": 0.1, \"Repetition Time\": 0.3, \"Study Time for Related Objects\": 0.58, \"Exam Performance for Related Objects\": 0.28, \"Exam Performance\": 0.55, \"Knowledge Level\": \"Middle\"}, {\"Study Time\": 0.42, \"Repetition Time\": 0.15, \"Study Time for Related Objects\": 0.66, \"Exam Performance for Related Objects\": 0.78, \"Exam Performance\": 0.4, \"Knowledge Level\": \"Middle\"}, {\"Study Time\": 0.32, \"Repetition Time\": 0.12, \"Study Time for Related Objects\": 0.79, \"Exam Performance for Related Objects\": 0.76, \"Exam Performance\": 0.24, \"Knowledge Level\": \"Low\"}, {\"Study Time\": 0.12, \"Repetition Time\": 0.28, \"Study Time for Related Objects\": 0.2, \"Exam Performance for Related Objects\": 0.78, \"Exam Performance\": 0.2, \"Knowledge Level\": \"Low\"}, {\"Study Time\": 0.305, \"Repetition Time\": 0.255, \"Study Time for Related Objects\": 0.63, \"Exam Performance for Related Objects\": 0.4, \"Exam Performance\": 0.54, \"Knowledge Level\": \"Middle\"}, {\"Study Time\": 0.13, \"Repetition Time\": 0.28, \"Study Time for Related Objects\": 0.18, \"Exam Performance for Related Objects\": 0.75, \"Exam Performance\": 0.32, \"Knowledge Level\": \"Middle\"}, {\"Study Time\": 0.0, \"Repetition Time\": 0.0, \"Study Time for Related Objects\": 0.0, \"Exam Performance for Related Objects\": 0.0, \"Exam Performance\": 0.0, \"Knowledge Level\": \"very_low\"}, {\"Study Time\": 0.5, \"Repetition Time\": 0.4, \"Study Time for Related Objects\": 0.73, \"Exam Performance for Related Objects\": 0.62, \"Exam Performance\": 0.2, \"Knowledge Level\": \"Low\"}, {\"Study Time\": 0.3, \"Repetition Time\": 0.2, \"Study Time for Related Objects\": 0.52, \"Exam Performance for Related Objects\": 0.3, \"Exam Performance\": 0.53, \"Knowledge Level\": \"Middle\"}, {\"Study Time\": 0.08, \"Repetition Time\": 0.18, \"Study Time for Related Objects\": 0.63, \"Exam Performance for Related Objects\": 0.6, \"Exam Performance\": 0.85, \"Knowledge Level\": \"High\"}, {\"Study Time\": 0.45, \"Repetition Time\": 0.04, \"Study Time for Related Objects\": 0.18, \"Exam Performance for Related Objects\": 0.55, \"Exam Performance\": 0.07, \"Knowledge Level\": \"very_low\"}, {\"Study Time\": 0.29, \"Repetition Time\": 0.66, \"Study Time for Related Objects\": 0.35, \"Exam Performance for Related Objects\": 0.28, \"Exam Performance\": 0.31, \"Knowledge Level\": \"Low\"}, {\"Study Time\": 0.3, \"Repetition Time\": 0.32, \"Study Time for Related Objects\": 0.43, \"Exam Performance for Related Objects\": 0.87, \"Exam Performance\": 0.83, \"Knowledge Level\": \"High\"}, {\"Study Time\": 0.36, \"Repetition Time\": 0.29, \"Study Time for Related Objects\": 0.37, \"Exam Performance for Related Objects\": 0.48, \"Exam Performance\": 0.13, \"Knowledge Level\": \"very_low\"}, {\"Study Time\": 0.09, \"Repetition Time\": 0.33, \"Study Time for Related Objects\": 0.31, \"Exam Performance for Related Objects\": 0.26, \"Exam Performance\": 0.0, \"Knowledge Level\": \"very_low\"}, {\"Study Time\": 0.14, \"Repetition Time\": 0.14, \"Study Time for Related Objects\": 0.7, \"Exam Performance for Related Objects\": 0.5, \"Exam Performance\": 0.3, \"Knowledge Level\": \"Low\"}, {\"Study Time\": 0.28, \"Repetition Time\": 0.65, \"Study Time for Related Objects\": 0.4, \"Exam Performance for Related Objects\": 0.65, \"Exam Performance\": 0.13, \"Knowledge Level\": \"Low\"}, {\"Study Time\": 0.48, \"Repetition Time\": 0.3, \"Study Time for Related Objects\": 0.15, \"Exam Performance for Related Objects\": 0.65, \"Exam Performance\": 0.77, \"Knowledge Level\": \"High\"}, {\"Study Time\": 0.29, \"Repetition Time\": 0.25, \"Study Time for Related Objects\": 0.29, \"Exam Performance for Related Objects\": 0.29, \"Exam Performance\": 0.57, \"Knowledge Level\": \"Middle\"}, {\"Study Time\": 0.58, \"Repetition Time\": 0.299, \"Study Time for Related Objects\": 0.73, \"Exam Performance for Related Objects\": 0.63, \"Exam Performance\": 0.21, \"Knowledge Level\": \"Low\"}, {\"Study Time\": 0.61, \"Repetition Time\": 0.78, \"Study Time for Related Objects\": 0.69, \"Exam Performance for Related Objects\": 0.92, \"Exam Performance\": 0.58, \"Knowledge Level\": \"High\"}, {\"Study Time\": 0.29, \"Repetition Time\": 0.74, \"Study Time for Related Objects\": 0.39, \"Exam Performance for Related Objects\": 0.41, \"Exam Performance\": 0.54, \"Knowledge Level\": \"Middle\"}, {\"Study Time\": 0.41, \"Repetition Time\": 0.37, \"Study Time for Related Objects\": 0.79, \"Exam Performance for Related Objects\": 0.12, \"Exam Performance\": 0.32, \"Knowledge Level\": \"Low\"}, {\"Study Time\": 0.27, \"Repetition Time\": 0.1, \"Study Time for Related Objects\": 0.1, \"Exam Performance for Related Objects\": 0.7, \"Exam Performance\": 0.25, \"Knowledge Level\": \"Low\"}, {\"Study Time\": 0.56, \"Repetition Time\": 0.6, \"Study Time for Related Objects\": 0.6, \"Exam Performance for Related Objects\": 0.31, \"Exam Performance\": 0.5, \"Knowledge Level\": \"Middle\"}, {\"Study Time\": 0.4, \"Repetition Time\": 0.33, \"Study Time for Related Objects\": 0.12, \"Exam Performance for Related Objects\": 0.3, \"Exam Performance\": 0.9, \"Knowledge Level\": \"High\"}, {\"Study Time\": 0.2, \"Repetition Time\": 0.2, \"Study Time for Related Objects\": 0.88, \"Exam Performance for Related Objects\": 0.77, \"Exam Performance\": 0.8, \"Knowledge Level\": \"High\"}, {\"Study Time\": 0.243, \"Repetition Time\": 0.27, \"Study Time for Related Objects\": 0.08, \"Exam Performance for Related Objects\": 0.42, \"Exam Performance\": 0.29, \"Knowledge Level\": \"Low\"}, {\"Study Time\": 0.12, \"Repetition Time\": 0.56, \"Study Time for Related Objects\": 0.13, \"Exam Performance for Related Objects\": 0.48, \"Exam Performance\": 0.32, \"Knowledge Level\": \"Low\"}, {\"Study Time\": 0.52, \"Repetition Time\": 0.08, \"Study Time for Related Objects\": 0.33, \"Exam Performance for Related Objects\": 0.07, \"Exam Performance\": 0.09, \"Knowledge Level\": \"very_low\"}, {\"Study Time\": 0.2, \"Repetition Time\": 0.78, \"Study Time for Related Objects\": 0.91, \"Exam Performance for Related Objects\": 0.82, \"Exam Performance\": 0.85, \"Knowledge Level\": \"High\"}, {\"Study Time\": 0.18, \"Repetition Time\": 0.72, \"Study Time for Related Objects\": 0.37, \"Exam Performance for Related Objects\": 0.29, \"Exam Performance\": 0.55, \"Knowledge Level\": \"Middle\"}, {\"Study Time\": 0.44, \"Repetition Time\": 0.55, \"Study Time for Related Objects\": 0.11, \"Exam Performance for Related Objects\": 0.26, \"Exam Performance\": 0.83, \"Knowledge Level\": \"High\"}, {\"Study Time\": 0.29, \"Repetition Time\": 0.1, \"Study Time for Related Objects\": 0.17, \"Exam Performance for Related Objects\": 0.74, \"Exam Performance\": 0.52, \"Knowledge Level\": \"Middle\"}, {\"Study Time\": 0.42, \"Repetition Time\": 0.29, \"Study Time for Related Objects\": 0.14, \"Exam Performance for Related Objects\": 0.03, \"Exam Performance\": 0.68, \"Knowledge Level\": \"Middle\"}, {\"Study Time\": 0.62, \"Repetition Time\": 0.12, \"Study Time for Related Objects\": 0.36, \"Exam Performance for Related Objects\": 0.36, \"Exam Performance\": 0.32, \"Knowledge Level\": \"Low\"}, {\"Study Time\": 0.365, \"Repetition Time\": 0.57, \"Study Time for Related Objects\": 0.59, \"Exam Performance for Related Objects\": 0.55, \"Exam Performance\": 0.25, \"Knowledge Level\": \"Low\"}, {\"Study Time\": 0.445, \"Repetition Time\": 0.39, \"Study Time for Related Objects\": 0.02, \"Exam Performance for Related Objects\": 0.24, \"Exam Performance\": 0.88, \"Knowledge Level\": \"High\"}, {\"Study Time\": 0.57, \"Repetition Time\": 0.37, \"Study Time for Related Objects\": 0.75, \"Exam Performance for Related Objects\": 0.27, \"Exam Performance\": 0.32, \"Knowledge Level\": \"Low\"}, {\"Study Time\": 0.18, \"Repetition Time\": 0.18, \"Study Time for Related Objects\": 0.55, \"Exam Performance for Related Objects\": 0.3, \"Exam Performance\": 0.81, \"Knowledge Level\": \"High\"}, {\"Study Time\": 0.9, \"Repetition Time\": 0.31, \"Study Time for Related Objects\": 0.24, \"Exam Performance for Related Objects\": 0.3, \"Exam Performance\": 0.97, \"Knowledge Level\": \"High\"}, {\"Study Time\": 0.44, \"Repetition Time\": 0.32, \"Study Time for Related Objects\": 0.55, \"Exam Performance for Related Objects\": 0.33, \"Exam Performance\": 0.52, \"Knowledge Level\": \"Middle\"}, {\"Study Time\": 0.64, \"Repetition Time\": 0.59, \"Study Time for Related Objects\": 0.12, \"Exam Performance for Related Objects\": 0.58, \"Exam Performance\": 0.24, \"Knowledge Level\": \"Low\"}, {\"Study Time\": 0.26, \"Repetition Time\": 0.12, \"Study Time for Related Objects\": 0.34, \"Exam Performance for Related Objects\": 0.68, \"Exam Performance\": 0.29, \"Knowledge Level\": \"Low\"}, {\"Study Time\": 0.6, \"Repetition Time\": 0.19, \"Study Time for Related Objects\": 0.55, \"Exam Performance for Related Objects\": 0.08, \"Exam Performance\": 0.1, \"Knowledge Level\": \"very_low\"}, {\"Study Time\": 0.1, \"Repetition Time\": 0.1, \"Study Time for Related Objects\": 0.43, \"Exam Performance for Related Objects\": 0.29, \"Exam Performance\": 0.56, \"Knowledge Level\": \"Middle\"}, {\"Study Time\": 0.46, \"Repetition Time\": 0.44, \"Study Time for Related Objects\": 0.89, \"Exam Performance for Related Objects\": 0.12, \"Exam Performance\": 0.66, \"Knowledge Level\": \"Middle\"}, {\"Study Time\": 0.28, \"Repetition Time\": 0.29, \"Study Time for Related Objects\": 0.57, \"Exam Performance for Related Objects\": 0.6, \"Exam Performance\": 0.27, \"Knowledge Level\": \"Low\"}, {\"Study Time\": 0.05, \"Repetition Time\": 0.29, \"Study Time for Related Objects\": 0.58, \"Exam Performance for Related Objects\": 0.14, \"Exam Performance\": 0.32, \"Knowledge Level\": \"Low\"}, {\"Study Time\": 0.37, \"Repetition Time\": 0.09, \"Study Time for Related Objects\": 0.1, \"Exam Performance for Related Objects\": 0.13, \"Exam Performance\": 0.32, \"Knowledge Level\": \"Low\"}, {\"Study Time\": 0.21, \"Repetition Time\": 0.32, \"Study Time for Related Objects\": 0.25, \"Exam Performance for Related Objects\": 0.5, \"Exam Performance\": 0.8, \"Knowledge Level\": \"High\"}, {\"Study Time\": 0.08, \"Repetition Time\": 0.58, \"Study Time for Related Objects\": 0.71, \"Exam Performance for Related Objects\": 0.27, \"Exam Performance\": 0.09, \"Knowledge Level\": \"very_low\"}, {\"Study Time\": 0.11, \"Repetition Time\": 0.26, \"Study Time for Related Objects\": 0.56, \"Exam Performance for Related Objects\": 0.68, \"Exam Performance\": 0.27, \"Knowledge Level\": \"Low\"}, {\"Study Time\": 0.77, \"Repetition Time\": 0.267, \"Study Time for Related Objects\": 0.59, \"Exam Performance for Related Objects\": 0.78, \"Exam Performance\": 0.28, \"Knowledge Level\": \"Middle\"}, {\"Study Time\": 0.16, \"Repetition Time\": 0.25, \"Study Time for Related Objects\": 0.01, \"Exam Performance for Related Objects\": 0.1, \"Exam Performance\": 0.07, \"Knowledge Level\": \"very_low\"}, {\"Study Time\": 0.32, \"Repetition Time\": 0.15, \"Study Time for Related Objects\": 0.66, \"Exam Performance for Related Objects\": 0.24, \"Exam Performance\": 0.82, \"Knowledge Level\": \"High\"}, {\"Study Time\": 0.15, \"Repetition Time\": 0.79, \"Study Time for Related Objects\": 0.78, \"Exam Performance for Related Objects\": 0.3, \"Exam Performance\": 0.51, \"Knowledge Level\": \"Middle\"}, {\"Study Time\": 0.255, \"Repetition Time\": 0.72, \"Study Time for Related Objects\": 0.72, \"Exam Performance for Related Objects\": 0.63, \"Exam Performance\": 0.14, \"Knowledge Level\": \"Low\"}, {\"Study Time\": 0.9, \"Repetition Time\": 0.78, \"Study Time for Related Objects\": 0.62, \"Exam Performance for Related Objects\": 0.32, \"Exam Performance\": 0.89, \"Knowledge Level\": \"High\"}, {\"Study Time\": 0.28, \"Repetition Time\": 0.1, \"Study Time for Related Objects\": 0.12, \"Exam Performance for Related Objects\": 0.28, \"Exam Performance\": 0.32, \"Knowledge Level\": \"Low\"}, {\"Study Time\": 0.18, \"Repetition Time\": 0.26, \"Study Time for Related Objects\": 0.05, \"Exam Performance for Related Objects\": 0.4, \"Exam Performance\": 0.04, \"Knowledge Level\": \"very_low\"}, {\"Study Time\": 0.38, \"Repetition Time\": 0.01, \"Study Time for Related Objects\": 0.53, \"Exam Performance for Related Objects\": 0.27, \"Exam Performance\": 0.3, \"Knowledge Level\": \"Low\"}, {\"Study Time\": 0.255, \"Repetition Time\": 0.75, \"Study Time for Related Objects\": 0.35, \"Exam Performance for Related Objects\": 0.72, \"Exam Performance\": 0.25, \"Knowledge Level\": \"Low\"}, {\"Study Time\": 0.42, \"Repetition Time\": 0.36, \"Study Time for Related Objects\": 0.63, \"Exam Performance for Related Objects\": 0.04, \"Exam Performance\": 0.25, \"Knowledge Level\": \"Low\"}, {\"Study Time\": 0.25, \"Repetition Time\": 0.29, \"Study Time for Related Objects\": 0.15, \"Exam Performance for Related Objects\": 0.48, \"Exam Performance\": 0.26, \"Knowledge Level\": \"Low\"}, {\"Study Time\": 0.68, \"Repetition Time\": 0.15, \"Study Time for Related Objects\": 0.58, \"Exam Performance for Related Objects\": 0.35, \"Exam Performance\": 0.6, \"Knowledge Level\": \"Middle\"}, {\"Study Time\": 0.69, \"Repetition Time\": 0.02, \"Study Time for Related Objects\": 0.62, \"Exam Performance for Related Objects\": 0.3, \"Exam Performance\": 0.29, \"Knowledge Level\": \"Low\"}, {\"Study Time\": 0.258, \"Repetition Time\": 0.25, \"Study Time for Related Objects\": 0.295, \"Exam Performance for Related Objects\": 0.33, \"Exam Performance\": 0.77, \"Knowledge Level\": \"High\"}, {\"Study Time\": 0.37, \"Repetition Time\": 0.6, \"Study Time for Related Objects\": 0.77, \"Exam Performance for Related Objects\": 0.4, \"Exam Performance\": 0.5, \"Knowledge Level\": \"Middle\"}, {\"Study Time\": 0.29, \"Repetition Time\": 0.3, \"Study Time for Related Objects\": 0.56, \"Exam Performance for Related Objects\": 0.25, \"Exam Performance\": 0.67, \"Knowledge Level\": \"Middle\"}, {\"Study Time\": 0.58, \"Repetition Time\": 0.35, \"Study Time for Related Objects\": 0.51, \"Exam Performance for Related Objects\": 0.27, \"Exam Performance\": 0.3, \"Knowledge Level\": \"Low\"}, {\"Study Time\": 0.39, \"Repetition Time\": 0.42, \"Study Time for Related Objects\": 0.83, \"Exam Performance for Related Objects\": 0.65, \"Exam Performance\": 0.19, \"Knowledge Level\": \"Low\"}, {\"Study Time\": 0.334, \"Repetition Time\": 0.295, \"Study Time for Related Objects\": 0.33, \"Exam Performance for Related Objects\": 0.32, \"Exam Performance\": 0.3, \"Knowledge Level\": \"Low\"}, {\"Study Time\": 0.83, \"Repetition Time\": 0.44, \"Study Time for Related Objects\": 0.49, \"Exam Performance for Related Objects\": 0.91, \"Exam Performance\": 0.66, \"Knowledge Level\": \"High\"}, {\"Study Time\": 0.0, \"Repetition Time\": 0.25, \"Study Time for Related Objects\": 0.5, \"Exam Performance for Related Objects\": 0.09, \"Exam Performance\": 0.07, \"Knowledge Level\": \"very_low\"}, {\"Study Time\": 0.1, \"Repetition Time\": 0.1, \"Study Time for Related Objects\": 0.52, \"Exam Performance for Related Objects\": 0.78, \"Exam Performance\": 0.34, \"Knowledge Level\": \"Middle\"}, {\"Study Time\": 0.24, \"Repetition Time\": 0.58, \"Study Time for Related Objects\": 0.76, \"Exam Performance for Related Objects\": 0.8, \"Exam Performance\": 0.28, \"Knowledge Level\": \"Middle\"}, {\"Study Time\": 0.78, \"Repetition Time\": 0.47, \"Study Time for Related Objects\": 0.29, \"Exam Performance for Related Objects\": 0.98, \"Exam Performance\": 0.59, \"Knowledge Level\": \"High\"}, {\"Study Time\": 0.31, \"Repetition Time\": 0.32, \"Study Time for Related Objects\": 0.69, \"Exam Performance for Related Objects\": 0.3, \"Exam Performance\": 0.98, \"Knowledge Level\": \"High\"}]}}, {\"mode\": \"vega-lite\"});\n",
       "</script>"
      ],
      "text/plain": [
       "alt.Chart(...)"
      ]
     },
     "execution_count": 228,
     "metadata": {},
     "output_type": "execute_result"
    }
   ],
   "source": [
    "# create a scatterplot of the data to visualize the relationship \n",
    "# between study time and exam performance and the knowledge level of the student\n",
    "alt.Chart(data_training, title=\"Study Time & Exam Performance vs Knowledge Level\").mark_point().encode(\n",
    "    x=\"Study Time\",\n",
    "    y=\"Exam Performance\",\n",
    "    color=\"Knowledge Level\"\n",
    ")"
   ]
  },
  {
   "cell_type": "code",
   "execution_count": 229,
   "id": "fb5bf575-5861-4448-80b3-033ac8af17ed",
   "metadata": {
    "tags": [],
    "vscode": {
     "languageId": "python"
    }
   },
   "outputs": [
    {
     "data": {
      "text/html": [
       "<div>\n",
       "<style scoped>\n",
       "    .dataframe tbody tr th:only-of-type {\n",
       "        vertical-align: middle;\n",
       "    }\n",
       "\n",
       "    .dataframe tbody tr th {\n",
       "        vertical-align: top;\n",
       "    }\n",
       "\n",
       "    .dataframe thead tr th {\n",
       "        text-align: left;\n",
       "    }\n",
       "\n",
       "    .dataframe thead tr:last-of-type th {\n",
       "        text-align: right;\n",
       "    }\n",
       "</style>\n",
       "<table border=\"1\" class=\"dataframe\">\n",
       "  <thead>\n",
       "    <tr>\n",
       "      <th></th>\n",
       "      <th colspan=\"2\" halign=\"left\">Study Time</th>\n",
       "      <th colspan=\"2\" halign=\"left\">Repetition Time</th>\n",
       "      <th colspan=\"2\" halign=\"left\">Study Time for Related Objects</th>\n",
       "      <th colspan=\"2\" halign=\"left\">Exam Performance for Related Objects</th>\n",
       "      <th colspan=\"2\" halign=\"left\">Exam Performance</th>\n",
       "    </tr>\n",
       "    <tr>\n",
       "      <th></th>\n",
       "      <th>mean</th>\n",
       "      <th>std</th>\n",
       "      <th>mean</th>\n",
       "      <th>std</th>\n",
       "      <th>mean</th>\n",
       "      <th>std</th>\n",
       "      <th>mean</th>\n",
       "      <th>std</th>\n",
       "      <th>mean</th>\n",
       "      <th>std</th>\n",
       "    </tr>\n",
       "    <tr>\n",
       "      <th>Knowledge Level</th>\n",
       "      <th></th>\n",
       "      <th></th>\n",
       "      <th></th>\n",
       "      <th></th>\n",
       "      <th></th>\n",
       "      <th></th>\n",
       "      <th></th>\n",
       "      <th></th>\n",
       "      <th></th>\n",
       "      <th></th>\n",
       "    </tr>\n",
       "  </thead>\n",
       "  <tbody>\n",
       "    <tr>\n",
       "      <th>High</th>\n",
       "      <td>0.451289</td>\n",
       "      <td>0.247563</td>\n",
       "      <td>0.434289</td>\n",
       "      <td>0.250629</td>\n",
       "      <td>0.497829</td>\n",
       "      <td>0.263056</td>\n",
       "      <td>0.565000</td>\n",
       "      <td>0.284246</td>\n",
       "      <td>0.795000</td>\n",
       "      <td>0.115140</td>\n",
       "    </tr>\n",
       "    <tr>\n",
       "      <th>Low</th>\n",
       "      <td>0.322216</td>\n",
       "      <td>0.179193</td>\n",
       "      <td>0.317660</td>\n",
       "      <td>0.188765</td>\n",
       "      <td>0.439175</td>\n",
       "      <td>0.255692</td>\n",
       "      <td>0.443505</td>\n",
       "      <td>0.224425</td>\n",
       "      <td>0.254876</td>\n",
       "      <td>0.068197</td>\n",
       "    </tr>\n",
       "    <tr>\n",
       "      <th>Middle</th>\n",
       "      <td>0.351187</td>\n",
       "      <td>0.199856</td>\n",
       "      <td>0.367879</td>\n",
       "      <td>0.199484</td>\n",
       "      <td>0.481868</td>\n",
       "      <td>0.225280</td>\n",
       "      <td>0.371978</td>\n",
       "      <td>0.255357</td>\n",
       "      <td>0.536593</td>\n",
       "      <td>0.134298</td>\n",
       "    </tr>\n",
       "    <tr>\n",
       "      <th>very_low</th>\n",
       "      <td>0.262632</td>\n",
       "      <td>0.187158</td>\n",
       "      <td>0.258947</td>\n",
       "      <td>0.193332</td>\n",
       "      <td>0.345526</td>\n",
       "      <td>0.219504</td>\n",
       "      <td>0.276605</td>\n",
       "      <td>0.190398</td>\n",
       "      <td>0.093158</td>\n",
       "      <td>0.054876</td>\n",
       "    </tr>\n",
       "  </tbody>\n",
       "</table>\n",
       "</div>"
      ],
      "text/plain": [
       "                Study Time           Repetition Time            \\\n",
       "                      mean       std            mean       std   \n",
       "Knowledge Level                                                  \n",
       "High              0.451289  0.247563        0.434289  0.250629   \n",
       "Low               0.322216  0.179193        0.317660  0.188765   \n",
       "Middle            0.351187  0.199856        0.367879  0.199484   \n",
       "very_low          0.262632  0.187158        0.258947  0.193332   \n",
       "\n",
       "                Study Time for Related Objects            \\\n",
       "                                          mean       std   \n",
       "Knowledge Level                                            \n",
       "High                                  0.497829  0.263056   \n",
       "Low                                   0.439175  0.255692   \n",
       "Middle                                0.481868  0.225280   \n",
       "very_low                              0.345526  0.219504   \n",
       "\n",
       "                Exam Performance for Related Objects            \\\n",
       "                                                mean       std   \n",
       "Knowledge Level                                                  \n",
       "High                                        0.565000  0.284246   \n",
       "Low                                         0.443505  0.224425   \n",
       "Middle                                      0.371978  0.255357   \n",
       "very_low                                    0.276605  0.190398   \n",
       "\n",
       "                Exam Performance            \n",
       "                            mean       std  \n",
       "Knowledge Level                             \n",
       "High                    0.795000  0.115140  \n",
       "Low                     0.254876  0.068197  \n",
       "Middle                  0.536593  0.134298  \n",
       "very_low                0.093158  0.054876  "
      ]
     },
     "execution_count": 229,
     "metadata": {},
     "output_type": "execute_result"
    }
   ],
   "source": [
    "# create a table to show the mean and standard deviation of each level of knowledge\n",
    "data_training.groupby(\"Knowledge Level\").agg([\"mean\", \"std\"])"
   ]
  },
  {
   "cell_type": "code",
   "execution_count": 230,
   "id": "bddfec4e-41af-4d4a-b100-c43a0ae919df",
   "metadata": {
    "tags": [],
    "vscode": {
     "languageId": "python"
    }
   },
   "outputs": [
    {
     "data": {
      "text/plain": [
       "Low         97\n",
       "Middle      91\n",
       "High        76\n",
       "very_low    38\n",
       "Name: Knowledge Level, dtype: int64"
      ]
     },
     "execution_count": 230,
     "metadata": {},
     "output_type": "execute_result"
    }
   ],
   "source": [
    "# show the number of students in each level of knowledge\n",
    "data_training[\"Knowledge Level\"].value_counts()"
   ]
  },
  {
   "cell_type": "code",
   "execution_count": 231,
   "id": "71f59b9a-467c-4438-a6eb-9235f1ef1de6",
   "metadata": {
    "tags": []
   },
   "outputs": [
    {
     "data": {
      "text/html": [
       "<div>\n",
       "<style scoped>\n",
       "    .dataframe tbody tr th:only-of-type {\n",
       "        vertical-align: middle;\n",
       "    }\n",
       "\n",
       "    .dataframe tbody tr th {\n",
       "        vertical-align: top;\n",
       "    }\n",
       "\n",
       "    .dataframe thead th {\n",
       "        text-align: right;\n",
       "    }\n",
       "</style>\n",
       "<table border=\"1\" class=\"dataframe\">\n",
       "  <thead>\n",
       "    <tr style=\"text-align: right;\">\n",
       "      <th></th>\n",
       "      <th>Study Time</th>\n",
       "      <th>Repetition Time</th>\n",
       "      <th>Study Time for Related Objects</th>\n",
       "      <th>Exam Performance for Related Objects</th>\n",
       "      <th>Exam Performance</th>\n",
       "      <th>Knowledge Level</th>\n",
       "    </tr>\n",
       "  </thead>\n",
       "  <tbody>\n",
       "    <tr>\n",
       "      <th>116</th>\n",
       "      <td>True</td>\n",
       "      <td>True</td>\n",
       "      <td>True</td>\n",
       "      <td>True</td>\n",
       "      <td>True</td>\n",
       "      <td>True</td>\n",
       "    </tr>\n",
       "    <tr>\n",
       "      <th>148</th>\n",
       "      <td>True</td>\n",
       "      <td>True</td>\n",
       "      <td>True</td>\n",
       "      <td>True</td>\n",
       "      <td>True</td>\n",
       "      <td>True</td>\n",
       "    </tr>\n",
       "    <tr>\n",
       "      <th>39</th>\n",
       "      <td>True</td>\n",
       "      <td>True</td>\n",
       "      <td>True</td>\n",
       "      <td>True</td>\n",
       "      <td>True</td>\n",
       "      <td>True</td>\n",
       "    </tr>\n",
       "    <tr>\n",
       "      <th>220</th>\n",
       "      <td>True</td>\n",
       "      <td>True</td>\n",
       "      <td>True</td>\n",
       "      <td>True</td>\n",
       "      <td>True</td>\n",
       "      <td>True</td>\n",
       "    </tr>\n",
       "    <tr>\n",
       "      <th>257</th>\n",
       "      <td>True</td>\n",
       "      <td>True</td>\n",
       "      <td>True</td>\n",
       "      <td>True</td>\n",
       "      <td>True</td>\n",
       "      <td>True</td>\n",
       "    </tr>\n",
       "    <tr>\n",
       "      <th>...</th>\n",
       "      <td>...</td>\n",
       "      <td>...</td>\n",
       "      <td>...</td>\n",
       "      <td>...</td>\n",
       "      <td>...</td>\n",
       "      <td>...</td>\n",
       "    </tr>\n",
       "    <tr>\n",
       "      <th>17</th>\n",
       "      <td>True</td>\n",
       "      <td>True</td>\n",
       "      <td>True</td>\n",
       "      <td>True</td>\n",
       "      <td>True</td>\n",
       "      <td>True</td>\n",
       "    </tr>\n",
       "    <tr>\n",
       "      <th>12</th>\n",
       "      <td>True</td>\n",
       "      <td>True</td>\n",
       "      <td>True</td>\n",
       "      <td>True</td>\n",
       "      <td>True</td>\n",
       "      <td>True</td>\n",
       "    </tr>\n",
       "    <tr>\n",
       "      <th>64</th>\n",
       "      <td>True</td>\n",
       "      <td>True</td>\n",
       "      <td>True</td>\n",
       "      <td>True</td>\n",
       "      <td>True</td>\n",
       "      <td>True</td>\n",
       "    </tr>\n",
       "    <tr>\n",
       "      <th>132</th>\n",
       "      <td>True</td>\n",
       "      <td>True</td>\n",
       "      <td>True</td>\n",
       "      <td>True</td>\n",
       "      <td>True</td>\n",
       "      <td>True</td>\n",
       "    </tr>\n",
       "    <tr>\n",
       "      <th>89</th>\n",
       "      <td>True</td>\n",
       "      <td>True</td>\n",
       "      <td>True</td>\n",
       "      <td>True</td>\n",
       "      <td>True</td>\n",
       "      <td>True</td>\n",
       "    </tr>\n",
       "  </tbody>\n",
       "</table>\n",
       "<p>302 rows × 6 columns</p>\n",
       "</div>"
      ],
      "text/plain": [
       "     Study Time  Repetition Time  Study Time for Related Objects  \\\n",
       "116        True             True                            True   \n",
       "148        True             True                            True   \n",
       "39         True             True                            True   \n",
       "220        True             True                            True   \n",
       "257        True             True                            True   \n",
       "..          ...              ...                             ...   \n",
       "17         True             True                            True   \n",
       "12         True             True                            True   \n",
       "64         True             True                            True   \n",
       "132        True             True                            True   \n",
       "89         True             True                            True   \n",
       "\n",
       "     Exam Performance for Related Objects  Exam Performance  Knowledge Level  \n",
       "116                                  True              True             True  \n",
       "148                                  True              True             True  \n",
       "39                                   True              True             True  \n",
       "220                                  True              True             True  \n",
       "257                                  True              True             True  \n",
       "..                                    ...               ...              ...  \n",
       "17                                   True              True             True  \n",
       "12                                   True              True             True  \n",
       "64                                   True              True             True  \n",
       "132                                  True              True             True  \n",
       "89                                   True              True             True  \n",
       "\n",
       "[302 rows x 6 columns]"
      ]
     },
     "execution_count": 231,
     "metadata": {},
     "output_type": "execute_result"
    }
   ],
   "source": [
    "data_training.notna()"
   ]
  },
  {
   "cell_type": "markdown",
   "id": "41ab011a-8c55-4dbb-a589-335b35f78f77",
   "metadata": {},
   "source": [
    "## Expected Outcomes and Significance \n",
    "We expect to find that students who study a lot and have a high exam performance will have a high knowledge level. \n",
    "\n",
    "The findings can motivate students to study harder and set new goals to achieve. This can then influence students to develop better study habits which can lead into better time management skills for the future. Furthermore, these expected outcomes can encourage teachers to focus on effective teaching methods to create brighter minds of the future. \n"
   ]
  },
  {
   "cell_type": "markdown",
   "id": "cc71c365-0f6a-4540-8896-8e7962013147",
   "metadata": {},
   "source": [
    "## Future Questions \n",
    "- Is there a point where a very high study time and exam performance may decrease knowledge level?\n",
    "- How effective are traditional exams in measuring a student's knowledge? \n",
    "- What are the effects of the pressure associated with the correlation between exam performance and knowledge level on a student's mental health? \n"
   ]
  },
  {
   "cell_type": "markdown",
   "id": "e0711a42-8bca-4e60-bc1f-918ea57d04d6",
   "metadata": {},
   "source": [
    "---"
   ]
  },
  {
   "cell_type": "code",
   "execution_count": 232,
   "id": "39578c9c-dc29-4481-b6e5-aa1f775b865b",
   "metadata": {
    "tags": []
   },
   "outputs": [],
   "source": [
    "# set up preprocessor, classifier (with no argument), and pipeline\n",
    "prep = make_column_transformer(\n",
    "    (StandardScaler(), [\"Study Time\", \"Exam Performance\"])\n",
    ")\n",
    "knn = KNeighborsClassifier()\n",
    "x = data_training[[\"Study Time\", \"Exam Performance\"]]\n",
    "y = data_training[\"Knowledge Level\"]\n",
    "pipe = make_pipeline(prep, knn)"
   ]
  },
  {
   "cell_type": "code",
   "execution_count": 233,
   "id": "935866b6-e702-4e58-8112-5f04caf04fc2",
   "metadata": {
    "tags": []
   },
   "outputs": [
    {
     "data": {
      "text/html": [
       "\n",
       "<style>\n",
       "  #altair-viz-3ac107a7fd19479485f73898991a6b6e.vega-embed {\n",
       "    width: 100%;\n",
       "    display: flex;\n",
       "  }\n",
       "\n",
       "  #altair-viz-3ac107a7fd19479485f73898991a6b6e.vega-embed details,\n",
       "  #altair-viz-3ac107a7fd19479485f73898991a6b6e.vega-embed details summary {\n",
       "    position: relative;\n",
       "  }\n",
       "</style>\n",
       "<div id=\"altair-viz-3ac107a7fd19479485f73898991a6b6e\"></div>\n",
       "<script type=\"text/javascript\">\n",
       "  var VEGA_DEBUG = (typeof VEGA_DEBUG == \"undefined\") ? {} : VEGA_DEBUG;\n",
       "  (function(spec, embedOpt){\n",
       "    let outputDiv = document.currentScript.previousElementSibling;\n",
       "    if (outputDiv.id !== \"altair-viz-3ac107a7fd19479485f73898991a6b6e\") {\n",
       "      outputDiv = document.getElementById(\"altair-viz-3ac107a7fd19479485f73898991a6b6e\");\n",
       "    }\n",
       "    const paths = {\n",
       "      \"vega\": \"https://cdn.jsdelivr.net/npm/vega@5?noext\",\n",
       "      \"vega-lib\": \"https://cdn.jsdelivr.net/npm/vega-lib?noext\",\n",
       "      \"vega-lite\": \"https://cdn.jsdelivr.net/npm/vega-lite@5.16.3?noext\",\n",
       "      \"vega-embed\": \"https://cdn.jsdelivr.net/npm/vega-embed@6?noext\",\n",
       "    };\n",
       "\n",
       "    function maybeLoadScript(lib, version) {\n",
       "      var key = `${lib.replace(\"-\", \"\")}_version`;\n",
       "      return (VEGA_DEBUG[key] == version) ?\n",
       "        Promise.resolve(paths[lib]) :\n",
       "        new Promise(function(resolve, reject) {\n",
       "          var s = document.createElement('script');\n",
       "          document.getElementsByTagName(\"head\")[0].appendChild(s);\n",
       "          s.async = true;\n",
       "          s.onload = () => {\n",
       "            VEGA_DEBUG[key] = version;\n",
       "            return resolve(paths[lib]);\n",
       "          };\n",
       "          s.onerror = () => reject(`Error loading script: ${paths[lib]}`);\n",
       "          s.src = paths[lib];\n",
       "        });\n",
       "    }\n",
       "\n",
       "    function showError(err) {\n",
       "      outputDiv.innerHTML = `<div class=\"error\" style=\"color:red;\">${err}</div>`;\n",
       "      throw err;\n",
       "    }\n",
       "\n",
       "    function displayChart(vegaEmbed) {\n",
       "      vegaEmbed(outputDiv, spec, embedOpt)\n",
       "        .catch(err => showError(`Javascript Error: ${err.message}<br>This usually means there's a typo in your chart specification. See the javascript console for the full traceback.`));\n",
       "    }\n",
       "\n",
       "    if(typeof define === \"function\" && define.amd) {\n",
       "      requirejs.config({paths});\n",
       "      require([\"vega-embed\"], displayChart, err => showError(`Error loading script: ${err.message}`));\n",
       "    } else {\n",
       "      maybeLoadScript(\"vega\", \"5\")\n",
       "        .then(() => maybeLoadScript(\"vega-lite\", \"5.16.3\"))\n",
       "        .then(() => maybeLoadScript(\"vega-embed\", \"6\"))\n",
       "        .catch(showError)\n",
       "        .then(() => displayChart(vegaEmbed));\n",
       "    }\n",
       "  })({\"config\": {\"view\": {\"continuousWidth\": 300, \"continuousHeight\": 300}}, \"layer\": [{\"data\": {\"name\": \"data-8826ec5127022a66455fd3f91d6b76e6\"}, \"mark\": {\"type\": \"line\", \"point\": true}, \"encoding\": {\"x\": {\"field\": \"n_neighbors\", \"title\": \"Neighbors\", \"type\": \"quantitative\"}, \"y\": {\"field\": \"mean_test_score\", \"scale\": {\"zero\": false}, \"title\": \"Accuracy estimate\", \"type\": \"quantitative\"}}, \"title\": \"Accuracy vs K\"}, {\"data\": {\"name\": \"data-430750375b499408446ea9ed44fe5c97\"}, \"mark\": {\"type\": \"point\", \"filled\": true, \"size\": 50}, \"encoding\": {\"color\": {\"value\": \"red\"}, \"x\": {\"field\": \"best_k\", \"type\": \"quantitative\"}, \"y\": {\"field\": \"best_acc\", \"type\": \"quantitative\"}}}], \"$schema\": \"https://vega.github.io/schema/vega-lite/v5.16.3.json\", \"datasets\": {\"data-8826ec5127022a66455fd3f91d6b76e6\": [{\"n_neighbors\": 1, \"mean_test_score\": 0.7451612903225806, \"sem_test_score\": 0.023346956035220807}, {\"n_neighbors\": 2, \"mean_test_score\": 0.7580645161290323, \"sem_test_score\": 0.022313317737541163}, {\"n_neighbors\": 3, \"mean_test_score\": 0.794516129032258, \"sem_test_score\": 0.014950065263458311}, {\"n_neighbors\": 4, \"mean_test_score\": 0.7849462365591398, \"sem_test_score\": 0.015489843531500314}, {\"n_neighbors\": 5, \"mean_test_score\": 0.8081720430107527, \"sem_test_score\": 0.017190989473817735}, {\"n_neighbors\": 6, \"mean_test_score\": 0.7946236559139785, \"sem_test_score\": 0.01483793047665859}, {\"n_neighbors\": 7, \"mean_test_score\": 0.8344086021505376, \"sem_test_score\": 0.016300876669145134}, {\"n_neighbors\": 8, \"mean_test_score\": 0.8244086021505378, \"sem_test_score\": 0.01570853292659686}, {\"n_neighbors\": 9, \"mean_test_score\": 0.8245161290322581, \"sem_test_score\": 0.018849312084980804}, {\"n_neighbors\": 10, \"mean_test_score\": 0.8079569892473117, \"sem_test_score\": 0.018672067005362482}, {\"n_neighbors\": 11, \"mean_test_score\": 0.8111827956989247, \"sem_test_score\": 0.019438409779908697}, {\"n_neighbors\": 12, \"mean_test_score\": 0.7946236559139784, \"sem_test_score\": 0.014790321603483366}, {\"n_neighbors\": 13, \"mean_test_score\": 0.8079569892473119, \"sem_test_score\": 0.01744137729103701}, {\"n_neighbors\": 14, \"mean_test_score\": 0.8046236559139786, \"sem_test_score\": 0.01518609273044323}, {\"n_neighbors\": 15, \"mean_test_score\": 0.8046236559139786, \"sem_test_score\": 0.013644521536982387}, {\"n_neighbors\": 16, \"mean_test_score\": 0.7979569892473118, \"sem_test_score\": 0.016636775137315287}, {\"n_neighbors\": 17, \"mean_test_score\": 0.8012903225806453, \"sem_test_score\": 0.01488212442735862}, {\"n_neighbors\": 18, \"mean_test_score\": 0.8011827956989247, \"sem_test_score\": 0.0176759607487605}, {\"n_neighbors\": 19, \"mean_test_score\": 0.8012903225806453, \"sem_test_score\": 0.01488212442735862}, {\"n_neighbors\": 20, \"mean_test_score\": 0.8078494623655914, \"sem_test_score\": 0.018731324765211405}, {\"n_neighbors\": 21, \"mean_test_score\": 0.7978494623655913, \"sem_test_score\": 0.018586294441870172}, {\"n_neighbors\": 22, \"mean_test_score\": 0.810967741935484, \"sem_test_score\": 0.017809126597682273}, {\"n_neighbors\": 23, \"mean_test_score\": 0.8078494623655914, \"sem_test_score\": 0.018806479278461366}, {\"n_neighbors\": 24, \"mean_test_score\": 0.8077419354838711, \"sem_test_score\": 0.018305358153439102}, {\"n_neighbors\": 25, \"mean_test_score\": 0.8176344086021506, \"sem_test_score\": 0.019172498321082018}, {\"n_neighbors\": 26, \"mean_test_score\": 0.8043010752688172, \"sem_test_score\": 0.01817045230678596}, {\"n_neighbors\": 27, \"mean_test_score\": 0.794516129032258, \"sem_test_score\": 0.018890150468299508}, {\"n_neighbors\": 28, \"mean_test_score\": 0.784516129032258, \"sem_test_score\": 0.02140309008068075}, {\"n_neighbors\": 29, \"mean_test_score\": 0.7978494623655914, \"sem_test_score\": 0.019248212870120976}, {\"n_neighbors\": 30, \"mean_test_score\": 0.7811827956989247, \"sem_test_score\": 0.019206269691631542}, {\"n_neighbors\": 31, \"mean_test_score\": 0.7811827956989247, \"sem_test_score\": 0.020330401863025947}, {\"n_neighbors\": 32, \"mean_test_score\": 0.7811827956989247, \"sem_test_score\": 0.020260900881272633}, {\"n_neighbors\": 33, \"mean_test_score\": 0.784516129032258, \"sem_test_score\": 0.019784478722854135}, {\"n_neighbors\": 34, \"mean_test_score\": 0.7811827956989247, \"sem_test_score\": 0.019206269691631542}, {\"n_neighbors\": 35, \"mean_test_score\": 0.7911827956989248, \"sem_test_score\": 0.01963171141186432}, {\"n_neighbors\": 36, \"mean_test_score\": 0.7811827956989247, \"sem_test_score\": 0.019776324675983316}, {\"n_neighbors\": 37, \"mean_test_score\": 0.7911827956989248, \"sem_test_score\": 0.01905733115461086}, {\"n_neighbors\": 38, \"mean_test_score\": 0.7945161290322581, \"sem_test_score\": 0.01767465247948462}, {\"n_neighbors\": 39, \"mean_test_score\": 0.784731182795699, \"sem_test_score\": 0.018420581972694066}, {\"n_neighbors\": 40, \"mean_test_score\": 0.7913978494623656, \"sem_test_score\": 0.01562436263008044}, {\"n_neighbors\": 41, \"mean_test_score\": 0.7847311827956989, \"sem_test_score\": 0.0158249471191487}, {\"n_neighbors\": 42, \"mean_test_score\": 0.7781720430107527, \"sem_test_score\": 0.016299493497177745}, {\"n_neighbors\": 43, \"mean_test_score\": 0.7715053763440861, \"sem_test_score\": 0.01911696718889005}, {\"n_neighbors\": 44, \"mean_test_score\": 0.7681720430107526, \"sem_test_score\": 0.020570092012364847}, {\"n_neighbors\": 45, \"mean_test_score\": 0.7681720430107526, \"sem_test_score\": 0.020570092012364847}, {\"n_neighbors\": 46, \"mean_test_score\": 0.7681720430107527, \"sem_test_score\": 0.020570092012364847}, {\"n_neighbors\": 47, \"mean_test_score\": 0.7713978494623654, \"sem_test_score\": 0.0208896809959459}, {\"n_neighbors\": 48, \"mean_test_score\": 0.7548387096774192, \"sem_test_score\": 0.020197887930208287}, {\"n_neighbors\": 49, \"mean_test_score\": 0.7713978494623654, \"sem_test_score\": 0.01803517842998156}], \"data-430750375b499408446ea9ed44fe5c97\": [{\"best_k\": 7, \"best_acc\": 0.8344086021505376}]}}, {\"mode\": \"vega-lite\"});\n",
       "</script>"
      ],
      "text/plain": [
       "alt.LayerChart(...)"
      ]
     },
     "execution_count": 233,
     "metadata": {},
     "output_type": "execute_result"
    }
   ],
   "source": [
    "# cross validation to find the best k\n",
    "parameter_grid = {\n",
    "    \"kneighborsclassifier__n_neighbors\": range(1, 50),\n",
    "}\n",
    "\n",
    "tune_grid = GridSearchCV(\n",
    "    estimator=pipe,\n",
    "    param_grid=parameter_grid,\n",
    "    cv=10\n",
    ")\n",
    "\n",
    "accuracies_grid = pd.DataFrame(\n",
    "    tune_grid.fit(\n",
    "        X = x,\n",
    "        y = y\n",
    "    ).cv_results_\n",
    ")\n",
    "\n",
    "accuracies_grid = (\n",
    "    accuracies_grid[[\n",
    "        \"param_kneighborsclassifier__n_neighbors\",\n",
    "        \"mean_test_score\",\n",
    "        \"std_test_score\"\n",
    "    ]]\n",
    "    .assign(sem_test_score=accuracies_grid[\"std_test_score\"] / 10**(1/2))\n",
    "    .rename(columns={\"param_kneighborsclassifier__n_neighbors\": \"n_neighbors\"})\n",
    "    .drop(columns=[\"std_test_score\"])\n",
    ")\n",
    "\n",
    "accuracy_vs_k = alt.Chart(accuracies_grid, title=\"Accuracy vs K\").mark_line(point=True).encode(\n",
    "    x=alt.X(\"n_neighbors\")\n",
    "    .title(\"Neighbors\"),\n",
    "    y=alt.Y(\"mean_test_score\")\n",
    "        .scale(zero=False)\n",
    "        .title(\"Accuracy estimate\")\n",
    ")\n",
    "\n",
    "best_k = tune_grid.best_params_[\"kneighborsclassifier__n_neighbors\"]\n",
    "best_k_df = pd.DataFrame({\n",
    "    \"best_k\" : [best_k],\n",
    "    \"best_acc\" : [tune_grid.best_score_]\n",
    "})\n",
    "\n",
    "# marks the best k\n",
    "best_k_plot = alt.Chart(best_k_df).mark_point(filled=True, size=50).encode(\n",
    "    x = \"best_k\",\n",
    "    y = \"best_acc\",\n",
    "    color = alt.value(\"red\")\n",
    ")\n",
    "\n",
    "accuracy_vs_k + best_k_plot"
   ]
  },
  {
   "cell_type": "code",
   "execution_count": 234,
   "id": "2320d602-5ea8-4eec-9a04-5b65084dafa3",
   "metadata": {
    "tags": []
   },
   "outputs": [
    {
     "name": "stdout",
     "output_type": "stream",
     "text": [
      "The best k selected is: 7\n"
     ]
    }
   ],
   "source": [
    "# build the model with the best k\n",
    "print(\"The best k selected is:\", best_k)\n",
    "knn_best = KNeighborsClassifier(n_neighbors=best_k)\n",
    "pipe_best = make_pipeline(prep, knn_best)\n",
    "pipe_best_fit = pipe_best.fit(X=x, y=y)"
   ]
  },
  {
   "cell_type": "code",
   "execution_count": 235,
   "id": "0f16738d-0ae1-4651-bd80-9f7331491ab4",
   "metadata": {
    "tags": []
   },
   "outputs": [
    {
     "data": {
      "text/html": [
       "<div>\n",
       "<style scoped>\n",
       "    .dataframe tbody tr th:only-of-type {\n",
       "        vertical-align: middle;\n",
       "    }\n",
       "\n",
       "    .dataframe tbody tr th {\n",
       "        vertical-align: top;\n",
       "    }\n",
       "\n",
       "    .dataframe thead th {\n",
       "        text-align: right;\n",
       "    }\n",
       "</style>\n",
       "<table border=\"1\" class=\"dataframe\">\n",
       "  <thead>\n",
       "    <tr style=\"text-align: right;\">\n",
       "      <th>predicted</th>\n",
       "      <th>High</th>\n",
       "      <th>Low</th>\n",
       "      <th>Middle</th>\n",
       "      <th>very_low</th>\n",
       "    </tr>\n",
       "    <tr>\n",
       "      <th>true</th>\n",
       "      <th></th>\n",
       "      <th></th>\n",
       "      <th></th>\n",
       "      <th></th>\n",
       "    </tr>\n",
       "  </thead>\n",
       "  <tbody>\n",
       "    <tr>\n",
       "      <th>High</th>\n",
       "      <td>22</td>\n",
       "      <td>0</td>\n",
       "      <td>4</td>\n",
       "      <td>0</td>\n",
       "    </tr>\n",
       "    <tr>\n",
       "      <th>Low</th>\n",
       "      <td>0</td>\n",
       "      <td>29</td>\n",
       "      <td>0</td>\n",
       "      <td>3</td>\n",
       "    </tr>\n",
       "    <tr>\n",
       "      <th>Middle</th>\n",
       "      <td>2</td>\n",
       "      <td>6</td>\n",
       "      <td>23</td>\n",
       "      <td>0</td>\n",
       "    </tr>\n",
       "    <tr>\n",
       "      <th>very_low</th>\n",
       "      <td>0</td>\n",
       "      <td>2</td>\n",
       "      <td>0</td>\n",
       "      <td>10</td>\n",
       "    </tr>\n",
       "  </tbody>\n",
       "</table>\n",
       "</div>"
      ],
      "text/plain": [
       "predicted  High  Low  Middle  very_low\n",
       "true                                  \n",
       "High         22    0       4         0\n",
       "Low           0   29       0         3\n",
       "Middle        2    6      23         0\n",
       "very_low      0    2       0        10"
      ]
     },
     "execution_count": 235,
     "metadata": {},
     "output_type": "execute_result"
    }
   ],
   "source": [
    "# use the model to predict the test set\n",
    "predicted_test = data_testing.assign(\n",
    "    true = data_testing[\"Knowledge Level\"],\n",
    "    predicted = pipe_best_fit.predict(data_testing[[\"Study Time\", \"Exam Performance\"]])\n",
    ")\n",
    "confusion_matrix = pd.crosstab(\n",
    "    predicted_test[\"true\"],\n",
    "    predicted_test[\"predicted\"]\n",
    ")\n",
    "confusion_matrix"
   ]
  },
  {
   "cell_type": "code",
   "execution_count": 236,
   "id": "cce4f796-217e-44ac-bdcd-b1f86e366fb0",
   "metadata": {
    "tags": []
   },
   "outputs": [
    {
     "name": "stdout",
     "output_type": "stream",
     "text": [
      "The estimated accuracy of the model on the testing set is: 0.8316831683168316\n"
     ]
    }
   ],
   "source": [
    "# prediction accuracy score\n",
    "pred_acc = pipe_best_fit.score(data_testing[[\"Study Time\", \"Exam Performance\"]], data_testing[\"Knowledge Level\"])\n",
    "print(\"The estimated accuracy of the model on the testing set is:\", pred_acc)"
   ]
  },
  {
   "cell_type": "code",
   "execution_count": 237,
   "id": "a7fd306f-3514-4ed4-9980-e207312e26ba",
   "metadata": {
    "tags": []
   },
   "outputs": [
    {
     "data": {
      "text/html": [
       "\n",
       "<style>\n",
       "  #altair-viz-34b655d69bb14c088b92d3e6c7698cff.vega-embed {\n",
       "    width: 100%;\n",
       "    display: flex;\n",
       "  }\n",
       "\n",
       "  #altair-viz-34b655d69bb14c088b92d3e6c7698cff.vega-embed details,\n",
       "  #altair-viz-34b655d69bb14c088b92d3e6c7698cff.vega-embed details summary {\n",
       "    position: relative;\n",
       "  }\n",
       "</style>\n",
       "<div id=\"altair-viz-34b655d69bb14c088b92d3e6c7698cff\"></div>\n",
       "<script type=\"text/javascript\">\n",
       "  var VEGA_DEBUG = (typeof VEGA_DEBUG == \"undefined\") ? {} : VEGA_DEBUG;\n",
       "  (function(spec, embedOpt){\n",
       "    let outputDiv = document.currentScript.previousElementSibling;\n",
       "    if (outputDiv.id !== \"altair-viz-34b655d69bb14c088b92d3e6c7698cff\") {\n",
       "      outputDiv = document.getElementById(\"altair-viz-34b655d69bb14c088b92d3e6c7698cff\");\n",
       "    }\n",
       "    const paths = {\n",
       "      \"vega\": \"https://cdn.jsdelivr.net/npm/vega@5?noext\",\n",
       "      \"vega-lib\": \"https://cdn.jsdelivr.net/npm/vega-lib?noext\",\n",
       "      \"vega-lite\": \"https://cdn.jsdelivr.net/npm/vega-lite@5.16.3?noext\",\n",
       "      \"vega-embed\": \"https://cdn.jsdelivr.net/npm/vega-embed@6?noext\",\n",
       "    };\n",
       "\n",
       "    function maybeLoadScript(lib, version) {\n",
       "      var key = `${lib.replace(\"-\", \"\")}_version`;\n",
       "      return (VEGA_DEBUG[key] == version) ?\n",
       "        Promise.resolve(paths[lib]) :\n",
       "        new Promise(function(resolve, reject) {\n",
       "          var s = document.createElement('script');\n",
       "          document.getElementsByTagName(\"head\")[0].appendChild(s);\n",
       "          s.async = true;\n",
       "          s.onload = () => {\n",
       "            VEGA_DEBUG[key] = version;\n",
       "            return resolve(paths[lib]);\n",
       "          };\n",
       "          s.onerror = () => reject(`Error loading script: ${paths[lib]}`);\n",
       "          s.src = paths[lib];\n",
       "        });\n",
       "    }\n",
       "\n",
       "    function showError(err) {\n",
       "      outputDiv.innerHTML = `<div class=\"error\" style=\"color:red;\">${err}</div>`;\n",
       "      throw err;\n",
       "    }\n",
       "\n",
       "    function displayChart(vegaEmbed) {\n",
       "      vegaEmbed(outputDiv, spec, embedOpt)\n",
       "        .catch(err => showError(`Javascript Error: ${err.message}<br>This usually means there's a typo in your chart specification. See the javascript console for the full traceback.`));\n",
       "    }\n",
       "\n",
       "    if(typeof define === \"function\" && define.amd) {\n",
       "      requirejs.config({paths});\n",
       "      require([\"vega-embed\"], displayChart, err => showError(`Error loading script: ${err.message}`));\n",
       "    } else {\n",
       "      maybeLoadScript(\"vega\", \"5\")\n",
       "        .then(() => maybeLoadScript(\"vega-lite\", \"5.16.3\"))\n",
       "        .then(() => maybeLoadScript(\"vega-embed\", \"6\"))\n",
       "        .catch(showError)\n",
       "        .then(() => displayChart(vegaEmbed));\n",
       "    }\n",
       "  })({\"config\": {\"view\": {\"continuousWidth\": 300, \"continuousHeight\": 300}}, \"hconcat\": [{\"mark\": {\"type\": \"point\"}, \"encoding\": {\"color\": {\"field\": \"true\", \"type\": \"nominal\"}, \"x\": {\"field\": \"Study Time\", \"title\": \"Study Time\", \"type\": \"quantitative\"}, \"y\": {\"field\": \"Exam Performance\", \"title\": \"Exam Performance\", \"type\": \"quantitative\"}}, \"title\": \"True Categories\"}, {\"mark\": {\"type\": \"point\"}, \"encoding\": {\"color\": {\"field\": \"predicted\", \"title\": \"Knowledge Level\", \"type\": \"nominal\"}, \"x\": {\"field\": \"Study Time\", \"title\": \"Study Time\", \"type\": \"quantitative\"}, \"y\": {\"field\": \"Exam Performance\", \"title\": \"Exam Performance\", \"type\": \"quantitative\"}}, \"title\": \"Predicted Categories\"}], \"data\": {\"name\": \"data-996d51c916c51aed8f446a3f2abe1cf6\"}, \"$schema\": \"https://vega.github.io/schema/vega-lite/v5.16.3.json\", \"datasets\": {\"data-996d51c916c51aed8f446a3f2abe1cf6\": [{\"Study Time\": 0.18, \"Repetition Time\": 0.34, \"Study Time for Related Objects\": 0.71, \"Exam Performance for Related Objects\": 0.71, \"Exam Performance\": 0.9, \"Knowledge Level\": \"High\", \"true\": \"High\", \"predicted\": \"High\"}, {\"Study Time\": 0.16, \"Repetition Time\": 0.16, \"Study Time for Related Objects\": 0.8, \"Exam Performance for Related Objects\": 0.5, \"Exam Performance\": 0.5, \"Knowledge Level\": \"Middle\", \"true\": \"Middle\", \"predicted\": \"Middle\"}, {\"Study Time\": 0.64, \"Repetition Time\": 0.09, \"Study Time for Related Objects\": 0.33, \"Exam Performance for Related Objects\": 0.65, \"Exam Performance\": 0.5, \"Knowledge Level\": \"Middle\", \"true\": \"Middle\", \"predicted\": \"Middle\"}, {\"Study Time\": 0.38, \"Repetition Time\": 0.36, \"Study Time for Related Objects\": 0.46, \"Exam Performance for Related Objects\": 0.49, \"Exam Performance\": 0.78, \"Knowledge Level\": \"High\", \"true\": \"High\", \"predicted\": \"High\"}, {\"Study Time\": 0.08, \"Repetition Time\": 0.56, \"Study Time for Related Objects\": 0.7, \"Exam Performance for Related Objects\": 0.14, \"Exam Performance\": 0.1, \"Knowledge Level\": \"very_low\", \"true\": \"very_low\", \"predicted\": \"very_low\"}, {\"Study Time\": 0.2, \"Repetition Time\": 0.45, \"Study Time for Related Objects\": 0.28, \"Exam Performance for Related Objects\": 0.31, \"Exam Performance\": 0.78, \"Knowledge Level\": \"High\", \"true\": \"High\", \"predicted\": \"High\"}, {\"Study Time\": 0.28, \"Repetition Time\": 0.16, \"Study Time for Related Objects\": 0.69, \"Exam Performance for Related Objects\": 0.33, \"Exam Performance\": 0.78, \"Knowledge Level\": \"High\", \"true\": \"High\", \"predicted\": \"High\"}, {\"Study Time\": 0.64, \"Repetition Time\": 0.58, \"Study Time for Related Objects\": 0.14, \"Exam Performance for Related Objects\": 0.32, \"Exam Performance\": 0.21, \"Knowledge Level\": \"Low\", \"true\": \"Low\", \"predicted\": \"Low\"}, {\"Study Time\": 0.251, \"Repetition Time\": 0.265, \"Study Time for Related Objects\": 0.57, \"Exam Performance for Related Objects\": 0.6, \"Exam Performance\": 0.09, \"Knowledge Level\": \"very_low\", \"true\": \"very_low\", \"predicted\": \"very_low\"}, {\"Study Time\": 0.265, \"Repetition Time\": 0.76, \"Study Time for Related Objects\": 0.8, \"Exam Performance for Related Objects\": 0.28, \"Exam Performance\": 0.28, \"Knowledge Level\": \"Low\", \"true\": \"Low\", \"predicted\": \"Low\"}, {\"Study Time\": 0.1, \"Repetition Time\": 0.33, \"Study Time for Related Objects\": 0.02, \"Exam Performance for Related Objects\": 0.0, \"Exam Performance\": 0.25, \"Knowledge Level\": \"very_low\", \"true\": \"very_low\", \"predicted\": \"Low\"}, {\"Study Time\": 0.15, \"Repetition Time\": 0.295, \"Study Time for Related Objects\": 0.75, \"Exam Performance for Related Objects\": 0.65, \"Exam Performance\": 0.24, \"Knowledge Level\": \"Low\", \"true\": \"Low\", \"predicted\": \"Low\"}, {\"Study Time\": 0.52, \"Repetition Time\": 0.28, \"Study Time for Related Objects\": 0.32, \"Exam Performance for Related Objects\": 0.1, \"Exam Performance\": 0.1, \"Knowledge Level\": \"very_low\", \"true\": \"very_low\", \"predicted\": \"very_low\"}, {\"Study Time\": 0.22, \"Repetition Time\": 0.86, \"Study Time for Related Objects\": 0.83, \"Exam Performance for Related Objects\": 0.89, \"Exam Performance\": 0.65, \"Knowledge Level\": \"High\", \"true\": \"High\", \"predicted\": \"Middle\"}, {\"Study Time\": 0.66, \"Repetition Time\": 0.68, \"Study Time for Related Objects\": 0.81, \"Exam Performance for Related Objects\": 0.57, \"Exam Performance\": 0.57, \"Knowledge Level\": \"Middle\", \"true\": \"Middle\", \"predicted\": \"Middle\"}, {\"Study Time\": 0.2, \"Repetition Time\": 0.52, \"Study Time for Related Objects\": 0.36, \"Exam Performance for Related Objects\": 0.84, \"Exam Performance\": 0.25, \"Knowledge Level\": \"Middle\", \"true\": \"Middle\", \"predicted\": \"Low\"}, {\"Study Time\": 0.299, \"Repetition Time\": 0.7, \"Study Time for Related Objects\": 0.95, \"Exam Performance for Related Objects\": 0.22, \"Exam Performance\": 0.66, \"Knowledge Level\": \"High\", \"true\": \"High\", \"predicted\": \"Middle\"}, {\"Study Time\": 0.4, \"Repetition Time\": 0.42, \"Study Time for Related Objects\": 0.58, \"Exam Performance for Related Objects\": 0.75, \"Exam Performance\": 0.16, \"Knowledge Level\": \"Low\", \"true\": \"Low\", \"predicted\": \"Low\"}, {\"Study Time\": 0.41, \"Repetition Time\": 0.04, \"Study Time for Related Objects\": 0.33, \"Exam Performance for Related Objects\": 0.26, \"Exam Performance\": 0.12, \"Knowledge Level\": \"very_low\", \"true\": \"very_low\", \"predicted\": \"Low\"}, {\"Study Time\": 0.32, \"Repetition Time\": 0.255, \"Study Time for Related Objects\": 0.55, \"Exam Performance for Related Objects\": 0.78, \"Exam Performance\": 0.34, \"Knowledge Level\": \"Middle\", \"true\": \"Middle\", \"predicted\": \"Low\"}, {\"Study Time\": 0.9, \"Repetition Time\": 0.26, \"Study Time for Related Objects\": 0.19, \"Exam Performance for Related Objects\": 0.58, \"Exam Performance\": 0.79, \"Knowledge Level\": \"High\", \"true\": \"High\", \"predicted\": \"High\"}, {\"Study Time\": 0.2, \"Repetition Time\": 0.25, \"Study Time for Related Objects\": 0.7, \"Exam Performance for Related Objects\": 0.25, \"Exam Performance\": 0.03, \"Knowledge Level\": \"very_low\", \"true\": \"very_low\", \"predicted\": \"very_low\"}, {\"Study Time\": 0.54, \"Repetition Time\": 0.51, \"Study Time for Related Objects\": 0.55, \"Exam Performance for Related Objects\": 0.64, \"Exam Performance\": 0.19, \"Knowledge Level\": \"Low\", \"true\": \"Low\", \"predicted\": \"Low\"}, {\"Study Time\": 0.24, \"Repetition Time\": 0.75, \"Study Time for Related Objects\": 0.32, \"Exam Performance for Related Objects\": 0.18, \"Exam Performance\": 0.86, \"Knowledge Level\": \"High\", \"true\": \"High\", \"predicted\": \"High\"}, {\"Study Time\": 0.09, \"Repetition Time\": 0.61, \"Study Time for Related Objects\": 0.53, \"Exam Performance for Related Objects\": 0.75, \"Exam Performance\": 0.01, \"Knowledge Level\": \"Low\", \"true\": \"Low\", \"predicted\": \"very_low\"}, {\"Study Time\": 0.33, \"Repetition Time\": 0.34, \"Study Time for Related Objects\": 0.1, \"Exam Performance for Related Objects\": 0.49, \"Exam Performance\": 0.12, \"Knowledge Level\": \"very_low\", \"true\": \"very_low\", \"predicted\": \"very_low\"}, {\"Study Time\": 0.78, \"Repetition Time\": 0.27, \"Study Time for Related Objects\": 0.13, \"Exam Performance for Related Objects\": 0.14, \"Exam Performance\": 0.62, \"Knowledge Level\": \"Middle\", \"true\": \"Middle\", \"predicted\": \"High\"}, {\"Study Time\": 0.75, \"Repetition Time\": 0.015, \"Study Time for Related Objects\": 0.78, \"Exam Performance for Related Objects\": 0.31, \"Exam Performance\": 0.53, \"Knowledge Level\": \"Middle\", \"true\": \"Middle\", \"predicted\": \"Middle\"}, {\"Study Time\": 0.29, \"Repetition Time\": 0.29, \"Study Time for Related Objects\": 0.4, \"Exam Performance for Related Objects\": 0.78, \"Exam Performance\": 0.18, \"Knowledge Level\": \"Low\", \"true\": \"Low\", \"predicted\": \"Low\"}, {\"Study Time\": 0.4, \"Repetition Time\": 0.59, \"Study Time for Related Objects\": 0.77, \"Exam Performance for Related Objects\": 0.99, \"Exam Performance\": 0.24, \"Knowledge Level\": \"Middle\", \"true\": \"Middle\", \"predicted\": \"Low\"}, {\"Study Time\": 0.4, \"Repetition Time\": 0.15, \"Study Time for Related Objects\": 0.16, \"Exam Performance for Related Objects\": 0.3, \"Exam Performance\": 0.58, \"Knowledge Level\": \"Middle\", \"true\": \"Middle\", \"predicted\": \"Middle\"}, {\"Study Time\": 0.2, \"Repetition Time\": 0.2, \"Study Time for Related Objects\": 0.68, \"Exam Performance for Related Objects\": 0.67, \"Exam Performance\": 0.85, \"Knowledge Level\": \"High\", \"true\": \"High\", \"predicted\": \"High\"}, {\"Study Time\": 0.2, \"Repetition Time\": 0.14, \"Study Time for Related Objects\": 0.35, \"Exam Performance for Related Objects\": 0.72, \"Exam Performance\": 0.25, \"Knowledge Level\": \"Low\", \"true\": \"Low\", \"predicted\": \"Low\"}, {\"Study Time\": 0.325, \"Repetition Time\": 0.61, \"Study Time for Related Objects\": 0.46, \"Exam Performance for Related Objects\": 0.32, \"Exam Performance\": 0.81, \"Knowledge Level\": \"High\", \"true\": \"High\", \"predicted\": \"High\"}, {\"Study Time\": 0.18, \"Repetition Time\": 0.31, \"Study Time for Related Objects\": 0.81, \"Exam Performance for Related Objects\": 0.7, \"Exam Performance\": 0.4, \"Knowledge Level\": \"Middle\", \"true\": \"Middle\", \"predicted\": \"Low\"}, {\"Study Time\": 0.08, \"Repetition Time\": 0.325, \"Study Time for Related Objects\": 0.62, \"Exam Performance for Related Objects\": 0.94, \"Exam Performance\": 0.56, \"Knowledge Level\": \"High\", \"true\": \"High\", \"predicted\": \"Middle\"}, {\"Study Time\": 0.245, \"Repetition Time\": 0.26, \"Study Time for Related Objects\": 0.38, \"Exam Performance for Related Objects\": 0.49, \"Exam Performance\": 0.27, \"Knowledge Level\": \"Low\", \"true\": \"Low\", \"predicted\": \"Low\"}, {\"Study Time\": 0.78, \"Repetition Time\": 0.15, \"Study Time for Related Objects\": 0.38, \"Exam Performance for Related Objects\": 0.18, \"Exam Performance\": 0.63, \"Knowledge Level\": \"Middle\", \"true\": \"Middle\", \"predicted\": \"High\"}, {\"Study Time\": 0.13, \"Repetition Time\": 0.39, \"Study Time for Related Objects\": 0.85, \"Exam Performance for Related Objects\": 0.38, \"Exam Performance\": 0.77, \"Knowledge Level\": \"High\", \"true\": \"High\", \"predicted\": \"High\"}, {\"Study Time\": 0.27, \"Repetition Time\": 0.29, \"Study Time for Related Objects\": 0.34, \"Exam Performance for Related Objects\": 0.28, \"Exam Performance\": 0.32, \"Knowledge Level\": \"Low\", \"true\": \"Low\", \"predicted\": \"Low\"}, {\"Study Time\": 0.55, \"Repetition Time\": 0.1, \"Study Time for Related Objects\": 0.27, \"Exam Performance for Related Objects\": 0.25, \"Exam Performance\": 0.29, \"Knowledge Level\": \"Low\", \"true\": \"Low\", \"predicted\": \"Low\"}, {\"Study Time\": 0.4, \"Repetition Time\": 0.18, \"Study Time for Related Objects\": 0.26, \"Exam Performance for Related Objects\": 0.26, \"Exam Performance\": 0.67, \"Knowledge Level\": \"Middle\", \"true\": \"Middle\", \"predicted\": \"Middle\"}, {\"Study Time\": 0.06, \"Repetition Time\": 0.77, \"Study Time for Related Objects\": 0.72, \"Exam Performance for Related Objects\": 0.19, \"Exam Performance\": 0.56, \"Knowledge Level\": \"Middle\", \"true\": \"Middle\", \"predicted\": \"Middle\"}, {\"Study Time\": 0.33, \"Repetition Time\": 0.2, \"Study Time for Related Objects\": 0.64, \"Exam Performance for Related Objects\": 0.59, \"Exam Performance\": 0.94, \"Knowledge Level\": \"High\", \"true\": \"High\", \"predicted\": \"High\"}, {\"Study Time\": 0.52, \"Repetition Time\": 0.44, \"Study Time for Related Objects\": 0.82, \"Exam Performance for Related Objects\": 0.3, \"Exam Performance\": 0.52, \"Knowledge Level\": \"Middle\", \"true\": \"Middle\", \"predicted\": \"Middle\"}, {\"Study Time\": 0.25, \"Repetition Time\": 0.0, \"Study Time for Related Objects\": 0.1, \"Exam Performance for Related Objects\": 0.12, \"Exam Performance\": 0.37, \"Knowledge Level\": \"Low\", \"true\": \"Low\", \"predicted\": \"Low\"}, {\"Study Time\": 0.445, \"Repetition Time\": 0.7, \"Study Time for Related Objects\": 0.82, \"Exam Performance for Related Objects\": 0.16, \"Exam Performance\": 0.64, \"Knowledge Level\": \"Middle\", \"true\": \"Middle\", \"predicted\": \"Middle\"}, {\"Study Time\": 0.2, \"Repetition Time\": 0.29, \"Study Time for Related Objects\": 0.25, \"Exam Performance for Related Objects\": 0.49, \"Exam Performance\": 0.56, \"Knowledge Level\": \"Middle\", \"true\": \"Middle\", \"predicted\": \"Middle\"}, {\"Study Time\": 0.248, \"Repetition Time\": 0.3, \"Study Time for Related Objects\": 0.31, \"Exam Performance for Related Objects\": 0.2, \"Exam Performance\": 0.03, \"Knowledge Level\": \"very_low\", \"true\": \"very_low\", \"predicted\": \"very_low\"}, {\"Study Time\": 0.48, \"Repetition Time\": 0.12, \"Study Time for Related Objects\": 0.28, \"Exam Performance for Related Objects\": 0.7, \"Exam Performance\": 0.71, \"Knowledge Level\": \"High\", \"true\": \"High\", \"predicted\": \"Middle\"}, {\"Study Time\": 0.62, \"Repetition Time\": 0.14, \"Study Time for Related Objects\": 0.52, \"Exam Performance for Related Objects\": 0.81, \"Exam Performance\": 0.15, \"Knowledge Level\": \"Low\", \"true\": \"Low\", \"predicted\": \"Low\"}, {\"Study Time\": 0.13, \"Repetition Time\": 0.62, \"Study Time for Related Objects\": 0.77, \"Exam Performance for Related Objects\": 0.28, \"Exam Performance\": 0.31, \"Knowledge Level\": \"Low\", \"true\": \"Low\", \"predicted\": \"Low\"}, {\"Study Time\": 0.22, \"Repetition Time\": 0.48, \"Study Time for Related Objects\": 0.47, \"Exam Performance for Related Objects\": 0.78, \"Exam Performance\": 0.81, \"Knowledge Level\": \"High\", \"true\": \"High\", \"predicted\": \"High\"}, {\"Study Time\": 0.26, \"Repetition Time\": 0.26, \"Study Time for Related Objects\": 0.31, \"Exam Performance for Related Objects\": 0.26, \"Exam Performance\": 0.13, \"Knowledge Level\": \"very_low\", \"true\": \"very_low\", \"predicted\": \"very_low\"}, {\"Study Time\": 0.33, \"Repetition Time\": 0.27, \"Study Time for Related Objects\": 0.2, \"Exam Performance for Related Objects\": 0.33, \"Exam Performance\": 0.1, \"Knowledge Level\": \"very_low\", \"true\": \"very_low\", \"predicted\": \"very_low\"}, {\"Study Time\": 0.0, \"Repetition Time\": 0.0, \"Study Time for Related Objects\": 0.5, \"Exam Performance for Related Objects\": 0.2, \"Exam Performance\": 0.85, \"Knowledge Level\": \"High\", \"true\": \"High\", \"predicted\": \"High\"}, {\"Study Time\": 0.27, \"Repetition Time\": 0.12, \"Study Time for Related Objects\": 0.37, \"Exam Performance for Related Objects\": 0.29, \"Exam Performance\": 0.58, \"Knowledge Level\": \"Middle\", \"true\": \"Middle\", \"predicted\": \"Middle\"}, {\"Study Time\": 0.18, \"Repetition Time\": 0.7, \"Study Time for Related Objects\": 0.41, \"Exam Performance for Related Objects\": 0.67, \"Exam Performance\": 0.33, \"Knowledge Level\": \"Middle\", \"true\": \"Middle\", \"predicted\": \"Low\"}, {\"Study Time\": 0.299, \"Repetition Time\": 0.32, \"Study Time for Related Objects\": 0.31, \"Exam Performance for Related Objects\": 0.33, \"Exam Performance\": 0.87, \"Knowledge Level\": \"High\", \"true\": \"High\", \"predicted\": \"High\"}, {\"Study Time\": 0.23, \"Repetition Time\": 0.29, \"Study Time for Related Objects\": 0.45, \"Exam Performance for Related Objects\": 0.18, \"Exam Performance\": 0.88, \"Knowledge Level\": \"High\", \"true\": \"High\", \"predicted\": \"High\"}, {\"Study Time\": 0.13, \"Repetition Time\": 0.4, \"Study Time for Related Objects\": 0.17, \"Exam Performance for Related Objects\": 0.25, \"Exam Performance\": 0.38, \"Knowledge Level\": \"Low\", \"true\": \"Low\", \"predicted\": \"Low\"}, {\"Study Time\": 0.0, \"Repetition Time\": 0.1, \"Study Time for Related Objects\": 0.5, \"Exam Performance for Related Objects\": 0.26, \"Exam Performance\": 0.05, \"Knowledge Level\": \"very_low\", \"true\": \"very_low\", \"predicted\": \"very_low\"}, {\"Study Time\": 0.68, \"Repetition Time\": 0.43, \"Study Time for Related Objects\": 0.6, \"Exam Performance for Related Objects\": 0.47, \"Exam Performance\": 0.55, \"Knowledge Level\": \"Middle\", \"true\": \"Middle\", \"predicted\": \"Middle\"}, {\"Study Time\": 0.51, \"Repetition Time\": 0.4, \"Study Time for Related Objects\": 0.4, \"Exam Performance for Related Objects\": 0.59, \"Exam Performance\": 0.23, \"Knowledge Level\": \"Low\", \"true\": \"Low\", \"predicted\": \"Low\"}, {\"Study Time\": 0.15, \"Repetition Time\": 0.67, \"Study Time for Related Objects\": 0.56, \"Exam Performance for Related Objects\": 0.07, \"Exam Performance\": 0.66, \"Knowledge Level\": \"Middle\", \"true\": \"Middle\", \"predicted\": \"Middle\"}, {\"Study Time\": 0.28, \"Repetition Time\": 0.12, \"Study Time for Related Objects\": 0.38, \"Exam Performance for Related Objects\": 0.17, \"Exam Performance\": 0.6, \"Knowledge Level\": \"Middle\", \"true\": \"Middle\", \"predicted\": \"Middle\"}, {\"Study Time\": 0.09, \"Repetition Time\": 0.38, \"Study Time for Related Objects\": 0.54, \"Exam Performance for Related Objects\": 0.69, \"Exam Performance\": 0.21, \"Knowledge Level\": \"Low\", \"true\": \"Low\", \"predicted\": \"Low\"}, {\"Study Time\": 0.61, \"Repetition Time\": 0.38, \"Study Time for Related Objects\": 0.09, \"Exam Performance for Related Objects\": 0.38, \"Exam Performance\": 0.3, \"Knowledge Level\": \"Low\", \"true\": \"Low\", \"predicted\": \"Low\"}, {\"Study Time\": 0.2, \"Repetition Time\": 0.49, \"Study Time for Related Objects\": 0.68, \"Exam Performance for Related Objects\": 0.76, \"Exam Performance\": 0.78, \"Knowledge Level\": \"High\", \"true\": \"High\", \"predicted\": \"High\"}, {\"Study Time\": 0.5, \"Repetition Time\": 0.75, \"Study Time for Related Objects\": 0.81, \"Exam Performance for Related Objects\": 0.61, \"Exam Performance\": 0.26, \"Knowledge Level\": \"Middle\", \"true\": \"Middle\", \"predicted\": \"Low\"}, {\"Study Time\": 0.26, \"Repetition Time\": 0.28, \"Study Time for Related Objects\": 0.6, \"Exam Performance for Related Objects\": 0.29, \"Exam Performance\": 0.59, \"Knowledge Level\": \"Middle\", \"true\": \"Middle\", \"predicted\": \"Middle\"}, {\"Study Time\": 0.285, \"Repetition Time\": 0.64, \"Study Time for Related Objects\": 0.18, \"Exam Performance for Related Objects\": 0.61, \"Exam Performance\": 0.45, \"Knowledge Level\": \"Middle\", \"true\": \"Middle\", \"predicted\": \"Middle\"}, {\"Study Time\": 0.1, \"Repetition Time\": 0.42, \"Study Time for Related Objects\": 0.22, \"Exam Performance for Related Objects\": 0.72, \"Exam Performance\": 0.26, \"Knowledge Level\": \"Low\", \"true\": \"Low\", \"predicted\": \"Low\"}, {\"Study Time\": 0.58, \"Repetition Time\": 0.348, \"Study Time for Related Objects\": 0.06, \"Exam Performance for Related Objects\": 0.29, \"Exam Performance\": 0.31, \"Knowledge Level\": \"Low\", \"true\": \"Low\", \"predicted\": \"Low\"}, {\"Study Time\": 0.275, \"Repetition Time\": 0.1, \"Study Time for Related Objects\": 0.72, \"Exam Performance for Related Objects\": 0.1, \"Exam Performance\": 0.3, \"Knowledge Level\": \"Low\", \"true\": \"Low\", \"predicted\": \"Low\"}, {\"Study Time\": 0.06, \"Repetition Time\": 0.35, \"Study Time for Related Objects\": 0.12, \"Exam Performance for Related Objects\": 0.43, \"Exam Performance\": 0.29, \"Knowledge Level\": \"Low\", \"true\": \"Low\", \"predicted\": \"Low\"}, {\"Study Time\": 0.72, \"Repetition Time\": 0.6, \"Study Time for Related Objects\": 0.45, \"Exam Performance for Related Objects\": 0.79, \"Exam Performance\": 0.45, \"Knowledge Level\": \"Middle\", \"true\": \"Middle\", \"predicted\": \"Middle\"}, {\"Study Time\": 0.44, \"Repetition Time\": 0.08, \"Study Time for Related Objects\": 0.8, \"Exam Performance for Related Objects\": 0.22, \"Exam Performance\": 0.56, \"Knowledge Level\": \"Middle\", \"true\": \"Middle\", \"predicted\": \"Middle\"}, {\"Study Time\": 0.22, \"Repetition Time\": 0.8, \"Study Time for Related Objects\": 0.44, \"Exam Performance for Related Objects\": 0.78, \"Exam Performance\": 0.88, \"Knowledge Level\": \"High\", \"true\": \"High\", \"predicted\": \"High\"}, {\"Study Time\": 0.78, \"Repetition Time\": 0.47, \"Study Time for Related Objects\": 0.24, \"Exam Performance for Related Objects\": 0.3, \"Exam Performance\": 0.93, \"Knowledge Level\": \"High\", \"true\": \"High\", \"predicted\": \"High\"}, {\"Study Time\": 0.323, \"Repetition Time\": 0.32, \"Study Time for Related Objects\": 0.89, \"Exam Performance for Related Objects\": 0.32, \"Exam Performance\": 0.8, \"Knowledge Level\": \"High\", \"true\": \"High\", \"predicted\": \"High\"}, {\"Study Time\": 0.18, \"Repetition Time\": 0.51, \"Study Time for Related Objects\": 0.58, \"Exam Performance for Related Objects\": 0.33, \"Exam Performance\": 0.82, \"Knowledge Level\": \"High\", \"true\": \"High\", \"predicted\": \"High\"}, {\"Study Time\": 0.18, \"Repetition Time\": 0.31, \"Study Time for Related Objects\": 0.32, \"Exam Performance for Related Objects\": 0.42, \"Exam Performance\": 0.28, \"Knowledge Level\": \"Low\", \"true\": \"Low\", \"predicted\": \"Low\"}, {\"Study Time\": 0.58, \"Repetition Time\": 0.58, \"Study Time for Related Objects\": 0.31, \"Exam Performance for Related Objects\": 0.29, \"Exam Performance\": 0.29, \"Knowledge Level\": \"Low\", \"true\": \"Low\", \"predicted\": \"Low\"}, {\"Study Time\": 0.09, \"Repetition Time\": 0.3, \"Study Time for Related Objects\": 0.68, \"Exam Performance for Related Objects\": 0.18, \"Exam Performance\": 0.85, \"Knowledge Level\": \"High\", \"true\": \"High\", \"predicted\": \"High\"}, {\"Study Time\": 0.265, \"Repetition Time\": 0.06, \"Study Time for Related Objects\": 0.57, \"Exam Performance for Related Objects\": 0.75, \"Exam Performance\": 0.1, \"Knowledge Level\": \"Low\", \"true\": \"Low\", \"predicted\": \"very_low\"}, {\"Study Time\": 0.25, \"Repetition Time\": 0.26, \"Study Time for Related Objects\": 0.51, \"Exam Performance for Related Objects\": 0.04, \"Exam Performance\": 0.13, \"Knowledge Level\": \"very_low\", \"true\": \"very_low\", \"predicted\": \"very_low\"}, {\"Study Time\": 0.38, \"Repetition Time\": 0.09, \"Study Time for Related Objects\": 0.37, \"Exam Performance for Related Objects\": 0.28, \"Exam Performance\": 0.32, \"Knowledge Level\": \"Low\", \"true\": \"Low\", \"predicted\": \"Low\"}, {\"Study Time\": 0.39, \"Repetition Time\": 0.05, \"Study Time for Related Objects\": 0.02, \"Exam Performance for Related Objects\": 0.06, \"Exam Performance\": 0.34, \"Knowledge Level\": \"Low\", \"true\": \"Low\", \"predicted\": \"Low\"}, {\"Study Time\": 0.61, \"Repetition Time\": 0.33, \"Study Time for Related Objects\": 0.36, \"Exam Performance for Related Objects\": 0.28, \"Exam Performance\": 0.28, \"Knowledge Level\": \"Low\", \"true\": \"Low\", \"predicted\": \"Low\"}, {\"Study Time\": 0.365, \"Repetition Time\": 0.68, \"Study Time for Related Objects\": 0.1, \"Exam Performance for Related Objects\": 0.63, \"Exam Performance\": 0.18, \"Knowledge Level\": \"Low\", \"true\": \"Low\", \"predicted\": \"Low\"}, {\"Study Time\": 0.255, \"Repetition Time\": 0.305, \"Study Time for Related Objects\": 0.86, \"Exam Performance for Related Objects\": 0.62, \"Exam Performance\": 0.15, \"Knowledge Level\": \"Low\", \"true\": \"Low\", \"predicted\": \"very_low\"}, {\"Study Time\": 0.3, \"Repetition Time\": 0.27, \"Study Time for Related Objects\": 0.31, \"Exam Performance for Related Objects\": 0.31, \"Exam Performance\": 0.54, \"Knowledge Level\": \"Middle\", \"true\": \"Middle\", \"predicted\": \"Middle\"}, {\"Study Time\": 0.62, \"Repetition Time\": 0.37, \"Study Time for Related Objects\": 0.81, \"Exam Performance for Related Objects\": 0.13, \"Exam Performance\": 0.64, \"Knowledge Level\": \"Middle\", \"true\": \"Middle\", \"predicted\": \"Middle\"}, {\"Study Time\": 0.68, \"Repetition Time\": 0.16, \"Study Time for Related Objects\": 0.2, \"Exam Performance for Related Objects\": 0.59, \"Exam Performance\": 0.6, \"Knowledge Level\": \"Middle\", \"true\": \"Middle\", \"predicted\": \"Middle\"}, {\"Study Time\": 0.8, \"Repetition Time\": 0.29, \"Study Time for Related Objects\": 0.06, \"Exam Performance for Related Objects\": 0.31, \"Exam Performance\": 0.51, \"Knowledge Level\": \"Middle\", \"true\": \"Middle\", \"predicted\": \"Middle\"}, {\"Study Time\": 0.68, \"Repetition Time\": 0.27, \"Study Time for Related Objects\": 0.78, \"Exam Performance for Related Objects\": 0.31, \"Exam Performance\": 0.57, \"Knowledge Level\": \"Middle\", \"true\": \"Middle\", \"predicted\": \"Middle\"}, {\"Study Time\": 0.28, \"Repetition Time\": 0.55, \"Study Time for Related Objects\": 0.38, \"Exam Performance for Related Objects\": 0.9, \"Exam Performance\": 0.22, \"Knowledge Level\": \"Low\", \"true\": \"Low\", \"predicted\": \"Low\"}, {\"Study Time\": 0.11, \"Repetition Time\": 0.88, \"Study Time for Related Objects\": 0.67, \"Exam Performance for Related Objects\": 0.66, \"Exam Performance\": 0.89, \"Knowledge Level\": \"High\", \"true\": \"High\", \"predicted\": \"High\"}, {\"Study Time\": 0.6, \"Repetition Time\": 0.08, \"Study Time for Related Objects\": 0.13, \"Exam Performance for Related Objects\": 0.14, \"Exam Performance\": 0.32, \"Knowledge Level\": \"Low\", \"true\": \"Low\", \"predicted\": \"Low\"}, {\"Study Time\": 0.31, \"Repetition Time\": 0.32, \"Study Time for Related Objects\": 0.29, \"Exam Performance for Related Objects\": 0.31, \"Exam Performance\": 0.96, \"Knowledge Level\": \"High\", \"true\": \"High\", \"predicted\": \"High\"}]}}, {\"mode\": \"vega-lite\"});\n",
       "</script>"
      ],
      "text/plain": [
       "alt.HConcatChart(...)"
      ]
     },
     "execution_count": 237,
     "metadata": {},
     "output_type": "execute_result"
    }
   ],
   "source": [
    "# plot the predicted testing set \n",
    "pred_chart = alt.Chart(predicted_test, title=\"Predicted Categories\").mark_point().encode(\n",
    "    x = alt.X(\"Study Time\").title(\"Study Time\"),\n",
    "    y = alt.Y(\"Exam Performance\").title(\"Exam Performance\"),\n",
    "    color = alt.Color(\"predicted\").title(\"Knowledge Level\")\n",
    ")\n",
    "\n",
    "# plot the true values for the testing set\n",
    "test_true_chart = alt.Chart(predicted_test, title=\"True Categories\").mark_point().encode(\n",
    "    x = alt.X(\"Study Time\").title(\"Study Time\"),\n",
    "    y = alt.Y(\"Exam Performance\").title(\"Exam Performance\"),\n",
    "    color = alt.Color(\"true\")\n",
    ")\n",
    "\n",
    "# plot the charts side by side\n",
    "test_true_chart | pred_chart"
   ]
  },
  {
   "cell_type": "code",
   "execution_count": null,
   "id": "6496c8e5-9244-43e2-8ed3-c5d153bc81e4",
   "metadata": {},
   "outputs": [],
   "source": []
  }
 ],
 "metadata": {
  "kernelspec": {
   "display_name": "Python 3 (ipykernel)",
   "language": "python",
   "name": "python3"
  },
  "language_info": {
   "codemirror_mode": {
    "name": "ipython",
    "version": 3
   },
   "file_extension": ".py",
   "mimetype": "text/x-python",
   "name": "python",
   "nbconvert_exporter": "python",
   "pygments_lexer": "ipython3",
   "version": "3.10.8"
  }
 },
 "nbformat": 4,
 "nbformat_minor": 5
}
